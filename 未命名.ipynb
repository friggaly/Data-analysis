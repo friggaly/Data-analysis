{
 "cells": [
  {
   "cell_type": "code",
   "execution_count": 1,
   "metadata": {},
   "outputs": [],
   "source": [
    "####7.1\n",
    "####question 1"
   ]
  },
  {
   "cell_type": "code",
   "execution_count": null,
   "metadata": {},
   "outputs": [],
   "source": [
    "hairpain <- read.table(file=\"/Users/frigga/study/Statistics/Data/Data/hairpain.txt\",sep=',',header = T)"
   ]
  },
  {
   "cell_type": "code",
   "execution_count": 2,
   "metadata": {},
   "outputs": [
    {
     "data": {
      "text/html": [
       "<table>\n",
       "<caption>A data.frame: 19 × 2</caption>\n",
       "<thead>\n",
       "\t<tr><th scope=col>haircolour</th><th scope=col>painthresh</th></tr>\n",
       "\t<tr><th scope=col>&lt;fct&gt;</th><th scope=col>&lt;int&gt;</th></tr>\n",
       "</thead>\n",
       "<tbody>\n",
       "\t<tr><td>Light-Blond   </td><td>62</td></tr>\n",
       "\t<tr><td>Light-Blond   </td><td>60</td></tr>\n",
       "\t<tr><td>Light-Blond   </td><td>71</td></tr>\n",
       "\t<tr><td>Light-Blond   </td><td>55</td></tr>\n",
       "\t<tr><td>Light-Blond   </td><td>48</td></tr>\n",
       "\t<tr><td>Dark-Blond    </td><td>57</td></tr>\n",
       "\t<tr><td>Dark-Blond    </td><td>63</td></tr>\n",
       "\t<tr><td>Dark-Blond    </td><td>52</td></tr>\n",
       "\t<tr><td>Dark-Blond    </td><td>41</td></tr>\n",
       "\t<tr><td>Dark-Blond    </td><td>43</td></tr>\n",
       "\t<tr><td>Light-Brunette</td><td>42</td></tr>\n",
       "\t<tr><td>Light-Brunette</td><td>50</td></tr>\n",
       "\t<tr><td>Light-Brunette</td><td>41</td></tr>\n",
       "\t<tr><td>Light-Brunette</td><td>37</td></tr>\n",
       "\t<tr><td>Dark-Brunette </td><td>32</td></tr>\n",
       "\t<tr><td>Dark-Brunette </td><td>39</td></tr>\n",
       "\t<tr><td>Dark-Brunette </td><td>51</td></tr>\n",
       "\t<tr><td>Dark-Brunette </td><td>30</td></tr>\n",
       "\t<tr><td>Dark-Brunette </td><td>35</td></tr>\n",
       "</tbody>\n",
       "</table>\n"
      ],
      "text/latex": [
       "A data.frame: 19 × 2\n",
       "\\begin{tabular}{r|ll}\n",
       " haircolour & painthresh\\\\\n",
       " <fct> & <int>\\\\\n",
       "\\hline\n",
       "\t Light-Blond    & 62\\\\\n",
       "\t Light-Blond    & 60\\\\\n",
       "\t Light-Blond    & 71\\\\\n",
       "\t Light-Blond    & 55\\\\\n",
       "\t Light-Blond    & 48\\\\\n",
       "\t Dark-Blond     & 57\\\\\n",
       "\t Dark-Blond     & 63\\\\\n",
       "\t Dark-Blond     & 52\\\\\n",
       "\t Dark-Blond     & 41\\\\\n",
       "\t Dark-Blond     & 43\\\\\n",
       "\t Light-Brunette & 42\\\\\n",
       "\t Light-Brunette & 50\\\\\n",
       "\t Light-Brunette & 41\\\\\n",
       "\t Light-Brunette & 37\\\\\n",
       "\t Dark-Brunette  & 32\\\\\n",
       "\t Dark-Brunette  & 39\\\\\n",
       "\t Dark-Brunette  & 51\\\\\n",
       "\t Dark-Brunette  & 30\\\\\n",
       "\t Dark-Brunette  & 35\\\\\n",
       "\\end{tabular}\n"
      ],
      "text/markdown": [
       "\n",
       "A data.frame: 19 × 2\n",
       "\n",
       "| haircolour &lt;fct&gt; | painthresh &lt;int&gt; |\n",
       "|---|---|\n",
       "| Light-Blond    | 62 |\n",
       "| Light-Blond    | 60 |\n",
       "| Light-Blond    | 71 |\n",
       "| Light-Blond    | 55 |\n",
       "| Light-Blond    | 48 |\n",
       "| Dark-Blond     | 57 |\n",
       "| Dark-Blond     | 63 |\n",
       "| Dark-Blond     | 52 |\n",
       "| Dark-Blond     | 41 |\n",
       "| Dark-Blond     | 43 |\n",
       "| Light-Brunette | 42 |\n",
       "| Light-Brunette | 50 |\n",
       "| Light-Brunette | 41 |\n",
       "| Light-Brunette | 37 |\n",
       "| Dark-Brunette  | 32 |\n",
       "| Dark-Brunette  | 39 |\n",
       "| Dark-Brunette  | 51 |\n",
       "| Dark-Brunette  | 30 |\n",
       "| Dark-Brunette  | 35 |\n",
       "\n"
      ],
      "text/plain": [
       "   haircolour     painthresh\n",
       "1  Light-Blond    62        \n",
       "2  Light-Blond    60        \n",
       "3  Light-Blond    71        \n",
       "4  Light-Blond    55        \n",
       "5  Light-Blond    48        \n",
       "6  Dark-Blond     57        \n",
       "7  Dark-Blond     63        \n",
       "8  Dark-Blond     52        \n",
       "9  Dark-Blond     41        \n",
       "10 Dark-Blond     43        \n",
       "11 Light-Brunette 42        \n",
       "12 Light-Brunette 50        \n",
       "13 Light-Brunette 41        \n",
       "14 Light-Brunette 37        \n",
       "15 Dark-Brunette  32        \n",
       "16 Dark-Brunette  39        \n",
       "17 Dark-Brunette  51        \n",
       "18 Dark-Brunette  30        \n",
       "19 Dark-Brunette  35        "
      ]
     },
     "metadata": {},
     "output_type": "display_data"
    }
   ],
   "source": [
    "hairpain"
   ]
  },
  {
   "cell_type": "code",
   "execution_count": 3,
   "metadata": {},
   "outputs": [
    {
     "data": {
      "text/html": [
       "<ol class=list-inline>\n",
       "\t<li>'Dark-Blond'</li>\n",
       "\t<li>'Dark-Brunette'</li>\n",
       "\t<li>'Light-Blond'</li>\n",
       "\t<li>'Light-Brunette'</li>\n",
       "</ol>\n"
      ],
      "text/latex": [
       "\\begin{enumerate*}\n",
       "\\item 'Dark-Blond'\n",
       "\\item 'Dark-Brunette'\n",
       "\\item 'Light-Blond'\n",
       "\\item 'Light-Brunette'\n",
       "\\end{enumerate*}\n"
      ],
      "text/markdown": [
       "1. 'Dark-Blond'\n",
       "2. 'Dark-Brunette'\n",
       "3. 'Light-Blond'\n",
       "4. 'Light-Brunette'\n",
       "\n",
       "\n"
      ],
      "text/plain": [
       "[1] \"Dark-Blond\"     \"Dark-Brunette\"  \"Light-Blond\"    \"Light-Brunette\""
      ]
     },
     "metadata": {},
     "output_type": "display_data"
    }
   ],
   "source": [
    "levels(hairpain$haircolour)"
   ]
  },
  {
   "cell_type": "code",
   "execution_count": 4,
   "metadata": {},
   "outputs": [
    {
     "name": "stderr",
     "output_type": "stream",
     "text": [
      "\n",
      "Attaching package: ‘dplyr’\n",
      "\n",
      "\n",
      "The following objects are masked from ‘package:stats’:\n",
      "\n",
      "    filter, lag\n",
      "\n",
      "\n",
      "The following objects are masked from ‘package:base’:\n",
      "\n",
      "    intersect, setdiff, setequal, union\n",
      "\n",
      "\n"
     ]
    }
   ],
   "source": [
    "library(dplyr)"
   ]
  },
  {
   "cell_type": "code",
   "execution_count": 7,
   "metadata": {},
   "outputs": [
    {
     "data": {
      "text/html": [
       "<table>\n",
       "<caption>A tibble: 4 × 4</caption>\n",
       "<thead>\n",
       "\t<tr><th scope=col>haircolour</th><th scope=col>count</th><th scope=col>mean</th><th scope=col>sd</th></tr>\n",
       "\t<tr><th scope=col>&lt;fct&gt;</th><th scope=col>&lt;int&gt;</th><th scope=col>&lt;dbl&gt;</th><th scope=col>&lt;dbl&gt;</th></tr>\n",
       "</thead>\n",
       "<tbody>\n",
       "\t<tr><td>Dark-Blond    </td><td>5</td><td>51.2</td><td>9.284396</td></tr>\n",
       "\t<tr><td>Dark-Brunette </td><td>5</td><td>37.4</td><td>8.324662</td></tr>\n",
       "\t<tr><td>Light-Blond   </td><td>5</td><td>59.2</td><td>8.526429</td></tr>\n",
       "\t<tr><td>Light-Brunette</td><td>4</td><td>42.5</td><td>5.446712</td></tr>\n",
       "</tbody>\n",
       "</table>\n"
      ],
      "text/latex": [
       "A tibble: 4 × 4\n",
       "\\begin{tabular}{r|llll}\n",
       " haircolour & count & mean & sd\\\\\n",
       " <fct> & <int> & <dbl> & <dbl>\\\\\n",
       "\\hline\n",
       "\t Dark-Blond     & 5 & 51.2 & 9.284396\\\\\n",
       "\t Dark-Brunette  & 5 & 37.4 & 8.324662\\\\\n",
       "\t Light-Blond    & 5 & 59.2 & 8.526429\\\\\n",
       "\t Light-Brunette & 4 & 42.5 & 5.446712\\\\\n",
       "\\end{tabular}\n"
      ],
      "text/markdown": [
       "\n",
       "A tibble: 4 × 4\n",
       "\n",
       "| haircolour &lt;fct&gt; | count &lt;int&gt; | mean &lt;dbl&gt; | sd &lt;dbl&gt; |\n",
       "|---|---|---|---|\n",
       "| Dark-Blond     | 5 | 51.2 | 9.284396 |\n",
       "| Dark-Brunette  | 5 | 37.4 | 8.324662 |\n",
       "| Light-Blond    | 5 | 59.2 | 8.526429 |\n",
       "| Light-Brunette | 4 | 42.5 | 5.446712 |\n",
       "\n"
      ],
      "text/plain": [
       "  haircolour     count mean sd      \n",
       "1 Dark-Blond     5     51.2 9.284396\n",
       "2 Dark-Brunette  5     37.4 8.324662\n",
       "3 Light-Blond    5     59.2 8.526429\n",
       "4 Light-Brunette 4     42.5 5.446712"
      ]
     },
     "metadata": {},
     "output_type": "display_data"
    }
   ],
   "source": [
    "group_by(hairpain,haircolour) %>%\n",
    "    summarise(\n",
    "        count = n(),\n",
    "        mean = mean(painthresh, na.rm = TRUE),\n",
    "        sd = sd(painthresh, na.rm = TRUE)\n",
    "    )"
   ]
  },
  {
   "cell_type": "code",
   "execution_count": 9,
   "metadata": {},
   "outputs": [],
   "source": [
    "res.aov <- aov(painthresh ~ haircolour,data = hairpain)"
   ]
  },
  {
   "cell_type": "code",
   "execution_count": 11,
   "metadata": {},
   "outputs": [
    {
     "data": {
      "text/plain": [
       "            Df Sum Sq Mean Sq F value  Pr(>F)   \n",
       "haircolour   3   1361   453.6   6.791 0.00411 **\n",
       "Residuals   15   1002    66.8                   \n",
       "---\n",
       "Signif. codes:  0 ‘***’ 0.001 ‘**’ 0.01 ‘*’ 0.05 ‘.’ 0.1 ‘ ’ 1"
      ]
     },
     "metadata": {},
     "output_type": "display_data"
    }
   ],
   "source": [
    "summary(res.aov)"
   ]
  },
  {
   "cell_type": "code",
   "execution_count": null,
   "metadata": {},
   "outputs": [],
   "source": [
    "###observed significant level is 0.01"
   ]
  },
  {
   "cell_type": "code",
   "execution_count": null,
   "metadata": {},
   "outputs": [],
   "source": [
    "#####question 2"
   ]
  },
  {
   "cell_type": "code",
   "execution_count": 17,
   "metadata": {},
   "outputs": [],
   "source": [
    "Inoculin <- read.table(file=\"/Users/frigga/study/Statistics/Data/Data/inoculin.txt\",sep=',',header = T)"
   ]
  },
  {
   "cell_type": "code",
   "execution_count": 18,
   "metadata": {},
   "outputs": [
    {
     "data": {
      "text/html": [
       "<table>\n",
       "<caption>A data.frame: 20 × 2</caption>\n",
       "<thead>\n",
       "\t<tr><th scope=col>inoculin</th><th scope=col>weightinc</th></tr>\n",
       "\t<tr><th scope=col>&lt;int&gt;</th><th scope=col>&lt;int&gt;</th></tr>\n",
       "</thead>\n",
       "<tbody>\n",
       "\t<tr><td>1</td><td>15</td></tr>\n",
       "\t<tr><td>1</td><td>18</td></tr>\n",
       "\t<tr><td>1</td><td> 9</td></tr>\n",
       "\t<tr><td>1</td><td>16</td></tr>\n",
       "\t<tr><td>2</td><td>21</td></tr>\n",
       "\t<tr><td>2</td><td>13</td></tr>\n",
       "\t<tr><td>2</td><td>20</td></tr>\n",
       "\t<tr><td>2</td><td>17</td></tr>\n",
       "\t<tr><td>3</td><td>22</td></tr>\n",
       "\t<tr><td>3</td><td>19</td></tr>\n",
       "\t<tr><td>3</td><td>24</td></tr>\n",
       "\t<tr><td>3</td><td>21</td></tr>\n",
       "\t<tr><td>4</td><td>10</td></tr>\n",
       "\t<tr><td>4</td><td>14</td></tr>\n",
       "\t<tr><td>4</td><td>21</td></tr>\n",
       "\t<tr><td>4</td><td>13</td></tr>\n",
       "\t<tr><td>5</td><td> 6</td></tr>\n",
       "\t<tr><td>5</td><td>11</td></tr>\n",
       "\t<tr><td>5</td><td>15</td></tr>\n",
       "\t<tr><td>5</td><td> 8</td></tr>\n",
       "</tbody>\n",
       "</table>\n"
      ],
      "text/latex": [
       "A data.frame: 20 × 2\n",
       "\\begin{tabular}{r|ll}\n",
       " inoculin & weightinc\\\\\n",
       " <int> & <int>\\\\\n",
       "\\hline\n",
       "\t 1 & 15\\\\\n",
       "\t 1 & 18\\\\\n",
       "\t 1 &  9\\\\\n",
       "\t 1 & 16\\\\\n",
       "\t 2 & 21\\\\\n",
       "\t 2 & 13\\\\\n",
       "\t 2 & 20\\\\\n",
       "\t 2 & 17\\\\\n",
       "\t 3 & 22\\\\\n",
       "\t 3 & 19\\\\\n",
       "\t 3 & 24\\\\\n",
       "\t 3 & 21\\\\\n",
       "\t 4 & 10\\\\\n",
       "\t 4 & 14\\\\\n",
       "\t 4 & 21\\\\\n",
       "\t 4 & 13\\\\\n",
       "\t 5 &  6\\\\\n",
       "\t 5 & 11\\\\\n",
       "\t 5 & 15\\\\\n",
       "\t 5 &  8\\\\\n",
       "\\end{tabular}\n"
      ],
      "text/markdown": [
       "\n",
       "A data.frame: 20 × 2\n",
       "\n",
       "| inoculin &lt;int&gt; | weightinc &lt;int&gt; |\n",
       "|---|---|\n",
       "| 1 | 15 |\n",
       "| 1 | 18 |\n",
       "| 1 |  9 |\n",
       "| 1 | 16 |\n",
       "| 2 | 21 |\n",
       "| 2 | 13 |\n",
       "| 2 | 20 |\n",
       "| 2 | 17 |\n",
       "| 3 | 22 |\n",
       "| 3 | 19 |\n",
       "| 3 | 24 |\n",
       "| 3 | 21 |\n",
       "| 4 | 10 |\n",
       "| 4 | 14 |\n",
       "| 4 | 21 |\n",
       "| 4 | 13 |\n",
       "| 5 |  6 |\n",
       "| 5 | 11 |\n",
       "| 5 | 15 |\n",
       "| 5 |  8 |\n",
       "\n"
      ],
      "text/plain": [
       "   inoculin weightinc\n",
       "1  1        15       \n",
       "2  1        18       \n",
       "3  1         9       \n",
       "4  1        16       \n",
       "5  2        21       \n",
       "6  2        13       \n",
       "7  2        20       \n",
       "8  2        17       \n",
       "9  3        22       \n",
       "10 3        19       \n",
       "11 3        24       \n",
       "12 3        21       \n",
       "13 4        10       \n",
       "14 4        14       \n",
       "15 4        21       \n",
       "16 4        13       \n",
       "17 5         6       \n",
       "18 5        11       \n",
       "19 5        15       \n",
       "20 5         8       "
      ]
     },
     "metadata": {},
     "output_type": "display_data"
    }
   ],
   "source": [
    "Inoculin"
   ]
  },
  {
   "cell_type": "code",
   "execution_count": 23,
   "metadata": {},
   "outputs": [],
   "source": [
    "GroupStat<-group_by(Inoculin,inoculin) %>%\n",
    "    summarise(\n",
    "        count = n(),\n",
    "        mean = mean(weightinc, na.rm = TRUE),\n",
    "        sd = sd(weightinc, na.rm = TRUE)\n",
    "    )\n"
   ]
  },
  {
   "cell_type": "code",
   "execution_count": 24,
   "metadata": {},
   "outputs": [
    {
     "data": {
      "text/html": [
       "<table>\n",
       "<caption>A tibble: 5 × 4</caption>\n",
       "<thead>\n",
       "\t<tr><th scope=col>inoculin</th><th scope=col>count</th><th scope=col>mean</th><th scope=col>sd</th></tr>\n",
       "\t<tr><th scope=col>&lt;int&gt;</th><th scope=col>&lt;int&gt;</th><th scope=col>&lt;dbl&gt;</th><th scope=col>&lt;dbl&gt;</th></tr>\n",
       "</thead>\n",
       "<tbody>\n",
       "\t<tr><td>1</td><td>4</td><td>14.50</td><td>3.872983</td></tr>\n",
       "\t<tr><td>2</td><td>4</td><td>17.75</td><td>3.593976</td></tr>\n",
       "\t<tr><td>3</td><td>4</td><td>21.50</td><td>2.081666</td></tr>\n",
       "\t<tr><td>4</td><td>4</td><td>14.50</td><td>4.654747</td></tr>\n",
       "\t<tr><td>5</td><td>4</td><td>10.00</td><td>3.915780</td></tr>\n",
       "</tbody>\n",
       "</table>\n"
      ],
      "text/latex": [
       "A tibble: 5 × 4\n",
       "\\begin{tabular}{r|llll}\n",
       " inoculin & count & mean & sd\\\\\n",
       " <int> & <int> & <dbl> & <dbl>\\\\\n",
       "\\hline\n",
       "\t 1 & 4 & 14.50 & 3.872983\\\\\n",
       "\t 2 & 4 & 17.75 & 3.593976\\\\\n",
       "\t 3 & 4 & 21.50 & 2.081666\\\\\n",
       "\t 4 & 4 & 14.50 & 4.654747\\\\\n",
       "\t 5 & 4 & 10.00 & 3.915780\\\\\n",
       "\\end{tabular}\n"
      ],
      "text/markdown": [
       "\n",
       "A tibble: 5 × 4\n",
       "\n",
       "| inoculin &lt;int&gt; | count &lt;int&gt; | mean &lt;dbl&gt; | sd &lt;dbl&gt; |\n",
       "|---|---|---|---|\n",
       "| 1 | 4 | 14.50 | 3.872983 |\n",
       "| 2 | 4 | 17.75 | 3.593976 |\n",
       "| 3 | 4 | 21.50 | 2.081666 |\n",
       "| 4 | 4 | 14.50 | 4.654747 |\n",
       "| 5 | 4 | 10.00 | 3.915780 |\n",
       "\n"
      ],
      "text/plain": [
       "  inoculin count mean  sd      \n",
       "1 1        4     14.50 3.872983\n",
       "2 2        4     17.75 3.593976\n",
       "3 3        4     21.50 2.081666\n",
       "4 4        4     14.50 4.654747\n",
       "5 5        4     10.00 3.915780"
      ]
     },
     "metadata": {},
     "output_type": "display_data"
    }
   ],
   "source": [
    "GroupStat"
   ]
  },
  {
   "cell_type": "code",
   "execution_count": 25,
   "metadata": {},
   "outputs": [],
   "source": [
    "res.aov <- aov(weightinc ~ inoculin,data = Inoculin)"
   ]
  },
  {
   "cell_type": "code",
   "execution_count": 37,
   "metadata": {},
   "outputs": [
    {
     "data": {
      "text/plain": [
       "            Df Sum Sq Mean Sq F value Pr(>F)\n",
       "inoculin     1   60.0   60.03   2.453  0.135\n",
       "Residuals   18  440.5   24.47               "
      ]
     },
     "metadata": {},
     "output_type": "display_data"
    }
   ],
   "source": [
    "summary(res.aov)"
   ]
  },
  {
   "cell_type": "code",
   "execution_count": null,
   "metadata": {},
   "outputs": [],
   "source": [
    "###observed significant level is 0.5"
   ]
  },
  {
   "cell_type": "code",
   "execution_count": 28,
   "metadata": {},
   "outputs": [
    {
     "data": {
      "text/html": [
       "500.55"
      ],
      "text/latex": [
       "500.55"
      ],
      "text/markdown": [
       "500.55"
      ],
      "text/plain": [
       "[1] 500.55"
      ]
     },
     "metadata": {},
     "output_type": "display_data"
    }
   ],
   "source": [
    "###SST\n",
    "SST<-var(Inoculin$weightinc) * (length(Inoculin$weightinc)-1) \n",
    "SST"
   ]
  },
  {
   "cell_type": "code",
   "execution_count": 30,
   "metadata": {},
   "outputs": [
    {
     "data": {
      "text/html": [
       "292.8"
      ],
      "text/latex": [
       "292.8"
      ],
      "text/markdown": [
       "292.8"
      ],
      "text/plain": [
       "[1] 292.8"
      ]
     },
     "metadata": {},
     "output_type": "display_data"
    }
   ],
   "source": [
    "###SSM\n",
    "SSM<-sum( ((GroupStat$mean - mean(Inoculin$weightinc))^2) *GroupStat$count )\n",
    "SSM"
   ]
  },
  {
   "cell_type": "code",
   "execution_count": 35,
   "metadata": {},
   "outputs": [
    {
     "data": {
      "text/html": [
       "440.525"
      ],
      "text/latex": [
       "440.525"
      ],
      "text/markdown": [
       "440.525"
      ],
      "text/plain": [
       "[1] 440.525"
      ]
     },
     "metadata": {},
     "output_type": "display_data"
    }
   ],
   "source": [
    "###SSR\n",
    "SSR<-var(res.aov$residuals) * (length(Inoculin$weightinc)-1)\n",
    "SSR"
   ]
  },
  {
   "cell_type": "code",
   "execution_count": null,
   "metadata": {},
   "outputs": [],
   "source": []
  }
 ],
 "metadata": {
  "kernelspec": {
   "display_name": "R",
   "language": "R",
   "name": "ir"
  },
  "language_info": {
   "codemirror_mode": "r",
   "file_extension": ".r",
   "mimetype": "text/x-r-source",
   "name": "R",
   "pygments_lexer": "r",
   "version": "3.6.1"
  }
 },
 "nbformat": 4,
 "nbformat_minor": 2
}

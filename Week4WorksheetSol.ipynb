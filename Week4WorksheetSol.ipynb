{
 "cells": [
  {
   "cell_type": "markdown",
   "metadata": {},
   "source": [
    "<font color='blue' size=6><b>Demo - Week 4 Worksheet Suggested Solutions</b></font>"
   ]
  },
  {
   "cell_type": "markdown",
   "metadata": {},
   "source": [
    "<font color='blue' size=5><b> Suggested solutions to Part 1 (datafile temphr) </b></font>"
   ]
  },
  {
   "cell_type": "markdown",
   "metadata": {},
   "source": [
    "<font color='blue' size=3> The results of a study of body temperature and heart rate.</font>"
   ]
  },
  {
   "cell_type": "code",
   "execution_count": 1,
   "metadata": {},
   "outputs": [
    {
     "name": "stderr",
     "output_type": "stream",
     "text": [
      "Warning message:\n",
      "\"package 'datasets' is not available (for R version 3.6.1)\"Warning message:\n",
      "\"package 'datasets' is a base package, and should not be updated\""
     ]
    }
   ],
   "source": [
    "install.packages('datasets',repos='https://cran.ma.imperial.ac.uk/')\n",
    "library(datasets)"
   ]
  },
  {
   "cell_type": "code",
   "execution_count": 2,
   "metadata": {},
   "outputs": [],
   "source": [
    "library(help = \"datasets\")"
   ]
  },
  {
   "cell_type": "code",
   "execution_count": 3,
   "metadata": {},
   "outputs": [
    {
     "data": {
      "text/html": [
       "'C:/Users/smaap2/Dropbox/MAT022-Foundations-of-Statistics-and-Data-Science/labsolutions'"
      ],
      "text/latex": [
       "'C:/Users/smaap2/Dropbox/MAT022-Foundations-of-Statistics-and-Data-Science/labsolutions'"
      ],
      "text/markdown": [
       "'C:/Users/smaap2/Dropbox/MAT022-Foundations-of-Statistics-and-Data-Science/labsolutions'"
      ],
      "text/plain": [
       "[1] \"C:/Users/smaap2/Dropbox/MAT022-Foundations-of-Statistics-and-Data-Science/labsolutions\""
      ]
     },
     "metadata": {},
     "output_type": "display_data"
    }
   ],
   "source": [
    "getwd()\n",
    "temphr<-read.table(file=\"../Data/temphr.txt\",sep=',',header = T)"
   ]
  },
  {
   "cell_type": "code",
   "execution_count": 4,
   "metadata": {},
   "outputs": [
    {
     "data": {
      "text/plain": [
       "     tempf            tempc          gender         hr       \n",
       " Min.   : 96.30   Min.   :35.72   female:65   Min.   :57.00  \n",
       " 1st Qu.: 97.80   1st Qu.:36.56   male  :65   1st Qu.:69.00  \n",
       " Median : 98.30   Median :36.83               Median :74.00  \n",
       " Mean   : 98.24   Mean   :36.80               Mean   :73.76  \n",
       " 3rd Qu.: 98.70   3rd Qu.:37.06               3rd Qu.:79.00  \n",
       " Max.   :100.00   Max.   :37.78               Max.   :89.00  "
      ]
     },
     "metadata": {},
     "output_type": "display_data"
    }
   ],
   "source": [
    "summary(temphr)"
   ]
  },
  {
   "cell_type": "markdown",
   "metadata": {},
   "source": [
    "<font color='blue' size=3>Question 1: Find the sample mean and the sample standard deviation of the temperature variables.</font>"
   ]
  },
  {
   "cell_type": "code",
   "execution_count": 10,
   "metadata": {},
   "outputs": [],
   "source": [
    "tempf <- temphr[[1]]\n",
    "tempc <- temphr[[2]]\n",
    "gender <- temphr[[3]]\n",
    "hr <- temphr[[4]]"
   ]
  },
  {
   "cell_type": "code",
   "execution_count": 11,
   "metadata": {},
   "outputs": [
    {
     "data": {
      "text/html": [
       "'Mean temp in centigrade: 36.80'"
      ],
      "text/latex": [
       "'Mean temp in centigrade: 36.80'"
      ],
      "text/markdown": [
       "'Mean temp in centigrade: 36.80'"
      ],
      "text/plain": [
       "[1] \"Mean temp in centigrade: 36.80\""
      ]
     },
     "metadata": {},
     "output_type": "display_data"
    },
    {
     "data": {
      "text/html": [
       "'Standard deviation of temp in centigrade: 0.40'"
      ],
      "text/latex": [
       "'Standard deviation of temp in centigrade: 0.40'"
      ],
      "text/markdown": [
       "'Standard deviation of temp in centigrade: 0.40'"
      ],
      "text/plain": [
       "[1] \"Standard deviation of temp in centigrade: 0.40\""
      ]
     },
     "metadata": {},
     "output_type": "display_data"
    },
    {
     "data": {
      "text/html": [
       "'Mean temp in farenheit: 98.24'"
      ],
      "text/latex": [
       "'Mean temp in farenheit: 98.24'"
      ],
      "text/markdown": [
       "'Mean temp in farenheit: 98.24'"
      ],
      "text/plain": [
       "[1] \"Mean temp in farenheit: 98.24\""
      ]
     },
     "metadata": {},
     "output_type": "display_data"
    },
    {
     "data": {
      "text/html": [
       "'Standard deviation temp in farenheit: 0.71'"
      ],
      "text/latex": [
       "'Standard deviation temp in farenheit: 0.71'"
      ],
      "text/markdown": [
       "'Standard deviation temp in farenheit: 0.71'"
      ],
      "text/plain": [
       "[1] \"Standard deviation temp in farenheit: 0.71\""
      ]
     },
     "metadata": {},
     "output_type": "display_data"
    }
   ],
   "source": [
    "xbarf <- mean(tempf)\n",
    "sdf<- sd(tempf)\n",
    "xbarc<-mean(tempc)\n",
    "sdc<- sd(tempc)\n",
    "\n",
    "sprintf(\"Mean temp in centigrade: %.2f\", xbarc)\n",
    "sprintf(\"Standard deviation of temp in centigrade: %.2f\", sdc)\n",
    "sprintf(\"Mean temp in farenheit: %.2f\", xbarf)\n",
    "sprintf(\"Standard deviation temp in farenheit: %.2f\", sdf)"
   ]
  },
  {
   "cell_type": "markdown",
   "metadata": {},
   "source": [
    "<font color='blue' size=3>Question 2: Examine a histogram of scores on one of the temperature variables. Is the shape of the distribution reasonably close to normal?</font>"
   ]
  },
  {
   "cell_type": "code",
   "execution_count": 12,
   "metadata": {},
   "outputs": [
    {
     "data": {
      "image/png": "[encoded data removed]",
      "text/plain": [
       "Plot with title \"Histogram of body temperature\""
      ]
     },
     "metadata": {},
     "output_type": "display_data"
    }
   ],
   "source": [
    "hist(tempc, xlim=c(35.5,38), freq=FALSE, col='grey', \n",
    "     xlab=\"Body temperature (in centigrade)\", \n",
    "     main=\"Histogram of body temperature\")\n",
    "lines(density(tempc, adjust=1), col=\"blue\", lwd=3)\n",
    "\n",
    "x <- seq(35.5,38,,101)\n",
    "lines(x, dnorm(x, xbarc, sdc), lwd=3 ,col='red')\n",
    "\n",
    "legend('topleft', \n",
    "       c('smoothed histogram', 'normal distribution'), \n",
    "       col=c('blue', 'red'), lwd=3)"
   ]
  },
  {
   "cell_type": "markdown",
   "metadata": {},
   "source": [
    "<font color='blue' size=3>Question 3: Construct a 95% conﬁdence interval for the true mean temperature.</font>"
   ]
  },
  {
   "cell_type": "code",
   "execution_count": 13,
   "metadata": {},
   "outputs": [
    {
     "data": {
      "text/html": [
       "130"
      ],
      "text/latex": [
       "130"
      ],
      "text/markdown": [
       "130"
      ],
      "text/plain": [
       "[1] 130"
      ]
     },
     "metadata": {},
     "output_type": "display_data"
    }
   ],
   "source": [
    "Nsamp <- length(tempc)\n",
    "Nsamp"
   ]
  },
  {
   "cell_type": "code",
   "execution_count": 15,
   "metadata": {},
   "outputs": [
    {
     "data": {
      "text/html": [
       "1.95996398454005"
      ],
      "text/latex": [
       "1.95996398454005"
      ],
      "text/markdown": [
       "1.95996398454005"
      ],
      "text/plain": [
       "[1] 1.959964"
      ]
     },
     "metadata": {},
     "output_type": "display_data"
    },
    {
     "data": {
      "text/html": [
       "<ol class=list-inline>\n",
       "\t<li>36.7334523215681</li>\n",
       "\t<li>36.8699664818507</li>\n",
       "</ol>\n"
      ],
      "text/latex": [
       "\\begin{enumerate*}\n",
       "\\item 36.7334523215681\n",
       "\\item 36.8699664818507\n",
       "\\end{enumerate*}\n"
      ],
      "text/markdown": [
       "1. 36.7334523215681\n",
       "2. 36.8699664818507\n",
       "\n",
       "\n"
      ],
      "text/plain": [
       "[1] 36.73345 36.86997"
      ]
     },
     "metadata": {},
     "output_type": "display_data"
    }
   ],
   "source": [
    "alpha<-0.05 \n",
    "\n",
    "Zval<-qnorm(1-alpha/2,0,1)\n",
    "Zval\n",
    "\n",
    "LowBoundCI<- xbarc - Zval * sigma/sqrt(Nsamp)\n",
    "UpBoundCI <- xbarc + Zval * sigma/sqrt(Nsamp)\n",
    " \n",
    "CI<-c(LowBoundCI, UpBoundCI)\n",
    "CI"
   ]
  },
  {
   "cell_type": "code",
   "execution_count": 16,
   "metadata": {},
   "outputs": [
    {
     "data": {
      "image/png": "[encoded data removed]",
      "text/plain": [
       "Plot with title \"95% confidence interval of mean on smoothed histogram\""
      ]
     },
     "metadata": {},
     "output_type": "display_data"
    }
   ],
   "source": [
    "plot(density(tempc, adjust=1), col=\"blue\", lwd=3, \n",
    "    main=\"95% confidence interval of mean on smoothed histogram\")\n",
    "\n",
    "mu<-xbarc\n",
    "sigma<-sdc\n",
    "x <- seq(35.5,38,,101)\n",
    "\n",
    "abline(v=LowBoundCI, lty=3, lwd=3, col='red')\n",
    "abline(v=UpBoundCI, lty=3, lwd=3, col='red')"
   ]
  },
  {
   "cell_type": "markdown",
   "metadata": {},
   "source": [
    "<font color='blue' size=3> Question 4: The 'average' body temperature is popularly believed to be 37C. Does the 95% conﬁdence interval based on this sample include this value? What conclusion do you draw from this? </font>"
   ]
  },
  {
   "cell_type": "code",
   "execution_count": null,
   "metadata": {},
   "outputs": [],
   "source": [
    "### here you must discuss what our results tell us about body temperature, this is left for you to think about"
   ]
  },
  {
   "cell_type": "markdown",
   "metadata": {},
   "source": [
    "<font color='blue' size=3> Question 5: Construct a 80% conﬁdence interval for the true variance of the temperature.</font>"
   ]
  },
  {
   "cell_type": "code",
   "execution_count": 37,
   "metadata": {},
   "outputs": [
    {
     "data": {
      "text/html": [
       "0.164052011834183"
      ],
      "text/latex": [
       "0.164052011834183"
      ],
      "text/markdown": [
       "0.164052011834183"
      ],
      "text/plain": [
       "[1] 0.164052"
      ]
     },
     "metadata": {},
     "output_type": "display_data"
    }
   ],
   "source": [
    "X1oooXn <- rnorm(Nsamp,mu,sigma)\n",
    "\n",
    "sss2 <- var(X1oooXn)\n",
    "sss2"
   ]
  },
  {
   "cell_type": "code",
   "execution_count": 38,
   "metadata": {},
   "outputs": [],
   "source": [
    "VARxCIxComp<-function(SampVec, alpha){\n",
    "    \n",
    "    Nsamp<-length(SampVec)\n",
    "    sss2<- var(SampVec)\n",
    "    \n",
    "    LowBound<- (Nsamp-1) * sigma^2 / qchisq(1-alpha/2, df=Nsamp-1) ### see lecture notes for formula\n",
    "    UpBound <- (Nsamp-1) * sigma^2 / qchisq(alpha/2, df=Nsamp-1)\n",
    "    \n",
    "    return(c(LowBound, UpBound))\n",
    "}"
   ]
  },
  {
   "cell_type": "code",
   "execution_count": 39,
   "metadata": {},
   "outputs": [
    {
     "data": {
      "text/html": [
       "<ol class=list-inline>\n",
       "\t<li>0.135625475146645</li>\n",
       "\t<li>0.186784550323016</li>\n",
       "</ol>\n"
      ],
      "text/latex": [
       "\\begin{enumerate*}\n",
       "\\item 0.135625475146645\n",
       "\\item 0.186784550323016\n",
       "\\end{enumerate*}\n"
      ],
      "text/markdown": [
       "1. 0.135625475146645\n",
       "2. 0.186784550323016\n",
       "\n",
       "\n"
      ],
      "text/plain": [
       "[1] 0.1356255 0.1867846"
      ]
     },
     "metadata": {},
     "output_type": "display_data"
    }
   ],
   "source": [
    "alpha<-0.2\n",
    "\n",
    "VARxCIxComp(X1oooXn,alpha)"
   ]
  },
  {
   "cell_type": "markdown",
   "metadata": {},
   "source": [
    "<font color='blue' size=5><b> Suggested solution to Part 2 (datafile leadcopp) </b></font>"
   ]
  },
  {
   "cell_type": "markdown",
   "metadata": {},
   "source": [
    "<font color='blue' size=3> A water company periodically tests its supply of drinking water for contaminants such as lead\n",
    "and copper. The file contains lead and copper levels in water specimens collected from a\n",
    "sample of 10 households. </font>"
   ]
  },
  {
   "cell_type": "code",
   "execution_count": 2,
   "metadata": {},
   "outputs": [
    {
     "data": {
      "text/html": [
       "'C:/Users/C1504359/Dropbox/MAT022-Foundations-of-Statistics-and-Data-Science/labsolutions'"
      ],
      "text/latex": [
       "'C:/Users/C1504359/Dropbox/MAT022-Foundations-of-Statistics-and-Data-Science/labsolutions'"
      ],
      "text/markdown": [
       "'C:/Users/C1504359/Dropbox/MAT022-Foundations-of-Statistics-and-Data-Science/labsolutions'"
      ],
      "text/plain": [
       "[1] \"C:/Users/C1504359/Dropbox/MAT022-Foundations-of-Statistics-and-Data-Science/labsolutions\""
      ]
     },
     "metadata": {},
     "output_type": "display_data"
    }
   ],
   "source": [
    "getwd()\n",
    "leadcopp<-read.table(file=\"../Data/leadcopp.txt\",sep=',',header = T)"
   ]
  },
  {
   "cell_type": "markdown",
   "metadata": {},
   "source": [
    "<font color='blue' size=3> Question 1: Construct a 99% confidence interval for the mean lead level in the\n",
    "water supply, and likewise for the mean copper level in the water supply. Discuss your results. </font>"
   ]
  },
  {
   "cell_type": "code",
   "execution_count": 100,
   "metadata": {},
   "outputs": [
    {
     "data": {
      "text/plain": [
       "      lead             copper      \n",
       " Min.   : 0.0000   Min.   :0.1300  \n",
       " 1st Qu.: 0.7225   1st Qu.:0.2355  \n",
       " Median : 1.3200   Median :0.3015  \n",
       " Mean   : 2.8856   Mean   :0.4083  \n",
       " 3rd Qu.: 3.8175   3rd Qu.:0.4998  \n",
       " Max.   :13.1000   Max.   :0.9040  "
      ]
     },
     "metadata": {},
     "output_type": "display_data"
    }
   ],
   "source": [
    "summary(leadcopp)"
   ]
  },
  {
   "cell_type": "code",
   "execution_count": 111,
   "metadata": {},
   "outputs": [
    {
     "data": {
      "text/html": [
       "<table>\n",
       "<thead><tr><th scope=col>lead</th><th scope=col>copper</th></tr></thead>\n",
       "<tbody>\n",
       "\t<tr><td> 1.320</td><td>0.508 </td></tr>\n",
       "\t<tr><td> 0.000</td><td>0.279 </td></tr>\n",
       "\t<tr><td>13.100</td><td>0.320 </td></tr>\n",
       "\t<tr><td> 0.919</td><td>0.904 </td></tr>\n",
       "\t<tr><td> 0.657</td><td>0.221 </td></tr>\n",
       "\t<tr><td> 3.000</td><td>0.283 </td></tr>\n",
       "\t<tr><td> 1.320</td><td>0.475 </td></tr>\n",
       "\t<tr><td> 4.090</td><td>0.130 </td></tr>\n",
       "\t<tr><td> 4.450</td><td>0.220 </td></tr>\n",
       "\t<tr><td> 0.000</td><td>0.743 </td></tr>\n",
       "</tbody>\n",
       "</table>\n"
      ],
      "text/latex": [
       "\\begin{tabular}{r|ll}\n",
       " lead & copper\\\\\n",
       "\\hline\n",
       "\t  1.320 & 0.508 \\\\\n",
       "\t  0.000 & 0.279 \\\\\n",
       "\t 13.100 & 0.320 \\\\\n",
       "\t  0.919 & 0.904 \\\\\n",
       "\t  0.657 & 0.221 \\\\\n",
       "\t  3.000 & 0.283 \\\\\n",
       "\t  1.320 & 0.475 \\\\\n",
       "\t  4.090 & 0.130 \\\\\n",
       "\t  4.450 & 0.220 \\\\\n",
       "\t  0.000 & 0.743 \\\\\n",
       "\\end{tabular}\n"
      ],
      "text/markdown": [
       "\n",
       "| lead | copper |\n",
       "|---|---|\n",
       "|  1.320 | 0.508  |\n",
       "|  0.000 | 0.279  |\n",
       "| 13.100 | 0.320  |\n",
       "|  0.919 | 0.904  |\n",
       "|  0.657 | 0.221  |\n",
       "|  3.000 | 0.283  |\n",
       "|  1.320 | 0.475  |\n",
       "|  4.090 | 0.130  |\n",
       "|  4.450 | 0.220  |\n",
       "|  0.000 | 0.743  |\n",
       "\n"
      ],
      "text/plain": [
       "   lead   copper\n",
       "1   1.320 0.508 \n",
       "2   0.000 0.279 \n",
       "3  13.100 0.320 \n",
       "4   0.919 0.904 \n",
       "5   0.657 0.221 \n",
       "6   3.000 0.283 \n",
       "7   1.320 0.475 \n",
       "8   4.090 0.130 \n",
       "9   4.450 0.220 \n",
       "10  0.000 0.743 "
      ]
     },
     "metadata": {},
     "output_type": "display_data"
    }
   ],
   "source": [
    "head(leadcopp, n=10)"
   ]
  },
  {
   "cell_type": "code",
   "execution_count": 102,
   "metadata": {},
   "outputs": [
    {
     "data": {
      "text/html": [
       "10"
      ],
      "text/latex": [
       "10"
      ],
      "text/markdown": [
       "10"
      ],
      "text/plain": [
       "[1] 10"
      ]
     },
     "metadata": {},
     "output_type": "display_data"
    },
    {
     "data": {
      "text/html": [
       "10"
      ],
      "text/latex": [
       "10"
      ],
      "text/markdown": [
       "10"
      ],
      "text/plain": [
       "[1] 10"
      ]
     },
     "metadata": {},
     "output_type": "display_data"
    }
   ],
   "source": [
    "lead <- leadcopp[[1]]\n",
    "copper <- leadcopp[[2]]\n",
    "length(lead)\n",
    "length(copper)"
   ]
  },
  {
   "cell_type": "code",
   "execution_count": 103,
   "metadata": {},
   "outputs": [
    {
     "data": {
      "text/html": [
       "'Mean value of lead levels: 2.886'"
      ],
      "text/latex": [
       "'Mean value of lead levels: 2.886'"
      ],
      "text/markdown": [
       "'Mean value of lead levels: 2.886'"
      ],
      "text/plain": [
       "[1] \"Mean value of lead levels: 2.886\""
      ]
     },
     "metadata": {},
     "output_type": "display_data"
    },
    {
     "data": {
      "text/html": [
       "'Standard deviation of lead levels: 3.925'"
      ],
      "text/latex": [
       "'Standard deviation of lead levels: 3.925'"
      ],
      "text/markdown": [
       "'Standard deviation of lead levels: 3.925'"
      ],
      "text/plain": [
       "[1] \"Standard deviation of lead levels: 3.925\""
      ]
     },
     "metadata": {},
     "output_type": "display_data"
    },
    {
     "data": {
      "text/html": [
       "'Mean value of copper levels: 0.408'"
      ],
      "text/latex": [
       "'Mean value of copper levels: 0.408'"
      ],
      "text/markdown": [
       "'Mean value of copper levels: 0.408'"
      ],
      "text/plain": [
       "[1] \"Mean value of copper levels: 0.408\""
      ]
     },
     "metadata": {},
     "output_type": "display_data"
    },
    {
     "data": {
      "text/html": [
       "'Standard deviation of copper levels: 0.250'"
      ],
      "text/latex": [
       "'Standard deviation of copper levels: 0.250'"
      ],
      "text/markdown": [
       "'Standard deviation of copper levels: 0.250'"
      ],
      "text/plain": [
       "[1] \"Standard deviation of copper levels: 0.250\""
      ]
     },
     "metadata": {},
     "output_type": "display_data"
    }
   ],
   "source": [
    "xbarlead <- mean(lead)\n",
    "sdlead<- sd(lead)\n",
    "xbarcopper<-mean(copper)\n",
    "sdcopper<- sd(copper)\n",
    "\n",
    "sprintf(\"Mean value of lead levels: %.3f\", xbarlead)\n",
    "sprintf(\"Standard deviation of lead levels: %.3f\", sdlead)\n",
    "sprintf(\"Mean value of copper levels: %.3f\", xbarcopper)\n",
    "sprintf(\"Standard deviation of copper levels: %.3f\", sdcopper)"
   ]
  },
  {
   "cell_type": "code",
   "execution_count": 104,
   "metadata": {},
   "outputs": [],
   "source": [
    "Nsamplead <- length(lead)\n",
    "Nsampcopper <- length(copper)"
   ]
  },
  {
   "cell_type": "code",
   "execution_count": 110,
   "metadata": {},
   "outputs": [
    {
     "data": {
      "text/html": [
       "2.5758293035489"
      ],
      "text/latex": [
       "2.5758293035489"
      ],
      "text/markdown": [
       "2.5758293035489"
      ],
      "text/plain": [
       "[1] 2.575829"
      ]
     },
     "metadata": {},
     "output_type": "display_data"
    },
    {
     "data": {
      "text/html": [
       "<ol class=list-inline>\n",
       "\t<li>-0.311320638718577</li>\n",
       "\t<li>6.08252063871858</li>\n",
       "</ol>\n"
      ],
      "text/latex": [
       "\\begin{enumerate*}\n",
       "\\item -0.311320638718577\n",
       "\\item 6.08252063871858\n",
       "\\end{enumerate*}\n"
      ],
      "text/markdown": [
       "1. -0.311320638718577\n",
       "2. 6.08252063871858\n",
       "\n",
       "\n"
      ],
      "text/plain": [
       "[1] -0.3113206  6.0825206"
      ]
     },
     "metadata": {},
     "output_type": "display_data"
    }
   ],
   "source": [
    "### 99% CI for lead levels in water supply \n",
    "\n",
    "alpha<-0.01 \n",
    "\n",
    "ZVal<-qnorm(1-alpha/2,0,1)\n",
    "ZVal\n",
    "\n",
    "LeadLowBoundCI<- xbarlead - ZVal * sdlead/sqrt(Nsamplead)\n",
    "LeadUpBoundCI <- xbarlead + ZVal * sdlead/sqrt(Nsamplead)\n",
    " \n",
    "CILead<-c(LeadLowBoundCI, LeadUpBoundCI)\n",
    "CILead"
   ]
  },
  {
   "cell_type": "code",
   "execution_count": 107,
   "metadata": {},
   "outputs": [
    {
     "data": {
      "text/html": [
       "<ol class=list-inline>\n",
       "\t<li>0.205054880191991</li>\n",
       "\t<li>0.611545119808009</li>\n",
       "</ol>\n"
      ],
      "text/latex": [
       "\\begin{enumerate*}\n",
       "\\item 0.205054880191991\n",
       "\\item 0.611545119808009\n",
       "\\end{enumerate*}\n"
      ],
      "text/markdown": [
       "1. 0.205054880191991\n",
       "2. 0.611545119808009\n",
       "\n",
       "\n"
      ],
      "text/plain": [
       "[1] 0.2050549 0.6115451"
      ]
     },
     "metadata": {},
     "output_type": "display_data"
    }
   ],
   "source": [
    "### 99% CI for copper levels in water supply \n",
    "\n",
    "alpha<-0.01 \n",
    "\n",
    "CoppLowBoundCI<- xbarcopper - ZVal * sdcopper/sqrt(Nsampcopper)\n",
    "CoppUpBoundCI <- xbarcopper + ZVal * sdcopper/sqrt(Nsampcopper)\n",
    " \n",
    "CICopp<-c(CoppLowBoundCI, CoppUpBoundCI)\n",
    "CICopp"
   ]
  },
  {
   "cell_type": "code",
   "execution_count": 109,
   "metadata": {},
   "outputs": [
    {
     "data": {
      "image/png": "[encoded data removed]",
      "text/plain": [
       "plot without title"
      ]
     },
     "metadata": {},
     "output_type": "display_data"
    }
   ],
   "source": [
    "### compare the confidence intervals of copper and lead\n",
    "\n",
    "XLIM<-c(min(CILead[1],CICopp[1]), max(CILead[2],CICopp[2])) \n",
    "\n",
    "plot(c(), xlim=XLIM, ylim=c(0.5,3), \n",
    "     yaxt='n', xlab='', ylab='')\n",
    "\n",
    "lines(CILead, c(2,2), type='l', lwd=3, col='darkgrey')\n",
    "lines(CICopp, c(1,1), type='l', lwd=3, col='darkorange')\n",
    "\n",
    "points(CILead, c(2,2), pch='|', col='darkgrey', cex=2) \n",
    "points(CICopp, c(1,1), pch='|', col='darkorange', cex=2)\n",
    "\n",
    "legend('topleft',c('Lead 99% Confidence Interval', 'Copper 99% Confidence Interval'), \n",
    "       col=c('darkgrey','darkorange'), lwd=3, cex=1.5, bg='white')"
   ]
  },
  {
   "cell_type": "markdown",
   "metadata": {},
   "source": [
    "<font color='blue' size=3> Question 2: Construct a 90% confidence interval for the variance of lead level in the water supply, and\n",
    "for variance of the copper level. </font>"
   ]
  },
  {
   "cell_type": "code",
   "execution_count": 98,
   "metadata": {},
   "outputs": [
    {
     "data": {
      "text/html": [
       "33.9861758028315"
      ],
      "text/latex": [
       "33.9861758028315"
      ],
      "text/markdown": [
       "33.9861758028315"
      ],
      "text/plain": [
       "[1] 33.98618"
      ]
     },
     "metadata": {},
     "output_type": "display_data"
    },
    {
     "data": {
      "text/html": [
       "<ol class=list-inline>\n",
       "\t<li>8.19403746726042</li>\n",
       "\t<li>41.6932425884634</li>\n",
       "</ol>\n"
      ],
      "text/latex": [
       "\\begin{enumerate*}\n",
       "\\item 8.19403746726042\n",
       "\\item 41.6932425884634\n",
       "\\end{enumerate*}\n"
      ],
      "text/markdown": [
       "1. 8.19403746726042\n",
       "2. 41.6932425884634\n",
       "\n",
       "\n"
      ],
      "text/plain": [
       "[1]  8.194037 41.693243"
      ]
     },
     "metadata": {},
     "output_type": "display_data"
    }
   ],
   "source": [
    "#### 90% CI for the variance of lead in water suply\n",
    "\n",
    "muL <- xbarlead\n",
    "sigmaL <- sdlead\n",
    "\n",
    "X1oooXnLead <- rnorm(Nsamplead,muL,sigmaL)\n",
    "\n",
    "sssL <- var(X1oooXnLead)\n",
    "sssL\n",
    "\n",
    "VARxCIxComp1<-function(SampVec, alpha){\n",
    "    \n",
    "    Nsamp<-length(SampVec)\n",
    "    sssL<- var(SampVec)\n",
    "    \n",
    "    LowBound<- (Nsamplead-1) * sigmaL^2 / qchisq(1-alpha/2, df=Nsamplead-1)\n",
    "    UpBound <- (Nsamplead-1) * sigmaL^2 / qchisq(alpha/2, df=Nsamplead-1)\n",
    "    \n",
    "    return(c(LowBound, UpBound))\n",
    "}\n",
    "\n",
    "alpha<-0.1\n",
    "\n",
    "VARxCIxComp1(X1oooXnLead,alpha)"
   ]
  },
  {
   "cell_type": "code",
   "execution_count": 97,
   "metadata": {},
   "outputs": [
    {
     "data": {
      "text/html": [
       "0.0656067511160679"
      ],
      "text/latex": [
       "0.0656067511160679"
      ],
      "text/markdown": [
       "0.0656067511160679"
      ],
      "text/plain": [
       "[1] 0.06560675"
      ]
     },
     "metadata": {},
     "output_type": "display_data"
    },
    {
     "data": {
      "text/html": [
       "<ol class=list-inline>\n",
       "\t<li>0.0331187919917204</li>\n",
       "\t<li>0.168516416267904</li>\n",
       "</ol>\n"
      ],
      "text/latex": [
       "\\begin{enumerate*}\n",
       "\\item 0.0331187919917204\n",
       "\\item 0.168516416267904\n",
       "\\end{enumerate*}\n"
      ],
      "text/markdown": [
       "1. 0.0331187919917204\n",
       "2. 0.168516416267904\n",
       "\n",
       "\n"
      ],
      "text/plain": [
       "[1] 0.03311879 0.16851642"
      ]
     },
     "metadata": {},
     "output_type": "display_data"
    }
   ],
   "source": [
    "#### 90% CI for the variance of copper in water suply\n",
    "\n",
    "muC <- xbarcopper\n",
    "sigmaC <- sdcopper\n",
    "\n",
    "X1oooXnCop <- rnorm(Nsampcopper,muC,sigmaC)\n",
    "\n",
    "sssC <- var(X1oooXnCop)\n",
    "sssC\n",
    "\n",
    "VARxCIxComp2<-function(SampVec, alpha){\n",
    "    \n",
    "    Nsamp<-length(SampVec)\n",
    "    sssL<- var(SampVec)\n",
    "    \n",
    "    LowBound<- (Nsampcopper-1) * sigmaC^2 / qchisq(1-alpha/2, df=Nsampcopper-1)\n",
    "    UpBound <- (Nsampcopper-1) * sigmaC^2 / qchisq(alpha/2, df=Nsampcopper-1)\n",
    "    \n",
    "    return(c(LowBound, UpBound))\n",
    "}\n",
    "\n",
    "alpha<-0.1\n",
    "\n",
    "VARxCIxComp2(X1oooXnLead,alpha)"
   ]
  },
  {
   "cell_type": "code",
   "execution_count": null,
   "metadata": {},
   "outputs": [],
   "source": []
  },
  {
   "cell_type": "markdown",
   "metadata": {},
   "source": [
    "<font color='blue' size=5><b> Suggested solution to Part 3 (datafile bulimia) </b></font>"
   ]
  },
  {
   "cell_type": "code",
   "execution_count": 70,
   "metadata": {},
   "outputs": [
    {
     "data": {
      "text/html": [
       "'C:/Users/C1504359/Dropbox/MAT022-Foundations-of-Statistics-and-Data-Science/labsolutions'"
      ],
      "text/latex": [
       "'C:/Users/C1504359/Dropbox/MAT022-Foundations-of-Statistics-and-Data-Science/labsolutions'"
      ],
      "text/markdown": [
       "'C:/Users/C1504359/Dropbox/MAT022-Foundations-of-Statistics-and-Data-Science/labsolutions'"
      ],
      "text/plain": [
       "[1] \"C:/Users/C1504359/Dropbox/MAT022-Foundations-of-Statistics-and-Data-Science/labsolutions\""
      ]
     },
     "metadata": {},
     "output_type": "display_data"
    }
   ],
   "source": [
    "getwd()\n",
    "bulimia<-read.table(file=\"../Data/bulimia.txt\",sep=',',header = T)"
   ]
  },
  {
   "cell_type": "markdown",
   "metadata": {},
   "source": [
    "<font color='blue' size=3> Two samples of students participated in a psychology experiment. One sample consisted of 11\n",
    "students known to su↵er from the eating disorder bulimia, while the other sample consisted of\n",
    "14 students with normal eating habits. Each student completed a questionnaire from which a\n",
    "fear of negative evaluation (FNE) score was produced (the higher the score, the greater the fear\n",
    "of negative evaluation). </font>"
   ]
  },
  {
   "cell_type": "markdown",
   "metadata": {},
   "source": [
    "<font color='blue' size=3> Construct a 95% confidence interval for the mean FNE score of the population of bulimic\n",
    "students, and likewise for the population of healthy students. </font>"
   ]
  },
  {
   "cell_type": "code",
   "execution_count": 71,
   "metadata": {},
   "outputs": [
    {
     "data": {
      "text/plain": [
       "     Group       FNEscore    \n",
       " Bulimic:11   Min.   : 6.00  \n",
       " Healthy:14   1st Qu.:13.00  \n",
       "              Median :16.00  \n",
       "              Mean   :15.76  \n",
       "              3rd Qu.:20.00  \n",
       "              Max.   :25.00  "
      ]
     },
     "metadata": {},
     "output_type": "display_data"
    }
   ],
   "source": [
    "summary(bulimia)"
   ]
  },
  {
   "cell_type": "code",
   "execution_count": 72,
   "metadata": {},
   "outputs": [
    {
     "data": {
      "text/html": [
       "<table>\n",
       "<thead><tr><th scope=col>Group</th><th scope=col>FNEscore</th></tr></thead>\n",
       "<tbody>\n",
       "\t<tr><td>Bulimic</td><td>21     </td></tr>\n",
       "\t<tr><td>Bulimic</td><td>13     </td></tr>\n",
       "\t<tr><td>Bulimic</td><td>10     </td></tr>\n",
       "\t<tr><td>Bulimic</td><td>20     </td></tr>\n",
       "\t<tr><td>Bulimic</td><td>25     </td></tr>\n",
       "\t<tr><td>Bulimic</td><td>19     </td></tr>\n",
       "</tbody>\n",
       "</table>\n"
      ],
      "text/latex": [
       "\\begin{tabular}{r|ll}\n",
       " Group & FNEscore\\\\\n",
       "\\hline\n",
       "\t Bulimic & 21     \\\\\n",
       "\t Bulimic & 13     \\\\\n",
       "\t Bulimic & 10     \\\\\n",
       "\t Bulimic & 20     \\\\\n",
       "\t Bulimic & 25     \\\\\n",
       "\t Bulimic & 19     \\\\\n",
       "\\end{tabular}\n"
      ],
      "text/markdown": [
       "\n",
       "| Group | FNEscore |\n",
       "|---|---|\n",
       "| Bulimic | 21      |\n",
       "| Bulimic | 13      |\n",
       "| Bulimic | 10      |\n",
       "| Bulimic | 20      |\n",
       "| Bulimic | 25      |\n",
       "| Bulimic | 19      |\n",
       "\n"
      ],
      "text/plain": [
       "  Group   FNEscore\n",
       "1 Bulimic 21      \n",
       "2 Bulimic 13      \n",
       "3 Bulimic 10      \n",
       "4 Bulimic 20      \n",
       "5 Bulimic 25      \n",
       "6 Bulimic 19      "
      ]
     },
     "metadata": {},
     "output_type": "display_data"
    }
   ],
   "source": [
    "head(bulimia)"
   ]
  },
  {
   "cell_type": "code",
   "execution_count": 76,
   "metadata": {},
   "outputs": [
    {
     "data": {
      "text/html": [
       "'Sample size of bulimic students: 11'"
      ],
      "text/latex": [
       "'Sample size of bulimic students: 11'"
      ],
      "text/markdown": [
       "'Sample size of bulimic students: 11'"
      ],
      "text/plain": [
       "[1] \"Sample size of bulimic students: 11\""
      ]
     },
     "metadata": {},
     "output_type": "display_data"
    },
    {
     "data": {
      "text/html": [
       "'Sample size of healthy students: 14'"
      ],
      "text/latex": [
       "'Sample size of healthy students: 14'"
      ],
      "text/markdown": [
       "'Sample size of healthy students: 14'"
      ],
      "text/plain": [
       "[1] \"Sample size of healthy students: 14\""
      ]
     },
     "metadata": {},
     "output_type": "display_data"
    }
   ],
   "source": [
    "bulimic <- bulimia[c(1:11),c(2)]  ### separate data into bulimic and healthy\n",
    "healthy <- bulimia[c(12:25),c(2)]\n",
    "\n",
    "NumBul <- length(bulimic)\n",
    "NumHealth <- length(healthy)\n",
    "\n",
    "sprintf(\"Sample size of bulimic students: %.0f\", NumBul)\n",
    "sprintf(\"Sample size of healthy students: %.0f\", NumHealth)"
   ]
  },
  {
   "cell_type": "code",
   "execution_count": 77,
   "metadata": {},
   "outputs": [
    {
     "data": {
      "text/html": [
       "'Mean FNE score of bulimic students: 17.82'"
      ],
      "text/latex": [
       "'Mean FNE score of bulimic students: 17.82'"
      ],
      "text/markdown": [
       "'Mean FNE score of bulimic students: 17.82'"
      ],
      "text/plain": [
       "[1] \"Mean FNE score of bulimic students: 17.82\""
      ]
     },
     "metadata": {},
     "output_type": "display_data"
    },
    {
     "data": {
      "text/html": [
       "'Standard deviation of FNE scores of bulimic students: 4.92'"
      ],
      "text/latex": [
       "'Standard deviation of FNE scores of bulimic students: 4.92'"
      ],
      "text/markdown": [
       "'Standard deviation of FNE scores of bulimic students: 4.92'"
      ],
      "text/plain": [
       "[1] \"Standard deviation of FNE scores of bulimic students: 4.92\""
      ]
     },
     "metadata": {},
     "output_type": "display_data"
    },
    {
     "data": {
      "text/html": [
       "'Mean FNE score of healthy students: 14.14'"
      ],
      "text/latex": [
       "'Mean FNE score of healthy students: 14.14'"
      ],
      "text/markdown": [
       "'Mean FNE score of healthy students: 14.14'"
      ],
      "text/plain": [
       "[1] \"Mean FNE score of healthy students: 14.14\""
      ]
     },
     "metadata": {},
     "output_type": "display_data"
    },
    {
     "data": {
      "text/html": [
       "'Standard deviation of FNE scores of healthy students: 5.29'"
      ],
      "text/latex": [
       "'Standard deviation of FNE scores of healthy students: 5.29'"
      ],
      "text/markdown": [
       "'Standard deviation of FNE scores of healthy students: 5.29'"
      ],
      "text/plain": [
       "[1] \"Standard deviation of FNE scores of healthy students: 5.29\""
      ]
     },
     "metadata": {},
     "output_type": "display_data"
    }
   ],
   "source": [
    "xbarBul <- mean(bulimic)\n",
    "sdBul<- sd(bulimic)\n",
    "xbarHealth<-mean(healthy)\n",
    "sdHealth<- sd(healthy)\n",
    "\n",
    "sprintf(\"Mean FNE score of bulimic students: %.2f\", xbarBul)\n",
    "sprintf(\"Standard deviation of FNE scores of bulimic students: %.2f\", sdBul)\n",
    "sprintf(\"Mean FNE score of healthy students: %.2f\", xbarHealth)\n",
    "sprintf(\"Standard deviation of FNE scores of healthy students: %.2f\", sdHealth)"
   ]
  },
  {
   "cell_type": "code",
   "execution_count": 78,
   "metadata": {},
   "outputs": [
    {
     "data": {
      "text/html": [
       "1.95996398454005"
      ],
      "text/latex": [
       "1.95996398454005"
      ],
      "text/markdown": [
       "1.95996398454005"
      ],
      "text/plain": [
       "[1] 1.959964"
      ]
     },
     "metadata": {},
     "output_type": "display_data"
    },
    {
     "data": {
      "text/html": [
       "<ol class=list-inline>\n",
       "\t<li>14.9132703964508</li>\n",
       "\t<li>20.7230932399128</li>\n",
       "</ol>\n"
      ],
      "text/latex": [
       "\\begin{enumerate*}\n",
       "\\item 14.9132703964508\n",
       "\\item 20.7230932399128\n",
       "\\end{enumerate*}\n"
      ],
      "text/markdown": [
       "1. 14.9132703964508\n",
       "2. 20.7230932399128\n",
       "\n",
       "\n"
      ],
      "text/plain": [
       "[1] 14.91327 20.72309"
      ]
     },
     "metadata": {},
     "output_type": "display_data"
    }
   ],
   "source": [
    "### 95% CI for mean FNE score in bulimic students \n",
    "\n",
    "alpha<-0.05\n",
    "\n",
    "ZVal<-qnorm(1-alpha/2,0,1)\n",
    "ZVal\n",
    "\n",
    "BulLowBoundCI<- xbarBul - ZVal * sdBul/sqrt(NumBul)\n",
    "BulUpBoundCI <- xbarBul + ZVal * sdBul/sqrt(NumBul)\n",
    " \n",
    "CIBul <- c(BulLowBoundCI, BulUpBoundCI)\n",
    "CIBul"
   ]
  },
  {
   "cell_type": "code",
   "execution_count": 79,
   "metadata": {},
   "outputs": [
    {
     "data": {
      "text/html": [
       "<ol class=list-inline>\n",
       "\t<li>11.3721375443071</li>\n",
       "\t<li>16.9135767414071</li>\n",
       "</ol>\n"
      ],
      "text/latex": [
       "\\begin{enumerate*}\n",
       "\\item 11.3721375443071\n",
       "\\item 16.9135767414071\n",
       "\\end{enumerate*}\n"
      ],
      "text/markdown": [
       "1. 11.3721375443071\n",
       "2. 16.9135767414071\n",
       "\n",
       "\n"
      ],
      "text/plain": [
       "[1] 11.37214 16.91358"
      ]
     },
     "metadata": {},
     "output_type": "display_data"
    }
   ],
   "source": [
    "### 95% CI for mean FNE score in healthy students \n",
    "\n",
    "HealthLowBoundCI<- xbarHealth - ZVal * sdHealth/sqrt(NumHealth)\n",
    "HealthUpBoundCI <- xbarHealth + ZVal * sdHealth/sqrt(NumHealth)\n",
    " \n",
    "CIHealth <- c(HealthLowBoundCI, HealthUpBoundCI)\n",
    "CIHealth"
   ]
  },
  {
   "cell_type": "code",
   "execution_count": 81,
   "metadata": {},
   "outputs": [
    {
     "data": {
      "image/png": "[encoded data removed]",
      "text/plain": [
       "plot without title"
      ]
     },
     "metadata": {},
     "output_type": "display_data"
    }
   ],
   "source": [
    "### compare the confidence intervals of bulimic and healthy students\n",
    "\n",
    "XLIM<-c(min(CIBul[1],CIHealth[1]), max(CIBul[2],CIHealth[2])) \n",
    "\n",
    "plot(c(), xlim=XLIM, ylim=c(0.5,3), \n",
    "     yaxt='n', xlab='', ylab='')\n",
    "\n",
    "lines(CIBul, c(1,1), type='l', lwd=3, col='red')\n",
    "lines(CIHealth, c(2,2), type='l', lwd=3, col='blue')\n",
    "\n",
    "points(CIBul, c(1,1), pch='|', col='red', cex=2) \n",
    "points(CIHealth, c(2,2), pch='|', col='blue', cex=2)\n",
    "\n",
    "abline(v=mu, lty=3, lwd=3, col='blue')\n",
    "\n",
    "legend('topleft',c('Bulimic students FNE score, 95% CI', 'Healthy students FNE score, 95% CI'), \n",
    "       col=c('red','blue'), lwd=3, cex=1.5, bg='white')"
   ]
  },
  {
   "cell_type": "markdown",
   "metadata": {},
   "source": [
    "<font color='blue' size=5><b> Suggested solution to Part 4 (datafile ammonia) </b></font>"
   ]
  },
  {
   "cell_type": "code",
   "execution_count": 82,
   "metadata": {},
   "outputs": [
    {
     "data": {
      "text/html": [
       "'C:/Users/C1504359/Dropbox/MAT022-Foundations-of-Statistics-and-Data-Science/labsolutions'"
      ],
      "text/latex": [
       "'C:/Users/C1504359/Dropbox/MAT022-Foundations-of-Statistics-and-Data-Science/labsolutions'"
      ],
      "text/markdown": [
       "'C:/Users/C1504359/Dropbox/MAT022-Foundations-of-Statistics-and-Data-Science/labsolutions'"
      ],
      "text/plain": [
       "[1] \"C:/Users/C1504359/Dropbox/MAT022-Foundations-of-Statistics-and-Data-Science/labsolutions\""
      ]
     },
     "metadata": {},
     "output_type": "display_data"
    }
   ],
   "source": [
    "getwd()\n",
    "ammonia<-read.table(file=\"../Data/ammonia.txt\",sep=',',header = T)"
   ]
  },
  {
   "cell_type": "markdown",
   "metadata": {},
   "source": [
    "<font color='blue' size=3> In 2001, the journal Environmental Science and Technology published a study on ammonia levels\n",
    "near the exit of a San Fransisco road tunnel. The file contains the daily ammonia concentrations\n",
    "(ppm) recorded on eight randomly selected days during the evening rush-hour in the summer of\n",
    "1999.\n",
    "Construct a 99% confidence interval for the true mean daily ammonia level nears the tunnel. </font>"
   ]
  },
  {
   "cell_type": "code",
   "execution_count": 83,
   "metadata": {},
   "outputs": [
    {
     "data": {
      "text/plain": [
       "      conc      \n",
       " Min.   :1.370  \n",
       " 1st Qu.:1.417  \n",
       " Median :1.490  \n",
       " Mean   :1.471  \n",
       " 3rd Qu.:1.515  \n",
       " Max.   :1.550  "
      ]
     },
     "metadata": {},
     "output_type": "display_data"
    }
   ],
   "source": [
    "summary(ammonia)"
   ]
  },
  {
   "cell_type": "code",
   "execution_count": 85,
   "metadata": {},
   "outputs": [
    {
     "data": {
      "text/html": [
       "<table>\n",
       "<thead><tr><th scope=col>conc</th></tr></thead>\n",
       "<tbody>\n",
       "\t<tr><td>1.53</td></tr>\n",
       "\t<tr><td>1.50</td></tr>\n",
       "\t<tr><td>1.37</td></tr>\n",
       "\t<tr><td>1.51</td></tr>\n",
       "\t<tr><td>1.55</td></tr>\n",
       "\t<tr><td>1.42</td></tr>\n",
       "\t<tr><td>1.41</td></tr>\n",
       "\t<tr><td>1.48</td></tr>\n",
       "</tbody>\n",
       "</table>\n"
      ],
      "text/latex": [
       "\\begin{tabular}{r|l}\n",
       " conc\\\\\n",
       "\\hline\n",
       "\t 1.53\\\\\n",
       "\t 1.50\\\\\n",
       "\t 1.37\\\\\n",
       "\t 1.51\\\\\n",
       "\t 1.55\\\\\n",
       "\t 1.42\\\\\n",
       "\t 1.41\\\\\n",
       "\t 1.48\\\\\n",
       "\\end{tabular}\n"
      ],
      "text/markdown": [
       "\n",
       "| conc |\n",
       "|---|\n",
       "| 1.53 |\n",
       "| 1.50 |\n",
       "| 1.37 |\n",
       "| 1.51 |\n",
       "| 1.55 |\n",
       "| 1.42 |\n",
       "| 1.41 |\n",
       "| 1.48 |\n",
       "\n"
      ],
      "text/plain": [
       "  conc\n",
       "1 1.53\n",
       "2 1.50\n",
       "3 1.37\n",
       "4 1.51\n",
       "5 1.55\n",
       "6 1.42\n",
       "7 1.41\n",
       "8 1.48"
      ]
     },
     "metadata": {},
     "output_type": "display_data"
    }
   ],
   "source": [
    "head(ammonia, n=8)"
   ]
  },
  {
   "cell_type": "code",
   "execution_count": 91,
   "metadata": {},
   "outputs": [],
   "source": [
    "amm <- ammonia$conc"
   ]
  },
  {
   "cell_type": "code",
   "execution_count": 92,
   "metadata": {},
   "outputs": [
    {
     "data": {
      "text/html": [
       "8"
      ],
      "text/latex": [
       "8"
      ],
      "text/markdown": [
       "8"
      ],
      "text/plain": [
       "[1] 8"
      ]
     },
     "metadata": {},
     "output_type": "display_data"
    },
    {
     "data": {
      "text/html": [
       "'Mean value of daily ammonia concentrations: 1.47'"
      ],
      "text/latex": [
       "'Mean value of daily ammonia concentrations: 1.47'"
      ],
      "text/markdown": [
       "'Mean value of daily ammonia concentrations: 1.47'"
      ],
      "text/plain": [
       "[1] \"Mean value of daily ammonia concentrations: 1.47\""
      ]
     },
     "metadata": {},
     "output_type": "display_data"
    },
    {
     "data": {
      "text/html": [
       "'Standard deviation of value daily ammonia concentrations: 0.06'"
      ],
      "text/latex": [
       "'Standard deviation of value daily ammonia concentrations: 0.06'"
      ],
      "text/markdown": [
       "'Standard deviation of value daily ammonia concentrations: 0.06'"
      ],
      "text/plain": [
       "[1] \"Standard deviation of value daily ammonia concentrations: 0.06\""
      ]
     },
     "metadata": {},
     "output_type": "display_data"
    }
   ],
   "source": [
    "Nsamp <- length(amm)\n",
    "Nsamp\n",
    "\n",
    "xbar <- mean(amm)\n",
    "sd<- sd(amm)\n",
    "\n",
    "sprintf(\"Mean value of daily ammonia concentrations: %.2f\", xbar)\n",
    "sprintf(\"Standard deviation of value daily ammonia concentrations: %.2f\", sd)\n"
   ]
  },
  {
   "cell_type": "code",
   "execution_count": 95,
   "metadata": {},
   "outputs": [
    {
     "data": {
      "text/html": [
       "2.5758293035489"
      ],
      "text/latex": [
       "2.5758293035489"
      ],
      "text/markdown": [
       "2.5758293035489"
      ],
      "text/plain": [
       "[1] 2.575829"
      ]
     },
     "metadata": {},
     "output_type": "display_data"
    },
    {
     "data": {
      "text/html": [
       "<ol class=list-inline>\n",
       "\t<li>1.41294988418264</li>\n",
       "\t<li>1.52955011581736</li>\n",
       "</ol>\n"
      ],
      "text/latex": [
       "\\begin{enumerate*}\n",
       "\\item 1.41294988418264\n",
       "\\item 1.52955011581736\n",
       "\\end{enumerate*}\n"
      ],
      "text/markdown": [
       "1. 1.41294988418264\n",
       "2. 1.52955011581736\n",
       "\n",
       "\n"
      ],
      "text/plain": [
       "[1] 1.41295 1.52955"
      ]
     },
     "metadata": {},
     "output_type": "display_data"
    }
   ],
   "source": [
    "### 99% CI for mean FNE score in bulimic students \n",
    "\n",
    "alpha<-0.01\n",
    "\n",
    "ZVal<-qnorm(1-alpha/2,0,1)\n",
    "ZVal\n",
    "\n",
    "LowBoundCI<- xbar - ZVal * sd/sqrt(Nsamp)\n",
    "UpBoundCI <- xbar + ZVal * sd/sqrt(Nsamp)\n",
    " \n",
    "CI <- c(LowBoundCI, UpBoundCI)\n",
    "CI"
   ]
  },
  {
   "cell_type": "code",
   "execution_count": null,
   "metadata": {},
   "outputs": [],
   "source": []
  }
 ],
 "metadata": {
  "kernelspec": {
   "display_name": "R",
   "language": "R",
   "name": "ir"
  },
  "language_info": {
   "codemirror_mode": "r",
   "file_extension": ".r",
   "mimetype": "text/x-r-source",
   "name": "R",
   "pygments_lexer": "r",
   "version": "3.6.1"
  }
 },
 "nbformat": 4,
 "nbformat_minor": 2
}

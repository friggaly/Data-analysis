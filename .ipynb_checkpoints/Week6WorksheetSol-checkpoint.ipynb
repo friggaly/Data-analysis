{
 "cells": [
  {
   "cell_type": "markdown",
   "metadata": {},
   "source": [
    "<font color='blue' size=6><b>Demo - Week 6 Worksheet Suggested Solutions</b></font>"
   ]
  },
  {
   "cell_type": "code",
   "execution_count": null,
   "metadata": {},
   "outputs": [],
   "source": []
  },
  {
   "cell_type": "markdown",
   "metadata": {},
   "source": [
    "<font color='blue' size=5><b> Suggested solutions to Part 1 (datafile snack) </b></font>"
   ]
  },
  {
   "cell_type": "code",
   "execution_count": 90,
   "metadata": {},
   "outputs": [
    {
     "data": {
      "text/html": [
       "'C:/Users/C1504359/Dropbox/MAT022-Foundations-of-Statistics-and-Data-Science/Shauna'"
      ],
      "text/latex": [
       "'C:/Users/C1504359/Dropbox/MAT022-Foundations-of-Statistics-and-Data-Science/Shauna'"
      ],
      "text/markdown": [
       "'C:/Users/C1504359/Dropbox/MAT022-Foundations-of-Statistics-and-Data-Science/Shauna'"
      ],
      "text/plain": [
       "[1] \"C:/Users/C1504359/Dropbox/MAT022-Foundations-of-Statistics-and-Data-Science/Shauna\""
      ]
     },
     "metadata": {},
     "output_type": "display_data"
    }
   ],
   "source": [
    "getwd()\n",
    "snack<-read.table(file=\"../Data/snack.txt\",sep=',',header = T)"
   ]
  },
  {
   "cell_type": "code",
   "execution_count": 91,
   "metadata": {},
   "outputs": [
    {
     "data": {
      "text/plain": [
       "           rating  \n",
       " does-not-like:29  \n",
       " indifferent  : 6  \n",
       " like         :15  "
      ]
     },
     "metadata": {},
     "output_type": "display_data"
    }
   ],
   "source": [
    "summary(snack)"
   ]
  },
  {
   "cell_type": "markdown",
   "metadata": {},
   "source": [
    "<font color='blue' size=3>Question: A random sample of 50 consumers was selected to taste a new snack food. The consumers were\n",
    "proposed to choose among the three answers: “does-not-like”, “indifferent” or “like”. \n",
    "Use an 80% confidence interval to estimate the proportion of consumers who like the new\n",
    "snack food and interpret your result. </font>"
   ]
  },
  {
   "cell_type": "code",
   "execution_count": 244,
   "metadata": {},
   "outputs": [
    {
     "data": {
      "text/html": [
       "15"
      ],
      "text/latex": [
       "15"
      ],
      "text/markdown": [
       "15"
      ],
      "text/plain": [
       "[1] 15"
      ]
     },
     "metadata": {},
     "output_type": "display_data"
    },
    {
     "data": {
      "text/html": [
       "35"
      ],
      "text/latex": [
       "35"
      ],
      "text/markdown": [
       "35"
      ],
      "text/plain": [
       "[1] 35"
      ]
     },
     "metadata": {},
     "output_type": "display_data"
    }
   ],
   "source": [
    "a = sum(snack$rating == \"like\") ; a\n",
    "b = sum(snack$rating == \"does-not-like\" | snack$rating == \"indifferent\") ; b"
   ]
  },
  {
   "cell_type": "code",
   "execution_count": 115,
   "metadata": {},
   "outputs": [
    {
     "data": {
      "text/html": [
       "<table>\n",
       "<thead><tr><th scope=col>rating</th><th scope=col>scode</th></tr></thead>\n",
       "<tbody>\n",
       "\t<tr><td>like         </td><td>1            </td></tr>\n",
       "\t<tr><td>does-not-like</td><td>0            </td></tr>\n",
       "\t<tr><td>like         </td><td>1            </td></tr>\n",
       "\t<tr><td>does-not-like</td><td>0            </td></tr>\n",
       "\t<tr><td>does-not-like</td><td>0            </td></tr>\n",
       "\t<tr><td>does-not-like</td><td>0            </td></tr>\n",
       "</tbody>\n",
       "</table>\n"
      ],
      "text/latex": [
       "\\begin{tabular}{r|ll}\n",
       " rating & scode\\\\\n",
       "\\hline\n",
       "\t like          & 1            \\\\\n",
       "\t does-not-like & 0            \\\\\n",
       "\t like          & 1            \\\\\n",
       "\t does-not-like & 0            \\\\\n",
       "\t does-not-like & 0            \\\\\n",
       "\t does-not-like & 0            \\\\\n",
       "\\end{tabular}\n"
      ],
      "text/markdown": [
       "\n",
       "| rating | scode |\n",
       "|---|---|\n",
       "| like          | 1             |\n",
       "| does-not-like | 0             |\n",
       "| like          | 1             |\n",
       "| does-not-like | 0             |\n",
       "| does-not-like | 0             |\n",
       "| does-not-like | 0             |\n",
       "\n"
      ],
      "text/plain": [
       "  rating        scode\n",
       "1 like          1    \n",
       "2 does-not-like 0    \n",
       "3 like          1    \n",
       "4 does-not-like 0    \n",
       "5 does-not-like 0    \n",
       "6 does-not-like 0    "
      ]
     },
     "metadata": {},
     "output_type": "display_data"
    }
   ],
   "source": [
    "dat1<-data.frame(snack) ### convert text to numeric values\n",
    "dat2<-within(dat1,{rating=as.character(rating)}) \n",
    " dat2$scode[dat2$rating==\"like\"]<-\"1\" \n",
    " dat2$scode[dat2$rating==\"does-not-like\"]<-\"0\" \n",
    " dat2$scode[dat2$rating==\"indifferent\"]<-\"0\" \n",
    "dat2$scode<-as.numeric(dat2$scode) \n",
    " head(dat2)  "
   ]
  },
  {
   "cell_type": "code",
   "execution_count": 116,
   "metadata": {},
   "outputs": [
    {
     "data": {
      "text/html": [
       "<ol class=list-inline>\n",
       "\t<li>1</li>\n",
       "\t<li>0</li>\n",
       "\t<li>1</li>\n",
       "\t<li>0</li>\n",
       "\t<li>0</li>\n",
       "\t<li>0</li>\n",
       "\t<li>1</li>\n",
       "\t<li>0</li>\n",
       "\t<li>1</li>\n",
       "\t<li>0</li>\n",
       "\t<li>0</li>\n",
       "\t<li>0</li>\n",
       "\t<li>0</li>\n",
       "\t<li>0</li>\n",
       "\t<li>0</li>\n",
       "\t<li>1</li>\n",
       "\t<li>0</li>\n",
       "\t<li>0</li>\n",
       "\t<li>0</li>\n",
       "\t<li>0</li>\n",
       "\t<li>0</li>\n",
       "\t<li>0</li>\n",
       "\t<li>0</li>\n",
       "\t<li>1</li>\n",
       "\t<li>1</li>\n",
       "\t<li>0</li>\n",
       "\t<li>0</li>\n",
       "\t<li>1</li>\n",
       "\t<li>0</li>\n",
       "\t<li>1</li>\n",
       "\t<li>1</li>\n",
       "\t<li>0</li>\n",
       "\t<li>0</li>\n",
       "\t<li>0</li>\n",
       "\t<li>0</li>\n",
       "\t<li>1</li>\n",
       "\t<li>0</li>\n",
       "\t<li>0</li>\n",
       "\t<li>1</li>\n",
       "\t<li>0</li>\n",
       "\t<li>0</li>\n",
       "\t<li>0</li>\n",
       "\t<li>0</li>\n",
       "\t<li>0</li>\n",
       "\t<li>0</li>\n",
       "\t<li>0</li>\n",
       "\t<li>1</li>\n",
       "\t<li>0</li>\n",
       "\t<li>1</li>\n",
       "\t<li>1</li>\n",
       "</ol>\n"
      ],
      "text/latex": [
       "\\begin{enumerate*}\n",
       "\\item 1\n",
       "\\item 0\n",
       "\\item 1\n",
       "\\item 0\n",
       "\\item 0\n",
       "\\item 0\n",
       "\\item 1\n",
       "\\item 0\n",
       "\\item 1\n",
       "\\item 0\n",
       "\\item 0\n",
       "\\item 0\n",
       "\\item 0\n",
       "\\item 0\n",
       "\\item 0\n",
       "\\item 1\n",
       "\\item 0\n",
       "\\item 0\n",
       "\\item 0\n",
       "\\item 0\n",
       "\\item 0\n",
       "\\item 0\n",
       "\\item 0\n",
       "\\item 1\n",
       "\\item 1\n",
       "\\item 0\n",
       "\\item 0\n",
       "\\item 1\n",
       "\\item 0\n",
       "\\item 1\n",
       "\\item 1\n",
       "\\item 0\n",
       "\\item 0\n",
       "\\item 0\n",
       "\\item 0\n",
       "\\item 1\n",
       "\\item 0\n",
       "\\item 0\n",
       "\\item 1\n",
       "\\item 0\n",
       "\\item 0\n",
       "\\item 0\n",
       "\\item 0\n",
       "\\item 0\n",
       "\\item 0\n",
       "\\item 0\n",
       "\\item 1\n",
       "\\item 0\n",
       "\\item 1\n",
       "\\item 1\n",
       "\\end{enumerate*}\n"
      ],
      "text/markdown": [
       "1. 1\n",
       "2. 0\n",
       "3. 1\n",
       "4. 0\n",
       "5. 0\n",
       "6. 0\n",
       "7. 1\n",
       "8. 0\n",
       "9. 1\n",
       "10. 0\n",
       "11. 0\n",
       "12. 0\n",
       "13. 0\n",
       "14. 0\n",
       "15. 0\n",
       "16. 1\n",
       "17. 0\n",
       "18. 0\n",
       "19. 0\n",
       "20. 0\n",
       "21. 0\n",
       "22. 0\n",
       "23. 0\n",
       "24. 1\n",
       "25. 1\n",
       "26. 0\n",
       "27. 0\n",
       "28. 1\n",
       "29. 0\n",
       "30. 1\n",
       "31. 1\n",
       "32. 0\n",
       "33. 0\n",
       "34. 0\n",
       "35. 0\n",
       "36. 1\n",
       "37. 0\n",
       "38. 0\n",
       "39. 1\n",
       "40. 0\n",
       "41. 0\n",
       "42. 0\n",
       "43. 0\n",
       "44. 0\n",
       "45. 0\n",
       "46. 0\n",
       "47. 1\n",
       "48. 0\n",
       "49. 1\n",
       "50. 1\n",
       "\n",
       "\n"
      ],
      "text/plain": [
       " [1] 1 0 1 0 0 0 1 0 1 0 0 0 0 0 0 1 0 0 0 0 0 0 0 1 1 0 0 1 0 1 1 0 0 0 0 1 0 0\n",
       "[39] 1 0 0 0 0 0 0 0 1 0 1 1"
      ]
     },
     "metadata": {},
     "output_type": "display_data"
    },
    {
     "data": {
      "text/html": [
       "0.3"
      ],
      "text/latex": [
       "0.3"
      ],
      "text/markdown": [
       "0.3"
      ],
      "text/plain": [
       "[1] 0.3"
      ]
     },
     "metadata": {},
     "output_type": "display_data"
    }
   ],
   "source": [
    "num <- dat2[['scode']] ; num\n",
    "\n",
    "mean <- mean(num) ; mean"
   ]
  },
  {
   "cell_type": "code",
   "execution_count": 117,
   "metadata": {},
   "outputs": [
    {
     "data": {
      "text/html": [
       "1.2815515655446"
      ],
      "text/latex": [
       "1.2815515655446"
      ],
      "text/markdown": [
       "1.2815515655446"
      ],
      "text/plain": [
       "[1] 1.281552"
      ]
     },
     "metadata": {},
     "output_type": "display_data"
    },
    {
     "data": {
      "text/html": [
       "<dl class=dl-horizontal>\n",
       "\t<dt>Lower</dt>\n",
       "\t\t<dd>0.216945966120668</dd>\n",
       "\t<dt>Upper</dt>\n",
       "\t\t<dd>0.383054033879332</dd>\n",
       "</dl>\n"
      ],
      "text/latex": [
       "\\begin{description*}\n",
       "\\item[Lower] 0.216945966120668\n",
       "\\item[Upper] 0.383054033879332\n",
       "\\end{description*}\n"
      ],
      "text/markdown": [
       "Lower\n",
       ":   0.216945966120668Upper\n",
       ":   0.383054033879332\n",
       "\n"
      ],
      "text/plain": [
       "   Lower    Upper \n",
       "0.216946 0.383054 "
      ]
     },
     "metadata": {},
     "output_type": "display_data"
    }
   ],
   "source": [
    "alpha<-0.2\n",
    "\n",
    "ZVal <- qnorm(1-alpha/2,0,1) ; ZVal\n",
    "\n",
    "LowBoundCI<- mean - ZVal * sqrt(mean * (1- mean)/n)\n",
    "UpBoundCI <- mean + ZVal * sqrt(mean * (1- mean)/n)\n",
    " \n",
    "CI<-c(LowBoundCI, UpBoundCI)\n",
    "names(CI)<-c('Lower','Upper')\n",
    "CI"
   ]
  },
  {
   "cell_type": "code",
   "execution_count": null,
   "metadata": {},
   "outputs": [],
   "source": []
  },
  {
   "cell_type": "markdown",
   "metadata": {},
   "source": [
    "<font color='blue' size=5><b> Suggested solutions to Part 2 (datafile oilspill) </b></font>"
   ]
  },
  {
   "cell_type": "code",
   "execution_count": 38,
   "metadata": {},
   "outputs": [],
   "source": [
    "oilspill<-read.table(file=\"../Data/oilspill.txt\",sep=',',header = T)"
   ]
  },
  {
   "cell_type": "code",
   "execution_count": 39,
   "metadata": {},
   "outputs": [
    {
     "data": {
      "text/plain": [
       "     amount                cause   \n",
       " Min.   : 21.00   Collision   :10  \n",
       " 1st Qu.: 31.00   Fire        :12  \n",
       " Median : 39.50   Grounding   :14  \n",
       " Mean   : 59.82   Hull-Failure:12  \n",
       " 3rd Qu.: 61.00   Unknown     : 2  \n",
       " Max.   :257.00                    "
      ]
     },
     "metadata": {},
     "output_type": "display_data"
    }
   ],
   "source": [
    "summary(oilspill)"
   ]
  },
  {
   "cell_type": "code",
   "execution_count": 41,
   "metadata": {},
   "outputs": [
    {
     "data": {
      "text/html": [
       "<table>\n",
       "<thead><tr><th scope=col>amount</th><th scope=col>cause</th></tr></thead>\n",
       "<tbody>\n",
       "\t<tr><td>257         </td><td>Collision   </td></tr>\n",
       "\t<tr><td>239         </td><td>Fire        </td></tr>\n",
       "\t<tr><td>221         </td><td>Hull-Failure</td></tr>\n",
       "\t<tr><td>132         </td><td>Fire        </td></tr>\n",
       "\t<tr><td>124         </td><td>Grounding   </td></tr>\n",
       "\t<tr><td>123         </td><td>Collision   </td></tr>\n",
       "</tbody>\n",
       "</table>\n"
      ],
      "text/latex": [
       "\\begin{tabular}{r|ll}\n",
       " amount & cause\\\\\n",
       "\\hline\n",
       "\t 257          & Collision   \\\\\n",
       "\t 239          & Fire        \\\\\n",
       "\t 221          & Hull-Failure\\\\\n",
       "\t 132          & Fire        \\\\\n",
       "\t 124          & Grounding   \\\\\n",
       "\t 123          & Collision   \\\\\n",
       "\\end{tabular}\n"
      ],
      "text/markdown": [
       "\n",
       "| amount | cause |\n",
       "|---|---|\n",
       "| 257          | Collision    |\n",
       "| 239          | Fire         |\n",
       "| 221          | Hull-Failure |\n",
       "| 132          | Fire         |\n",
       "| 124          | Grounding    |\n",
       "| 123          | Collision    |\n",
       "\n"
      ],
      "text/plain": [
       "  amount cause       \n",
       "1 257    Collision   \n",
       "2 239    Fire        \n",
       "3 221    Hull-Failure\n",
       "4 132    Fire        \n",
       "5 124    Grounding   \n",
       "6 123    Collision   "
      ]
     },
     "metadata": {},
     "output_type": "display_data"
    }
   ],
   "source": [
    "head(oilspill)"
   ]
  },
  {
   "cell_type": "markdown",
   "metadata": {},
   "source": [
    "<font color='blue' size=3>The spillage amount and cause of puncture for 50 major spills from oil tankers.</font>"
   ]
  },
  {
   "cell_type": "markdown",
   "metadata": {},
   "source": [
    "<font color='blue' size=3> Question 1: Use an appropriate graphical method to display the causes of oil spillage for the 50 tankers,\n",
    "and state whether the graph suggests that one cause is more likely to occur than any other.</font>"
   ]
  },
  {
   "cell_type": "code",
   "execution_count": 23,
   "metadata": {},
   "outputs": [],
   "source": [
    "coll <- oilspill[oilspill$cause==\"Collision\", c(1)]   ### separate data \n",
    "fire <- oilspill[oilspill$cause==\"Fire\", c(1)] \n",
    "ground <- oilspill[oilspill$cause==\"Grounding\", c(1)] \n",
    "hull <- oilspill[oilspill$cause==\"Hull-Failure\", c(1)]\n",
    "unknown <- oilspill[oilspill$cause==\"Unknown\", c(1)] "
   ]
  },
  {
   "cell_type": "code",
   "execution_count": 24,
   "metadata": {},
   "outputs": [
    {
     "data": {
      "image/png": "[encoded data removed]",
      "text/plain": [
       "plot without title"
      ]
     },
     "metadata": {},
     "output_type": "display_data"
    }
   ],
   "source": [
    "boxplot(coll, fire, ground, hull, unknown, data = oilspill, col=c('green', 'yellow', 'blue', 'orange', 'purple'))"
   ]
  },
  {
   "cell_type": "markdown",
   "metadata": {},
   "source": [
    "<font color='blue' size=3> Question 2: Compute a point estimate for the proportion of major oil spills that are caused by hull\n",
    "failure.</font>"
   ]
  },
  {
   "cell_type": "code",
   "execution_count": 43,
   "metadata": {},
   "outputs": [
    {
     "data": {
      "text/html": [
       "50"
      ],
      "text/latex": [
       "50"
      ],
      "text/markdown": [
       "50"
      ],
      "text/plain": [
       "[1] 50"
      ]
     },
     "metadata": {},
     "output_type": "display_data"
    }
   ],
   "source": [
    "numcoll <- length(coll)\n",
    "numfire <- length(fire)\n",
    "numground <- length(ground)\n",
    "numhull <- length(hull)\n",
    "numunknown <- length(unknown)\n",
    "\n",
    "totalnum <- (numcoll+numfire+numground+numhull+numunknown) ; totalnum "
   ]
  },
  {
   "cell_type": "code",
   "execution_count": 47,
   "metadata": {},
   "outputs": [
    {
     "data": {
      "text/html": [
       "<strong>Point estimate for proportion due to Hull-Failure:</strong> 0.24"
      ],
      "text/latex": [
       "\\textbf{Point estimate for proportion due to Hull-Failure:} 0.24"
      ],
      "text/markdown": [
       "**Point estimate for proportion due to Hull-Failure:** 0.24"
      ],
      "text/plain": [
       "Point estimate for proportion due to Hull-Failure \n",
       "                                             0.24 "
      ]
     },
     "metadata": {},
     "output_type": "display_data"
    }
   ],
   "source": [
    "NbOfSpills <- c(numcoll, numfire, numground, numhull, numunknown)\n",
    "SampSizes     <- rep(c(totalnum), times = 5)\n",
    "\n",
    "###propcoll<-NbOfSpills[1]/SampSizes[1]\n",
    "###propfire<-NbOfSpills[2]/SampSizes[2]\n",
    "###propground<-NbOfSpills[3]/SampSizes[3]\n",
    "prophull<-NbOfSpills[4]/SampSizes[4]\n",
    "###propunknown<-NbOfSpills[5]/SampSizes[5]\n",
    "\n",
    "Props<-c(prophull) ; names(Props)<-c('Point estimate for proportion due to Hull-Failure')\n",
    "Props"
   ]
  },
  {
   "cell_type": "markdown",
   "metadata": {},
   "source": [
    "<font color='blue' size=3> Question 3: Compute a 95% confidence interval for the point estimate, and discuss your result.</font>"
   ]
  },
  {
   "cell_type": "code",
   "execution_count": 48,
   "metadata": {},
   "outputs": [
    {
     "data": {
      "text/html": [
       "1.95996398454005"
      ],
      "text/latex": [
       "1.95996398454005"
      ],
      "text/markdown": [
       "1.95996398454005"
      ],
      "text/plain": [
       "[1] 1.959964"
      ]
     },
     "metadata": {},
     "output_type": "display_data"
    },
    {
     "data": {
      "text/html": [
       "<ol class=list-inline>\n",
       "\t<li>0.179601324517834</li>\n",
       "\t<li>0.300398675482166</li>\n",
       "</ol>\n"
      ],
      "text/latex": [
       "\\begin{enumerate*}\n",
       "\\item 0.179601324517834\n",
       "\\item 0.300398675482166\n",
       "\\end{enumerate*}\n"
      ],
      "text/markdown": [
       "1. 0.179601324517834\n",
       "2. 0.300398675482166\n",
       "\n",
       "\n"
      ],
      "text/plain": [
       "[1] 0.1796013 0.3003987"
      ]
     },
     "metadata": {},
     "output_type": "display_data"
    }
   ],
   "source": [
    "alpha<-0.05 \n",
    "\n",
    "Zval<-qnorm(1-alpha/2,0,1)\n",
    "Zval\n",
    "\n",
    "LowBoundCI<- prophull - sqrt((prophull*(1-prophull))/ totalnum) ### equation can be found in notes\n",
    "UpBoundCI <- prophull + sqrt((prophull*(1-prophull))/ totalnum)\n",
    " \n",
    "CI<-c(LowBoundCI, UpBoundCI)\n",
    "CI"
   ]
  },
  {
   "cell_type": "code",
   "execution_count": null,
   "metadata": {},
   "outputs": [],
   "source": []
  },
  {
   "cell_type": "markdown",
   "metadata": {},
   "source": [
    "<font color='blue' size=5><b> Suggested solutions to Part 3 (datafile football) </b></font>"
   ]
  },
  {
   "cell_type": "code",
   "execution_count": 3,
   "metadata": {},
   "outputs": [
    {
     "name": "stderr",
     "output_type": "stream",
     "text": [
      "Warning message in file(file, \"rt\"):\n",
      "“无法打开文件'Users/frigga/study/Statistics/Data/Data/football.txt': No such file or directory”\n"
     ]
    },
    {
     "ename": "ERROR",
     "evalue": "Error in file(file, \"rt\"): 无法打开链结\n",
     "output_type": "error",
     "traceback": [
      "Error in file(file, \"rt\"): 无法打开链结\nTraceback:\n",
      "1. read.table(file = \"Users/frigga/study/Statistics/Data/Data/football.txt\", \n .     sep = \",\", header = T)",
      "2. file(file, \"rt\")"
     ]
    }
   ],
   "source": [
    "football<-read.table(file=\"Users/frigga/study/Statistics/Data/Data/football.txt\",sep=',',header = T)"
   ]
  },
  {
   "cell_type": "code",
   "execution_count": 51,
   "metadata": {},
   "outputs": [
    {
     "data": {
      "text/html": [
       "<table>\n",
       "<thead><tr><th scope=col>job</th><th scope=col>goal</th><th scope=col>frequent</th></tr></thead>\n",
       "<tbody>\n",
       "\t<tr><td>Staff  </td><td>Yes    </td><td> 5     </td></tr>\n",
       "\t<tr><td>Staff  </td><td>No     </td><td>19     </td></tr>\n",
       "\t<tr><td>Student</td><td>Yes    </td><td>23     </td></tr>\n",
       "\t<tr><td>Student</td><td>No     </td><td>30     </td></tr>\n",
       "</tbody>\n",
       "</table>\n"
      ],
      "text/latex": [
       "\\begin{tabular}{r|lll}\n",
       " job & goal & frequent\\\\\n",
       "\\hline\n",
       "\t Staff   & Yes     &  5     \\\\\n",
       "\t Staff   & No      & 19     \\\\\n",
       "\t Student & Yes     & 23     \\\\\n",
       "\t Student & No      & 30     \\\\\n",
       "\\end{tabular}\n"
      ],
      "text/markdown": [
       "\n",
       "| job | goal | frequent |\n",
       "|---|---|---|\n",
       "| Staff   | Yes     |  5      |\n",
       "| Staff   | No      | 19      |\n",
       "| Student | Yes     | 23      |\n",
       "| Student | No      | 30      |\n",
       "\n"
      ],
      "text/plain": [
       "  job     goal frequent\n",
       "1 Staff   Yes   5      \n",
       "2 Staff   No   19      \n",
       "3 Student Yes  23      \n",
       "4 Student No   30      "
      ]
     },
     "metadata": {},
     "output_type": "display_data"
    }
   ],
   "source": [
    "head(football)"
   ]
  },
  {
   "cell_type": "markdown",
   "metadata": {},
   "source": [
    "<font color='blue' size=3> Staff regularly play five-a-side football against students. Over many matches, the number of\n",
    "players that scored goals were recorded, classified according to whether or not they are staff or\n",
    "students. Perform a chi-square test to see whether staff or students scored significantly more\n",
    "goals. Test the hypothesis that students score more goals than staff. </font>"
   ]
  },
  {
   "cell_type": "code",
   "execution_count": 1,
   "metadata": {},
   "outputs": [
    {
     "ename": "ERROR",
     "evalue": "Error in eval(expr, envir, enclos): 找不到对象'football'\n",
     "output_type": "error",
     "traceback": [
      "Error in eval(expr, envir, enclos): 找不到对象'football'\nTraceback:\n"
     ]
    }
   ],
   "source": [
    "staffgoal <- football[c(1),c(3)] \n",
    "staffnogoal <- football[c(2),c(3)] \n",
    "studentgoal <- football[c(3),c(3)] \n",
    "studentnogoal <- football[c(4),c(3)] \n",
    "\n",
    "staffattempts <- staffgoal + staffnogoal ; staffattempts\n",
    "studentattempts <- studentgoal + studentnogoal ; studentattempts"
   ]
  },
  {
   "cell_type": "code",
   "execution_count": 53,
   "metadata": {},
   "outputs": [
    {
     "data": {
      "text/plain": [
       "\n",
       "\t2-sample test for equality of proportions with continuity correction\n",
       "\n",
       "data:  c(staffgoal, studentgoal) out of c(staffattempts, studentattempts)\n",
       "X-squared = 2.7246, df = 1, p-value = 0.04941\n",
       "alternative hypothesis: less\n",
       "95 percent confidence interval:\n",
       " -1.00000000 -0.01891855\n",
       "sample estimates:\n",
       "   prop 1    prop 2 \n",
       "0.2083333 0.4339623 \n"
      ]
     },
     "metadata": {},
     "output_type": "display_data"
    }
   ],
   "source": [
    "### Test \"H0 : number of staff goals = number of students goals\" \n",
    "### against \"H1 : number of staff goals <= number of student goals\" \n",
    "prop.test(x = c(staffgoal, studentgoal), n = c(staffattempts, studentattempts),\n",
    "          alternative = \"less\",\n",
    "          conf.level = 0.95, correct = TRUE) ### try alpha=0.05 and 0.1"
   ]
  },
  {
   "cell_type": "code",
   "execution_count": 54,
   "metadata": {},
   "outputs": [],
   "source": [
    "##   At the risk level  0.5% , we reject  H0  for  H1 ; the data therefore suggests that there is a staff score \n",
    "##   statisticaly less significantly than students."
   ]
  },
  {
   "cell_type": "code",
   "execution_count": null,
   "metadata": {},
   "outputs": [],
   "source": []
  }
 ],
 "metadata": {
  "kernelspec": {
   "display_name": "R",
   "language": "R",
   "name": "ir"
  },
  "language_info": {
   "codemirror_mode": "r",
   "file_extension": ".r",
   "mimetype": "text/x-r-source",
   "name": "R",
   "pygments_lexer": "r",
   "version": "3.6.1"
  }
 },
 "nbformat": 4,
 "nbformat_minor": 2
}

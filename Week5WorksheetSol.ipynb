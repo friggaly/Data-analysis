{
 "cells": [
  {
   "cell_type": "markdown",
   "metadata": {},
   "source": [
    "<font color='blue' size=6><b>Demo - Week 5 Worksheet Suggested Solutions</b></font>"
   ]
  },
  {
   "cell_type": "markdown",
   "metadata": {},
   "source": [
    "<font size=3 color='blue'> For this worksheet, we will need the following functions. \n",
    "</font>"
   ]
  },
  {
   "cell_type": "code",
   "execution_count": 126,
   "metadata": {},
   "outputs": [],
   "source": [
    "### install.packages('EnvStats',repos='https://cran.ma.imperial.ac.uk/')\n",
    "### library(EnvStats)"
   ]
  },
  {
   "cell_type": "code",
   "execution_count": 125,
   "metadata": {},
   "outputs": [],
   "source": [
    "### install.packages('datasets',repos='https://cran.ma.imperial.ac.uk/')\n",
    "### library(datasets)"
   ]
  },
  {
   "cell_type": "markdown",
   "metadata": {},
   "source": [
    "<font color='blue' size=5><b> Suggested solutions to Part 1 (datafile bones) </b></font>"
   ]
  },
  {
   "cell_type": "code",
   "execution_count": 10,
   "metadata": {},
   "outputs": [
    {
     "data": {
      "text/html": [
       "'C:/Users/C1504359/Dropbox/MAT022-Foundations-of-Statistics-and-Data-Science/labsolutions'"
      ],
      "text/latex": [
       "'C:/Users/C1504359/Dropbox/MAT022-Foundations-of-Statistics-and-Data-Science/labsolutions'"
      ],
      "text/markdown": [
       "'C:/Users/C1504359/Dropbox/MAT022-Foundations-of-Statistics-and-Data-Science/labsolutions'"
      ],
      "text/plain": [
       "[1] \"C:/Users/C1504359/Dropbox/MAT022-Foundations-of-Statistics-and-Data-Science/labsolutions\""
      ]
     },
     "metadata": {},
     "output_type": "display_data"
    }
   ],
   "source": [
    "getwd()\n",
    "bones<-read.table(file=\"../Data/bones.txt\",sep=',',header = T)"
   ]
  },
  {
   "cell_type": "code",
   "execution_count": 11,
   "metadata": {},
   "outputs": [
    {
     "data": {
      "text/plain": [
       "    l2wratio     \n",
       " Min.   : 6.230  \n",
       " 1st Qu.: 8.710  \n",
       " Median : 9.200  \n",
       " Mean   : 9.258  \n",
       " 3rd Qu.: 9.930  \n",
       " Max.   :12.000  "
      ]
     },
     "metadata": {},
     "output_type": "display_data"
    }
   ],
   "source": [
    "summary(bones)"
   ]
  },
  {
   "cell_type": "markdown",
   "metadata": {},
   "source": [
    "<font color='blue' size=3>Question: Humerus bones from the same species of animal tend to have approximately the same length-to-width ratio. When fossils of humerus bones are discovered, archeologists can often determine\n",
    "the corresponding species of animal by examining the length-to-width ratios of the bones. It is\n",
    "known that species A exhibits a mean length-to-width ratio of 8.5. A set of 41 fossils of humerus\n",
    "bones were unearthed at an archeological site in East Africa, where species A is believed to have\n",
    "lived. The length-to-width ratio of each bone was calculated, and it is assumed that all bones\n",
    "belong to the same unknown species. Test to determine whether the true mean length-to-width\n",
    "ratio of all humerus bones belonging to this particular species differs from 8.5 at significance\n",
    "level alpha = 0.05.</font>"
   ]
  },
  {
   "cell_type": "code",
   "execution_count": 19,
   "metadata": {},
   "outputs": [],
   "source": [
    "### Test \"H0 : mean of x = 8.5\" \n",
    "### against \"H1 : mean of x != 8.5\" \n",
    "ttest<-t.test(bones,mu=8.5,conf.level=0.95)"
   ]
  },
  {
   "cell_type": "code",
   "execution_count": 20,
   "metadata": {},
   "outputs": [
    {
     "data": {
      "text/plain": [
       "\n",
       "\tOne Sample t-test\n",
       "\n",
       "data:  bones\n",
       "t = 4.0303, df = 40, p-value = 0.0002427\n",
       "alternative hypothesis: true mean is not equal to 8.5\n",
       "95 percent confidence interval:\n",
       " 8.877669 9.637453\n",
       "sample estimates:\n",
       "mean of x \n",
       " 9.257561 \n"
      ]
     },
     "metadata": {},
     "output_type": "display_data"
    }
   ],
   "source": [
    "ttest"
   ]
  },
  {
   "cell_type": "code",
   "execution_count": 21,
   "metadata": {},
   "outputs": [
    {
     "data": {
      "text/html": [
       "<ol class=list-inline>\n",
       "\t<li>'statistic'</li>\n",
       "\t<li>'parameter'</li>\n",
       "\t<li>'p.value'</li>\n",
       "\t<li>'conf.int'</li>\n",
       "\t<li>'estimate'</li>\n",
       "\t<li>'null.value'</li>\n",
       "\t<li>'stderr'</li>\n",
       "\t<li>'alternative'</li>\n",
       "\t<li>'method'</li>\n",
       "\t<li>'data.name'</li>\n",
       "</ol>\n"
      ],
      "text/latex": [
       "\\begin{enumerate*}\n",
       "\\item 'statistic'\n",
       "\\item 'parameter'\n",
       "\\item 'p.value'\n",
       "\\item 'conf.int'\n",
       "\\item 'estimate'\n",
       "\\item 'null.value'\n",
       "\\item 'stderr'\n",
       "\\item 'alternative'\n",
       "\\item 'method'\n",
       "\\item 'data.name'\n",
       "\\end{enumerate*}\n"
      ],
      "text/markdown": [
       "1. 'statistic'\n",
       "2. 'parameter'\n",
       "3. 'p.value'\n",
       "4. 'conf.int'\n",
       "5. 'estimate'\n",
       "6. 'null.value'\n",
       "7. 'stderr'\n",
       "8. 'alternative'\n",
       "9. 'method'\n",
       "10. 'data.name'\n",
       "\n",
       "\n"
      ],
      "text/plain": [
       " [1] \"statistic\"   \"parameter\"   \"p.value\"     \"conf.int\"    \"estimate\"   \n",
       " [6] \"null.value\"  \"stderr\"      \"alternative\" \"method\"      \"data.name\"  "
      ]
     },
     "metadata": {},
     "output_type": "display_data"
    }
   ],
   "source": [
    "names(ttest)"
   ]
  },
  {
   "cell_type": "code",
   "execution_count": 22,
   "metadata": {},
   "outputs": [
    {
     "data": {
      "text/html": [
       "<strong>t:</strong> 4.03032384686874"
      ],
      "text/latex": [
       "\\textbf{t:} 4.03032384686874"
      ],
      "text/markdown": [
       "**t:** 4.03032384686874"
      ],
      "text/plain": [
       "       t \n",
       "4.030324 "
      ]
     },
     "metadata": {},
     "output_type": "display_data"
    }
   ],
   "source": [
    "ttest[['statistic']]"
   ]
  },
  {
   "cell_type": "code",
   "execution_count": 23,
   "metadata": {},
   "outputs": [
    {
     "data": {
      "text/html": [
       "0.000242673041198732"
      ],
      "text/latex": [
       "0.000242673041198732"
      ],
      "text/markdown": [
       "0.000242673041198732"
      ],
      "text/plain": [
       "[1] 0.000242673"
      ]
     },
     "metadata": {},
     "output_type": "display_data"
    }
   ],
   "source": [
    "ttest[['p.value']] "
   ]
  },
  {
   "cell_type": "code",
   "execution_count": null,
   "metadata": {},
   "outputs": [],
   "source": [
    "### P-value < alpha : reject H0 and accept H1\n",
    "### P-value => alpha : fail to reject H0 and cannot accept H1\n",
    "\n",
    "### there is strong evidence that the bones are not from species A"
   ]
  },
  {
   "cell_type": "code",
   "execution_count": null,
   "metadata": {},
   "outputs": [],
   "source": []
  },
  {
   "cell_type": "markdown",
   "metadata": {},
   "source": [
    "<font color='blue' size=5><b> Suggested solutions to Part 2 (datafile irontemp) </b></font>"
   ]
  },
  {
   "cell_type": "code",
   "execution_count": 29,
   "metadata": {},
   "outputs": [],
   "source": [
    "irontemp<-read.table(file=\"../Data/irontemp.txt\",sep=',',header = T)"
   ]
  },
  {
   "cell_type": "code",
   "execution_count": 30,
   "metadata": {},
   "outputs": [
    {
     "data": {
      "text/plain": [
       "      temp     \n",
       " Min.   :2541  \n",
       " 1st Qu.:2546  \n",
       " Median :2553  \n",
       " Mean   :2559  \n",
       " 3rd Qu.:2560  \n",
       " Max.   :2620  "
      ]
     },
     "metadata": {},
     "output_type": "display_data"
    }
   ],
   "source": [
    "summary(irontemp)"
   ]
  },
  {
   "cell_type": "markdown",
   "metadata": {},
   "source": [
    "<font color='blue' size=3>Question: A steel company make automotive components. When the process is stable, the target pouring\n",
    "temperature of the molten iron is 2550F.  The file contains the pouring temperatures for a\n",
    "random sample of 10 crankshafts produced at the plant. Test to determine whether the true\n",
    "mean pouring temperature differs from the target temperature at significance level alpha = 0.05.</font>"
   ]
  },
  {
   "cell_type": "code",
   "execution_count": 26,
   "metadata": {},
   "outputs": [],
   "source": [
    "### Test \"H0 : mean of x = 2550\" \n",
    "### against \"H1 : mean of x != 2550\n",
    "ttest<-t.test(irontemp,mu=2550,conf.level=0.95)"
   ]
  },
  {
   "cell_type": "code",
   "execution_count": 35,
   "metadata": {},
   "outputs": [
    {
     "data": {
      "text/plain": [
       "\n",
       "\tOne Sample t-test\n",
       "\n",
       "data:  irontemp\n",
       "t = 1.2096, df = 9, p-value = 0.2573\n",
       "alternative hypothesis: true mean is not equal to 2550\n",
       "95 percent confidence interval:\n",
       " 2542.429 2574.971\n",
       "sample estimates:\n",
       "mean of x \n",
       "   2558.7 \n"
      ]
     },
     "metadata": {},
     "output_type": "display_data"
    }
   ],
   "source": [
    "ttest"
   ]
  },
  {
   "cell_type": "code",
   "execution_count": 36,
   "metadata": {},
   "outputs": [
    {
     "data": {
      "text/html": [
       "<strong>t:</strong> 1.20956540709659"
      ],
      "text/latex": [
       "\\textbf{t:} 1.20956540709659"
      ],
      "text/markdown": [
       "**t:** 1.20956540709659"
      ],
      "text/plain": [
       "       t \n",
       "1.209565 "
      ]
     },
     "metadata": {},
     "output_type": "display_data"
    }
   ],
   "source": [
    "ttest[['statistic']]"
   ]
  },
  {
   "cell_type": "code",
   "execution_count": 37,
   "metadata": {},
   "outputs": [
    {
     "data": {
      "text/html": [
       "0.257258204531326"
      ],
      "text/latex": [
       "0.257258204531326"
      ],
      "text/markdown": [
       "0.257258204531326"
      ],
      "text/plain": [
       "[1] 0.2572582"
      ]
     },
     "metadata": {},
     "output_type": "display_data"
    }
   ],
   "source": [
    "ttest[['p.value']] "
   ]
  },
  {
   "cell_type": "code",
   "execution_count": null,
   "metadata": {},
   "outputs": [],
   "source": [
    "### 0.25 > 0.05 so the difference is not statistically significant (cannot reject null hypothesis)"
   ]
  },
  {
   "cell_type": "code",
   "execution_count": null,
   "metadata": {},
   "outputs": [],
   "source": []
  },
  {
   "cell_type": "markdown",
   "metadata": {},
   "source": [
    "<font color='blue' size=5><b> Suggested solutions to Part 3 (datafile pigeons) </b></font>"
   ]
  },
  {
   "cell_type": "code",
   "execution_count": 32,
   "metadata": {},
   "outputs": [],
   "source": [
    "pigeons<-read.table(file=\"../Data/pigeons.txt\",sep=',',header = T)"
   ]
  },
  {
   "cell_type": "code",
   "execution_count": 33,
   "metadata": {},
   "outputs": [
    {
     "data": {
      "text/plain": [
       "     weight      \n",
       " Min.   :0.2010  \n",
       " 1st Qu.:0.5118  \n",
       " Median :1.3465  \n",
       " Mean   :1.3731  \n",
       " 3rd Qu.:1.7383  \n",
       " Max.   :3.7510  "
      ]
     },
     "metadata": {},
     "output_type": "display_data"
    }
   ],
   "source": [
    "summary(pigeons)"
   ]
  },
  {
   "cell_type": "markdown",
   "metadata": {},
   "source": [
    "<font color='blue' size=3>Question: In a study of the diets and water requirements of spinifex pigeons living in Western Australia, sixteen pigeons were captured and the stomach contents of each was examined. The file records\n",
    "the weight of dry seeds found in the stomach of each pigeon. Conduct a test of the null hypothesis\n",
    "H0 : mu = 1 against the alternative hypothesis H1 : mu != 1  at significance level alpha = 0.01, where mu is the true mean weight. </font>"
   ]
  },
  {
   "cell_type": "code",
   "execution_count": 55,
   "metadata": {},
   "outputs": [],
   "source": [
    "### Test \"H0 : mean of x = 1\" \n",
    "### against \"H1 : mean of x != 1\n",
    "ttest<-t.test(pigeons,mu=1,conf.level=0.99)"
   ]
  },
  {
   "cell_type": "code",
   "execution_count": 56,
   "metadata": {},
   "outputs": [
    {
     "data": {
      "text/plain": [
       "\n",
       "\tOne Sample t-test\n",
       "\n",
       "data:  pigeons\n",
       "t = 1.4435, df = 15, p-value = 0.1694\n",
       "alternative hypothesis: true mean is not equal to 1\n",
       "99 percent confidence interval:\n",
       " 0.6114361 2.1348139\n",
       "sample estimates:\n",
       "mean of x \n",
       " 1.373125 \n"
      ]
     },
     "metadata": {},
     "output_type": "display_data"
    }
   ],
   "source": [
    "ttest"
   ]
  },
  {
   "cell_type": "code",
   "execution_count": 57,
   "metadata": {},
   "outputs": [
    {
     "data": {
      "text/html": [
       "<strong>t:</strong> 1.44349255687985"
      ],
      "text/latex": [
       "\\textbf{t:} 1.44349255687985"
      ],
      "text/markdown": [
       "**t:** 1.44349255687985"
      ],
      "text/plain": [
       "       t \n",
       "1.443493 "
      ]
     },
     "metadata": {},
     "output_type": "display_data"
    }
   ],
   "source": [
    "ttest[['statistic']]"
   ]
  },
  {
   "cell_type": "code",
   "execution_count": 58,
   "metadata": {},
   "outputs": [
    {
     "data": {
      "text/html": [
       "0.169441439414107"
      ],
      "text/latex": [
       "0.169441439414107"
      ],
      "text/markdown": [
       "0.169441439414107"
      ],
      "text/plain": [
       "[1] 0.1694414"
      ]
     },
     "metadata": {},
     "output_type": "display_data"
    }
   ],
   "source": [
    "ttest[['p.value']]"
   ]
  },
  {
   "cell_type": "code",
   "execution_count": null,
   "metadata": {},
   "outputs": [],
   "source": [
    "### The sample mean is not an extreme value under H0, so we do not reject H0."
   ]
  },
  {
   "cell_type": "code",
   "execution_count": null,
   "metadata": {},
   "outputs": [],
   "source": []
  },
  {
   "cell_type": "markdown",
   "metadata": {},
   "source": [
    "<font color='blue' size=5><b> Suggested solutions to Part 4 (datafile pcb) </b></font>"
   ]
  },
  {
   "cell_type": "code",
   "execution_count": 63,
   "metadata": {},
   "outputs": [],
   "source": [
    "pcb<-read.table(file=\"../Data/pcb.txt\",sep=',',header = T)"
   ]
  },
  {
   "cell_type": "code",
   "execution_count": 64,
   "metadata": {},
   "outputs": [
    {
     "data": {
      "text/plain": [
       "   nbinspect     \n",
       " Min.   : 0.000  \n",
       " 1st Qu.: 9.000  \n",
       " Median : 9.000  \n",
       " Mean   : 9.292  \n",
       " 3rd Qu.:10.000  \n",
       " Max.   :13.000  "
      ]
     },
     "metadata": {},
     "output_type": "display_data"
    }
   ],
   "source": [
    "summary(pcb)"
   ]
  },
  {
   "cell_type": "markdown",
   "metadata": {},
   "source": [
    "<font color='blue' size=3> Modern technology uses lasers to inspect solder-joint defects on printed circuit boards (PCBs). A\n",
    "particular manufacturer of laser-based inspection equipment claims that its product can inspect\n",
    "on average at least 10 solder joints per second when the joints are spaced 0.1mm apart. The\n",
    "equipment was tested by a potential buyer on 48 different PCBs. In each case, the equipment\n",
    "was operated for exactly one second. The file records the number of solder joints inspected on\n",
    "each run.  </font>"
   ]
  },
  {
   "cell_type": "markdown",
   "metadata": {},
   "source": [
    "<font color='blue' size=3> Question 1: Check the manufacturer’s claim by testing H0 : mu = 10 against H1 : mu < 10 at significance level alpha = 0.05, where mu is the true mean number of solder joints tested per second. </font>"
   ]
  },
  {
   "cell_type": "code",
   "execution_count": 65,
   "metadata": {},
   "outputs": [],
   "source": [
    "### Test \"H0 : mean of x = 10\" \n",
    "### against \"H1 : mean of x < 10\n",
    "ttest<-t.test(pcb,mu=10,conf.level=0.95,alternative='less')"
   ]
  },
  {
   "cell_type": "code",
   "execution_count": 66,
   "metadata": {},
   "outputs": [
    {
     "data": {
      "text/plain": [
       "\n",
       "\tOne Sample t-test\n",
       "\n",
       "data:  pcb\n",
       "t = -2.3333, df = 47, p-value = 0.01198\n",
       "alternative hypothesis: true mean is less than 10\n",
       "95 percent confidence interval:\n",
       "     -Inf 9.801054\n",
       "sample estimates:\n",
       "mean of x \n",
       " 9.291667 \n"
      ]
     },
     "metadata": {},
     "output_type": "display_data"
    }
   ],
   "source": [
    "ttest"
   ]
  },
  {
   "cell_type": "code",
   "execution_count": 67,
   "metadata": {},
   "outputs": [
    {
     "data": {
      "text/html": [
       "0.0119822802247102"
      ],
      "text/latex": [
       "0.0119822802247102"
      ],
      "text/markdown": [
       "0.0119822802247102"
      ],
      "text/plain": [
       "[1] 0.01198228"
      ]
     },
     "metadata": {},
     "output_type": "display_data"
    }
   ],
   "source": [
    "ttest[['p.value']]"
   ]
  },
  {
   "cell_type": "code",
   "execution_count": 68,
   "metadata": {},
   "outputs": [],
   "source": [
    "### 0.012 < 0.05 so there is strong enough evidence to reject null hypothesis"
   ]
  },
  {
   "cell_type": "markdown",
   "metadata": {},
   "source": [
    "<font color='blue' size=3> Question 2: If the standard deviation of the the number of solder joints tested per second is 1.2,\n",
    "compute the power of the test to detect the alternative hypothesis H1 : mu = 9.5. </font>"
   ]
  },
  {
   "cell_type": "code",
   "execution_count": 132,
   "metadata": {},
   "outputs": [
    {
     "data": {
      "text/plain": [
       "\n",
       "     One-sample t test power calculation \n",
       "\n",
       "              n = 48\n",
       "          delta = 0.5\n",
       "             sd = 1.2\n",
       "      sig.level = 0.05\n",
       "          power = 0.8849196\n",
       "    alternative = one.sided\n"
      ]
     },
     "metadata": {},
     "output_type": "display_data"
    }
   ],
   "source": [
    "ptest <- power.t.test(n = 48, delta=0.5, sig.level = 0.05, sd=1.2, type=\"one.sample\", alternative=\"one.sided\") ; ptest"
   ]
  },
  {
   "cell_type": "code",
   "execution_count": 133,
   "metadata": {},
   "outputs": [
    {
     "data": {
      "text/html": [
       "0.884919617339743"
      ],
      "text/latex": [
       "0.884919617339743"
      ],
      "text/markdown": [
       "0.884919617339743"
      ],
      "text/plain": [
       "[1] 0.8849196"
      ]
     },
     "metadata": {},
     "output_type": "display_data"
    }
   ],
   "source": [
    "ptest$power"
   ]
  },
  {
   "cell_type": "code",
   "execution_count": null,
   "metadata": {},
   "outputs": [],
   "source": []
  },
  {
   "cell_type": "markdown",
   "metadata": {},
   "source": [
    "<font color='blue' size=5><b> Suggested solutions to Part 5 (datafile homophone) </b></font>"
   ]
  },
  {
   "cell_type": "code",
   "execution_count": 112,
   "metadata": {},
   "outputs": [],
   "source": [
    "homophone<-read.table(file=\"../Data/homophone.txt\",sep=',',header = T)"
   ]
  },
  {
   "cell_type": "code",
   "execution_count": 113,
   "metadata": {},
   "outputs": [
    {
     "data": {
      "text/plain": [
       "     error1          error2     \n",
       " Min.   : 0.00   Min.   : 0.00  \n",
       " 1st Qu.: 1.00   1st Qu.: 2.75  \n",
       " Median : 5.00   Median : 5.50  \n",
       " Mean   : 4.15   Mean   : 5.80  \n",
       " 3rd Qu.: 6.25   3rd Qu.: 8.25  \n",
       " Max.   :11.00   Max.   :16.00  "
      ]
     },
     "metadata": {},
     "output_type": "display_data"
    }
   ],
   "source": [
    "summary(homophone)"
   ]
  },
  {
   "cell_type": "markdown",
   "metadata": {},
   "source": [
    "<font color='blue' size=3> Question: A homophone is a word whose pronounciation is the same as that of another word having a\n",
    "different meaning and spelling (e.g. none and nun). It is claimed that Alzheimer’s patients\n",
    "show a significant increase in mean homophone confusion errors over time. Twenty patients\n",
    "suffering from Alzheimer’s disease were asked to spell 24 homophone pairs given in a random\n",
    "order, and the number of homophone confusions was recorded for each patient. One year later,\n",
    "the same test was given to the same patients. Test the claim that Alzheimer’s patients show a\n",
    "significant increase in mean homophone confusion errors over time. </font>"
   ]
  },
  {
   "cell_type": "code",
   "execution_count": 118,
   "metadata": {},
   "outputs": [
    {
     "data": {
      "image/png": "[encoded data removed]",
      "text/plain": [
       "plot without title"
      ]
     },
     "metadata": {},
     "output_type": "display_data"
    }
   ],
   "source": [
    "boxplot(homophone[[1]],homophone[[2]], data = homophone, col=c('cyan', 'deeppink2'))"
   ]
  },
  {
   "cell_type": "code",
   "execution_count": 74,
   "metadata": {},
   "outputs": [
    {
     "data": {
      "text/html": [
       "<ol class=list-inline>\n",
       "\t<li>5</li>\n",
       "\t<li>1</li>\n",
       "\t<li>0</li>\n",
       "\t<li>1</li>\n",
       "\t<li>0</li>\n",
       "\t<li>2</li>\n",
       "\t<li>5</li>\n",
       "\t<li>1</li>\n",
       "\t<li>0</li>\n",
       "\t<li>5</li>\n",
       "\t<li>7</li>\n",
       "\t<li>0</li>\n",
       "\t<li>3</li>\n",
       "\t<li>5</li>\n",
       "\t<li>7</li>\n",
       "\t<li>10</li>\n",
       "\t<li>5</li>\n",
       "\t<li>6</li>\n",
       "\t<li>9</li>\n",
       "\t<li>11</li>\n",
       "</ol>\n"
      ],
      "text/latex": [
       "\\begin{enumerate*}\n",
       "\\item 5\n",
       "\\item 1\n",
       "\\item 0\n",
       "\\item 1\n",
       "\\item 0\n",
       "\\item 2\n",
       "\\item 5\n",
       "\\item 1\n",
       "\\item 0\n",
       "\\item 5\n",
       "\\item 7\n",
       "\\item 0\n",
       "\\item 3\n",
       "\\item 5\n",
       "\\item 7\n",
       "\\item 10\n",
       "\\item 5\n",
       "\\item 6\n",
       "\\item 9\n",
       "\\item 11\n",
       "\\end{enumerate*}\n"
      ],
      "text/markdown": [
       "1. 5\n",
       "2. 1\n",
       "3. 0\n",
       "4. 1\n",
       "5. 0\n",
       "6. 2\n",
       "7. 5\n",
       "8. 1\n",
       "9. 0\n",
       "10. 5\n",
       "11. 7\n",
       "12. 0\n",
       "13. 3\n",
       "14. 5\n",
       "15. 7\n",
       "16. 10\n",
       "17. 5\n",
       "18. 6\n",
       "19. 9\n",
       "20. 11\n",
       "\n",
       "\n"
      ],
      "text/plain": [
       " [1]  5  1  0  1  0  2  5  1  0  5  7  0  3  5  7 10  5  6  9 11"
      ]
     },
     "metadata": {},
     "output_type": "display_data"
    }
   ],
   "source": [
    "test1<-homophone[[1]]\n",
    "test1"
   ]
  },
  {
   "cell_type": "code",
   "execution_count": 119,
   "metadata": {},
   "outputs": [
    {
     "data": {
      "text/html": [
       "<ol class=list-inline>\n",
       "\t<li>5</li>\n",
       "\t<li>3</li>\n",
       "\t<li>0</li>\n",
       "\t<li>1</li>\n",
       "\t<li>1</li>\n",
       "\t<li>1</li>\n",
       "\t<li>6</li>\n",
       "\t<li>2</li>\n",
       "\t<li>9</li>\n",
       "\t<li>8</li>\n",
       "\t<li>10</li>\n",
       "\t<li>3</li>\n",
       "\t<li>9</li>\n",
       "\t<li>8</li>\n",
       "\t<li>12</li>\n",
       "\t<li>16</li>\n",
       "\t<li>5</li>\n",
       "\t<li>3</li>\n",
       "\t<li>6</li>\n",
       "\t<li>8</li>\n",
       "</ol>\n"
      ],
      "text/latex": [
       "\\begin{enumerate*}\n",
       "\\item 5\n",
       "\\item 3\n",
       "\\item 0\n",
       "\\item 1\n",
       "\\item 1\n",
       "\\item 1\n",
       "\\item 6\n",
       "\\item 2\n",
       "\\item 9\n",
       "\\item 8\n",
       "\\item 10\n",
       "\\item 3\n",
       "\\item 9\n",
       "\\item 8\n",
       "\\item 12\n",
       "\\item 16\n",
       "\\item 5\n",
       "\\item 3\n",
       "\\item 6\n",
       "\\item 8\n",
       "\\end{enumerate*}\n"
      ],
      "text/markdown": [
       "1. 5\n",
       "2. 3\n",
       "3. 0\n",
       "4. 1\n",
       "5. 1\n",
       "6. 1\n",
       "7. 6\n",
       "8. 2\n",
       "9. 9\n",
       "10. 8\n",
       "11. 10\n",
       "12. 3\n",
       "13. 9\n",
       "14. 8\n",
       "15. 12\n",
       "16. 16\n",
       "17. 5\n",
       "18. 3\n",
       "19. 6\n",
       "20. 8\n",
       "\n",
       "\n"
      ],
      "text/plain": [
       " [1]  5  3  0  1  1  1  6  2  9  8 10  3  9  8 12 16  5  3  6  8"
      ]
     },
     "metadata": {},
     "output_type": "display_data"
    }
   ],
   "source": [
    "test2<-homophone[[2]]\n",
    "test2"
   ]
  },
  {
   "cell_type": "code",
   "execution_count": 148,
   "metadata": {},
   "outputs": [],
   "source": [
    "### Test \"H0 : mean of test2 = test1\" \n",
    "### against \"H1 : difference of means of test1 and test2 > 0\"\n",
    "ttest<-t.test(test2,test1,conf.level=0.95,alternative='greater', paired=TRUE)"
   ]
  },
  {
   "cell_type": "code",
   "execution_count": 149,
   "metadata": {},
   "outputs": [
    {
     "data": {
      "text/plain": [
       "\n",
       "\tPaired t-test\n",
       "\n",
       "data:  test2 and test1\n",
       "t = 2.306, df = 19, p-value = 0.01627\n",
       "alternative hypothesis: true difference in means is greater than 0\n",
       "95 percent confidence interval:\n",
       " 0.4127651       Inf\n",
       "sample estimates:\n",
       "mean of the differences \n",
       "                   1.65 \n"
      ]
     },
     "metadata": {},
     "output_type": "display_data"
    }
   ],
   "source": [
    "ttest"
   ]
  },
  {
   "cell_type": "code",
   "execution_count": 150,
   "metadata": {},
   "outputs": [
    {
     "data": {
      "text/html": [
       "<strong>t:</strong> 2.30600436459467"
      ],
      "text/latex": [
       "\\textbf{t:} 2.30600436459467"
      ],
      "text/markdown": [
       "**t:** 2.30600436459467"
      ],
      "text/plain": [
       "       t \n",
       "2.306004 "
      ]
     },
     "metadata": {},
     "output_type": "display_data"
    }
   ],
   "source": [
    "ttest[['statistic']]"
   ]
  },
  {
   "cell_type": "code",
   "execution_count": 151,
   "metadata": {},
   "outputs": [
    {
     "data": {
      "text/html": [
       "0.0162747062521493"
      ],
      "text/latex": [
       "0.0162747062521493"
      ],
      "text/markdown": [
       "0.0162747062521493"
      ],
      "text/plain": [
       "[1] 0.01627471"
      ]
     },
     "metadata": {},
     "output_type": "display_data"
    }
   ],
   "source": [
    "ttest[['p.value']]"
   ]
  },
  {
   "cell_type": "code",
   "execution_count": null,
   "metadata": {},
   "outputs": [],
   "source": [
    "### reject H0 at alpha=0.05, confusion errors increase over time"
   ]
  },
  {
   "cell_type": "code",
   "execution_count": null,
   "metadata": {},
   "outputs": [],
   "source": []
  },
  {
   "cell_type": "markdown",
   "metadata": {},
   "source": [
    "<font color='blue' size=5><b> Suggested solutions to Part 6 (datafile biofeed) </b></font>"
   ]
  },
  {
   "cell_type": "code",
   "execution_count": 152,
   "metadata": {},
   "outputs": [],
   "source": [
    "biofeed<-read.table(file=\"../Data/biofeed.txt\",sep=',',header = T)"
   ]
  },
  {
   "cell_type": "code",
   "execution_count": 153,
   "metadata": {},
   "outputs": [
    {
     "data": {
      "text/plain": [
       "    bpbefore        bpafter     \n",
       " Min.   :136.9   Min.   :130.2  \n",
       " 1st Qu.:154.2   1st Qu.:150.5  \n",
       " Median :168.1   Median :156.7  \n",
       " Mean   :166.3   Mean   :156.1  \n",
       " 3rd Qu.:172.2   3rd Qu.:162.0  \n",
       " Max.   :201.4   Max.   :180.7  "
      ]
     },
     "metadata": {},
     "output_type": "display_data"
    }
   ],
   "source": [
    "summary(biofeed)"
   ]
  },
  {
   "cell_type": "markdown",
   "metadata": {},
   "source": [
    "<font color='blue' size=3> Question: Can a person control their blood pressure if that person is trained in a programme of biofeedback\n",
    "exercises? An experiment is conducted to show that blood pressure levels can be consciously\n",
    "reduced by people trained in this program. The blood pressure measurements recorded in the\n",
    "file are readings before and after the biofeedback training of six subjects. Test to determine\n",
    "whether mean blood pressure decreases after training. </font>"
   ]
  },
  {
   "cell_type": "code",
   "execution_count": 154,
   "metadata": {},
   "outputs": [
    {
     "data": {
      "text/html": [
       "<ol class=list-inline>\n",
       "\t<li>136.9</li>\n",
       "\t<li>201.4</li>\n",
       "\t<li>166.8</li>\n",
       "\t<li>150</li>\n",
       "\t<li>173.2</li>\n",
       "\t<li>169.3</li>\n",
       "</ol>\n"
      ],
      "text/latex": [
       "\\begin{enumerate*}\n",
       "\\item 136.9\n",
       "\\item 201.4\n",
       "\\item 166.8\n",
       "\\item 150\n",
       "\\item 173.2\n",
       "\\item 169.3\n",
       "\\end{enumerate*}\n"
      ],
      "text/markdown": [
       "1. 136.9\n",
       "2. 201.4\n",
       "3. 166.8\n",
       "4. 150\n",
       "5. 173.2\n",
       "6. 169.3\n",
       "\n",
       "\n"
      ],
      "text/plain": [
       "[1] 136.9 201.4 166.8 150.0 173.2 169.3"
      ]
     },
     "metadata": {},
     "output_type": "display_data"
    }
   ],
   "source": [
    "before<-biofeed[[1]]\n",
    "before"
   ]
  },
  {
   "cell_type": "code",
   "execution_count": 155,
   "metadata": {},
   "outputs": [
    {
     "data": {
      "text/html": [
       "<ol class=list-inline>\n",
       "\t<li>130.2</li>\n",
       "\t<li>180.7</li>\n",
       "\t<li>149.6</li>\n",
       "\t<li>153.2</li>\n",
       "\t<li>162.6</li>\n",
       "\t<li>160.1</li>\n",
       "</ol>\n"
      ],
      "text/latex": [
       "\\begin{enumerate*}\n",
       "\\item 130.2\n",
       "\\item 180.7\n",
       "\\item 149.6\n",
       "\\item 153.2\n",
       "\\item 162.6\n",
       "\\item 160.1\n",
       "\\end{enumerate*}\n"
      ],
      "text/markdown": [
       "1. 130.2\n",
       "2. 180.7\n",
       "3. 149.6\n",
       "4. 153.2\n",
       "5. 162.6\n",
       "6. 160.1\n",
       "\n",
       "\n"
      ],
      "text/plain": [
       "[1] 130.2 180.7 149.6 153.2 162.6 160.1"
      ]
     },
     "metadata": {},
     "output_type": "display_data"
    }
   ],
   "source": [
    "after<-biofeed[[2]]\n",
    "after"
   ]
  },
  {
   "cell_type": "code",
   "execution_count": 163,
   "metadata": {},
   "outputs": [],
   "source": [
    "### Test \"H0 : mean of before = after\" \n",
    "### against \"H1 : difference of means of after and before > 0\"\n",
    "ttest<-t.test(before,after,conf.level=0.95,alternative='greater', paired=TRUE)"
   ]
  },
  {
   "cell_type": "code",
   "execution_count": 164,
   "metadata": {},
   "outputs": [
    {
     "data": {
      "text/plain": [
       "\n",
       "\tPaired t-test\n",
       "\n",
       "data:  before and after\n",
       "t = 2.9768, df = 5, p-value = 0.01546\n",
       "alternative hypothesis: true difference in means is greater than 0\n",
       "95 percent confidence interval:\n",
       " 3.295506      Inf\n",
       "sample estimates:\n",
       "mean of the differences \n",
       "                   10.2 \n"
      ]
     },
     "metadata": {},
     "output_type": "display_data"
    }
   ],
   "source": [
    "ttest"
   ]
  },
  {
   "cell_type": "code",
   "execution_count": 165,
   "metadata": {},
   "outputs": [
    {
     "data": {
      "text/html": [
       "<strong>t:</strong> 2.97682834786666"
      ],
      "text/latex": [
       "\\textbf{t:} 2.97682834786666"
      ],
      "text/markdown": [
       "**t:** 2.97682834786666"
      ],
      "text/plain": [
       "       t \n",
       "2.976828 "
      ]
     },
     "metadata": {},
     "output_type": "display_data"
    }
   ],
   "source": [
    "ttest[['statistic']]"
   ]
  },
  {
   "cell_type": "code",
   "execution_count": 166,
   "metadata": {},
   "outputs": [
    {
     "data": {
      "text/html": [
       "0.0154563545776486"
      ],
      "text/latex": [
       "0.0154563545776486"
      ],
      "text/markdown": [
       "0.0154563545776486"
      ],
      "text/plain": [
       "[1] 0.01545635"
      ]
     },
     "metadata": {},
     "output_type": "display_data"
    }
   ],
   "source": [
    "ttest[['p.value']]"
   ]
  },
  {
   "cell_type": "code",
   "execution_count": 167,
   "metadata": {},
   "outputs": [],
   "source": [
    "### reject H0 at alpha=0.05, biofeed training can control blood pressure"
   ]
  },
  {
   "cell_type": "code",
   "execution_count": null,
   "metadata": {},
   "outputs": [],
   "source": []
  },
  {
   "cell_type": "markdown",
   "metadata": {},
   "source": [
    "<font color='blue' size=5><b> Suggested solutions to Part 7 (datafile co2) </b></font>"
   ]
  },
  {
   "cell_type": "code",
   "execution_count": 168,
   "metadata": {},
   "outputs": [],
   "source": [
    "co2<-read.table(file=\"../Data/co2.txt\",sep=',',header = T)"
   ]
  },
  {
   "cell_type": "code",
   "execution_count": 169,
   "metadata": {},
   "outputs": [
    {
     "data": {
      "text/plain": [
       "      co2       \n",
       " Min.   :84.60  \n",
       " 1st Qu.:85.28  \n",
       " Median :85.70  \n",
       " Mean   :85.65  \n",
       " 3rd Qu.:86.08  \n",
       " Max.   :86.60  "
      ]
     },
     "metadata": {},
     "output_type": "display_data"
    }
   ],
   "source": [
    "summary(co2)"
   ]
  },
  {
   "cell_type": "markdown",
   "metadata": {},
   "source": [
    "<font color='blue' size=3> Question: Geologists use laser Raman microprobe (LRM) spectroscopy to analyse fluid inclusions (pockets\n",
    "of liquid or gas) in rock. A fragment of quartz was artificially injected with several fluid inclusions\n",
    "of liquid carbon dioxide (CO2) and then subjected to LRM spectroscopy. The concentration of\n",
    "CO2 present in the inclusion was recorded for the same inclusion on four different days. The\n",
    "measurements (in moles percent) were 86.6, 84.6, 85.5 and 85.9, as recorded in the file. Test to\n",
    "determine whether the variance of CO2 measurements is significantly different from 1. </font>"
   ]
  },
  {
   "cell_type": "code",
   "execution_count": 175,
   "metadata": {},
   "outputs": [],
   "source": [
    "### Test \"H0 : variance of co2 = 1\" \n",
    "### against \"H1 : variance of co2 != 1\"\n",
    "varTest<-varTest(co2$co2,sigma.squared=1,conf.level=0.95)"
   ]
  },
  {
   "cell_type": "code",
   "execution_count": 176,
   "metadata": {},
   "outputs": [
    {
     "data": {
      "text/plain": [
       "\n",
       "\tChi-Squared Test on Variance\n",
       "\n",
       "data:  co2$co2\n",
       "Chi-Squared = 2.09, df = 3, p-value = 0.8921\n",
       "alternative hypothesis: true variance is not equal to 1\n",
       "95 percent confidence interval:\n",
       " 0.2235676 9.6851051\n",
       "sample estimates:\n",
       " variance \n",
       "0.6966667 \n"
      ]
     },
     "metadata": {},
     "output_type": "display_data"
    }
   ],
   "source": [
    "varTest"
   ]
  },
  {
   "cell_type": "code",
   "execution_count": 177,
   "metadata": {},
   "outputs": [
    {
     "data": {
      "text/html": [
       "<ol class=list-inline>\n",
       "\t<li>'statistic'</li>\n",
       "\t<li>'parameters'</li>\n",
       "\t<li>'p.value'</li>\n",
       "\t<li>'estimate'</li>\n",
       "\t<li>'null.value'</li>\n",
       "\t<li>'alternative'</li>\n",
       "\t<li>'method'</li>\n",
       "\t<li>'data.name'</li>\n",
       "\t<li>'conf.int'</li>\n",
       "</ol>\n"
      ],
      "text/latex": [
       "\\begin{enumerate*}\n",
       "\\item 'statistic'\n",
       "\\item 'parameters'\n",
       "\\item 'p.value'\n",
       "\\item 'estimate'\n",
       "\\item 'null.value'\n",
       "\\item 'alternative'\n",
       "\\item 'method'\n",
       "\\item 'data.name'\n",
       "\\item 'conf.int'\n",
       "\\end{enumerate*}\n"
      ],
      "text/markdown": [
       "1. 'statistic'\n",
       "2. 'parameters'\n",
       "3. 'p.value'\n",
       "4. 'estimate'\n",
       "5. 'null.value'\n",
       "6. 'alternative'\n",
       "7. 'method'\n",
       "8. 'data.name'\n",
       "9. 'conf.int'\n",
       "\n",
       "\n"
      ],
      "text/plain": [
       "[1] \"statistic\"   \"parameters\"  \"p.value\"     \"estimate\"    \"null.value\" \n",
       "[6] \"alternative\" \"method\"      \"data.name\"   \"conf.int\"   "
      ]
     },
     "metadata": {},
     "output_type": "display_data"
    }
   ],
   "source": [
    "names(varTest)"
   ]
  },
  {
   "cell_type": "code",
   "execution_count": 178,
   "metadata": {},
   "outputs": [
    {
     "data": {
      "text/html": [
       "<strong>Chi-Squared:</strong> 2.09"
      ],
      "text/latex": [
       "\\textbf{Chi-Squared:} 2.09"
      ],
      "text/markdown": [
       "**Chi-Squared:** 2.09"
      ],
      "text/plain": [
       "Chi-Squared \n",
       "       2.09 "
      ]
     },
     "metadata": {},
     "output_type": "display_data"
    }
   ],
   "source": [
    "varTest[['statistic']]"
   ]
  },
  {
   "cell_type": "code",
   "execution_count": 179,
   "metadata": {},
   "outputs": [
    {
     "data": {
      "text/html": [
       "<dl class=dl-horizontal>\n",
       "\t<dt>LCL</dt>\n",
       "\t\t<dd>0.223567583132035</dd>\n",
       "\t<dt>UCL</dt>\n",
       "\t\t<dd>9.68510513569748</dd>\n",
       "</dl>\n"
      ],
      "text/latex": [
       "\\begin{description*}\n",
       "\\item[LCL] 0.223567583132035\n",
       "\\item[UCL] 9.68510513569748\n",
       "\\end{description*}\n"
      ],
      "text/markdown": [
       "LCL\n",
       ":   0.223567583132035UCL\n",
       ":   9.68510513569748\n",
       "\n"
      ],
      "text/plain": [
       "      LCL       UCL \n",
       "0.2235676 9.6851051 \n",
       "attr(,\"conf.level\")\n",
       "[1] 0.95"
      ]
     },
     "metadata": {},
     "output_type": "display_data"
    }
   ],
   "source": [
    "varTest[['conf.int']]"
   ]
  },
  {
   "cell_type": "code",
   "execution_count": 180,
   "metadata": {},
   "outputs": [],
   "source": [
    "### the chi-squared statistic does not lie in the rejection region, so we do not reject the null hypothesis"
   ]
  },
  {
   "cell_type": "code",
   "execution_count": null,
   "metadata": {},
   "outputs": [],
   "source": []
  },
  {
   "cell_type": "markdown",
   "metadata": {},
   "source": [
    "<font color='blue' size=5><b> Suggested solutions to Part 8 (datafile mathcpu) </b></font>"
   ]
  },
  {
   "cell_type": "code",
   "execution_count": 181,
   "metadata": {},
   "outputs": [],
   "source": [
    "mathcpu<-read.table(file=\"../Data/mathcpu.txt\",sep=',',header = T)"
   ]
  },
  {
   "cell_type": "code",
   "execution_count": 182,
   "metadata": {},
   "outputs": [
    {
     "data": {
      "text/plain": [
       "    runtime      \n",
       " Min.   :0.0360  \n",
       " 1st Qu.:0.1360  \n",
       " Median :0.2745  \n",
       " Mean   :0.8122  \n",
       " 3rd Qu.:0.5843  \n",
       " Max.   :8.7880  "
      ]
     },
     "metadata": {},
     "output_type": "display_data"
    }
   ],
   "source": [
    "summary(mathcpu)"
   ]
  },
  {
   "cell_type": "markdown",
   "metadata": {},
   "source": [
    "<font color='blue' size=3> Question: A study was conducted to test the runtime of an algorithm for solving a polynomial zero-one mathematical programming problem. A total of 52 random problem instances were solved\n",
    "using the algorithm, and the time taken to reach the solution was recorded in each case. Test\n",
    "to determine whether the variance of the solution times is significantly different from 2 at\n",
    "significance level alpha = 0.05. </font>"
   ]
  },
  {
   "cell_type": "code",
   "execution_count": 183,
   "metadata": {},
   "outputs": [],
   "source": [
    "### Test \"H0 : variance of mathcpu = 2\" \n",
    "### against \"H1 : variance of mathcpu != 2\"\n",
    "varTest<-varTest(mathcpu$runtime,sigma.squared=2,conf.level=0.95)"
   ]
  },
  {
   "cell_type": "code",
   "execution_count": 184,
   "metadata": {},
   "outputs": [
    {
     "data": {
      "text/plain": [
       "\n",
       "\tChi-Squared Test on Variance\n",
       "\n",
       "data:  mathcpu$runtime\n",
       "Chi-Squared = 57.74, df = 51, p-value = 0.4806\n",
       "alternative hypothesis: true variance is not equal to 2\n",
       "95 percent confidence interval:\n",
       " 1.590276 3.482306\n",
       "sample estimates:\n",
       "variance \n",
       "2.264303 \n"
      ]
     },
     "metadata": {},
     "output_type": "display_data"
    }
   ],
   "source": [
    "varTest"
   ]
  },
  {
   "cell_type": "code",
   "execution_count": 185,
   "metadata": {},
   "outputs": [
    {
     "data": {
      "text/html": [
       "<strong>Chi-Squared:</strong> 57.7397380384615"
      ],
      "text/latex": [
       "\\textbf{Chi-Squared:} 57.7397380384615"
      ],
      "text/markdown": [
       "**Chi-Squared:** 57.7397380384615"
      ],
      "text/plain": [
       "Chi-Squared \n",
       "   57.73974 "
      ]
     },
     "metadata": {},
     "output_type": "display_data"
    }
   ],
   "source": [
    "varTest[['statistic']]"
   ]
  },
  {
   "cell_type": "code",
   "execution_count": 186,
   "metadata": {},
   "outputs": [
    {
     "data": {
      "text/html": [
       "<dl class=dl-horizontal>\n",
       "\t<dt>LCL</dt>\n",
       "\t\t<dd>1.59027608751806</dd>\n",
       "\t<dt>UCL</dt>\n",
       "\t\t<dd>3.48230565119473</dd>\n",
       "</dl>\n"
      ],
      "text/latex": [
       "\\begin{description*}\n",
       "\\item[LCL] 1.59027608751806\n",
       "\\item[UCL] 3.48230565119473\n",
       "\\end{description*}\n"
      ],
      "text/markdown": [
       "LCL\n",
       ":   1.59027608751806UCL\n",
       ":   3.48230565119473\n",
       "\n"
      ],
      "text/plain": [
       "     LCL      UCL \n",
       "1.590276 3.482306 \n",
       "attr(,\"conf.level\")\n",
       "[1] 0.95"
      ]
     },
     "metadata": {},
     "output_type": "display_data"
    }
   ],
   "source": [
    "varTest[['conf.int']]"
   ]
  },
  {
   "cell_type": "code",
   "execution_count": null,
   "metadata": {},
   "outputs": [],
   "source": []
  },
  {
   "cell_type": "markdown",
   "metadata": {},
   "source": [
    "<font color='blue' size=5><b> Suggested solutions to Part 9 (datafile bacteria) </b></font>"
   ]
  },
  {
   "cell_type": "code",
   "execution_count": 37,
   "metadata": {},
   "outputs": [],
   "source": [
    "bacteria<-read.table(file=\"../Data/bacteria.txt\",sep=',',header = T)"
   ]
  },
  {
   "cell_type": "markdown",
   "metadata": {},
   "source": [
    "<font color='blue' size=3> Question: A factory that purifies its liquid waste discharges the water into a river. An inspector from the\n",
    "Environment Agency has collected six water specimens from the discharge of the factory, and\n",
    "six specimens from the river upstream from the factory. The file records the bacteria counts for\n",
    "each of the 12 specimens. Test to determine whether the mean bacteria count for the factory\n",
    "discharge exceeds that for the upstream location. </font>"
   ]
  },
  {
   "cell_type": "code",
   "execution_count": 17,
   "metadata": {},
   "outputs": [
    {
     "data": {
      "text/html": [
       "<ol class=list-inline>\n",
       "\t<li>30</li>\n",
       "\t<li>28</li>\n",
       "\t<li>36</li>\n",
       "\t<li>29</li>\n",
       "\t<li>33</li>\n",
       "\t<li>34</li>\n",
       "</ol>\n"
      ],
      "text/latex": [
       "\\begin{enumerate*}\n",
       "\\item 30\n",
       "\\item 28\n",
       "\\item 36\n",
       "\\item 29\n",
       "\\item 33\n",
       "\\item 34\n",
       "\\end{enumerate*}\n"
      ],
      "text/markdown": [
       "1. 30\n",
       "2. 28\n",
       "3. 36\n",
       "4. 29\n",
       "5. 33\n",
       "6. 34\n",
       "\n",
       "\n"
      ],
      "text/plain": [
       "[1] 30 28 36 29 33 34"
      ]
     },
     "metadata": {},
     "output_type": "display_data"
    },
    {
     "data": {
      "text/html": [
       "<ol class=list-inline>\n",
       "\t<li>29</li>\n",
       "\t<li>27</li>\n",
       "\t<li>30</li>\n",
       "\t<li>31</li>\n",
       "\t<li>26</li>\n",
       "\t<li>32</li>\n",
       "</ol>\n"
      ],
      "text/latex": [
       "\\begin{enumerate*}\n",
       "\\item 29\n",
       "\\item 27\n",
       "\\item 30\n",
       "\\item 31\n",
       "\\item 26\n",
       "\\item 32\n",
       "\\end{enumerate*}\n"
      ],
      "text/markdown": [
       "1. 29\n",
       "2. 27\n",
       "3. 30\n",
       "4. 31\n",
       "5. 26\n",
       "6. 32\n",
       "\n",
       "\n"
      ],
      "text/plain": [
       "[1] 29 27 30 31 26 32"
      ]
     },
     "metadata": {},
     "output_type": "display_data"
    }
   ],
   "source": [
    "factory <- bacteria[c(1:6),c(2)] ; factory\n",
    "upstream <- bacteria[c(7:12),c(2)] ; upstream"
   ]
  },
  {
   "cell_type": "code",
   "execution_count": 21,
   "metadata": {},
   "outputs": [
    {
     "data": {
      "image/png": "[encoded data removed]",
      "text/plain": [
       "plot without title"
      ]
     },
     "metadata": {},
     "output_type": "display_data"
    }
   ],
   "source": [
    "boxplot(bcount ~ location, data = bacteria, col=c('cyan', 'deeppink2'))"
   ]
  },
  {
   "cell_type": "code",
   "execution_count": 29,
   "metadata": {},
   "outputs": [
    {
     "data": {
      "text/html": [
       "<dl class=dl-horizontal>\n",
       "\t<dt>mean factory</dt>\n",
       "\t\t<dd>31.6666666666667</dd>\n",
       "\t<dt>mean upstream</dt>\n",
       "\t\t<dd>29.1666666666667</dd>\n",
       "\t<dt>difference</dt>\n",
       "\t\t<dd>2.5</dd>\n",
       "</dl>\n"
      ],
      "text/latex": [
       "\\begin{description*}\n",
       "\\item[mean factory] 31.6666666666667\n",
       "\\item[mean upstream] 29.1666666666667\n",
       "\\item[difference] 2.5\n",
       "\\end{description*}\n"
      ],
      "text/markdown": [
       "mean factory\n",
       ":   31.6666666666667mean upstream\n",
       ":   29.1666666666667difference\n",
       ":   2.5\n",
       "\n"
      ],
      "text/plain": [
       " mean factory mean upstream    difference \n",
       "     31.66667      29.16667       2.50000 "
      ]
     },
     "metadata": {},
     "output_type": "display_data"
    }
   ],
   "source": [
    "meanfact<-mean(bacteria$bcount[bacteria$location==\"Factory\"])\n",
    "meanup<-mean(bacteria$bcount[bacteria$location==\"Upstream\"])\n",
    "\n",
    "res<-c(meanfact,meanup,meanfact-meanup) \n",
    "names(res)<-c('mean factory', 'mean upstream', 'difference')\n",
    "res"
   ]
  },
  {
   "cell_type": "code",
   "execution_count": 38,
   "metadata": {},
   "outputs": [
    {
     "data": {
      "text/plain": [
       "\n",
       "\tTwo Sample t-test\n",
       "\n",
       "data:  bcount by location\n",
       "t = 1.569, df = 10, p-value = 0.1477\n",
       "alternative hypothesis: true difference in means is not equal to 0\n",
       "90 percent confidence interval:\n",
       " -0.3879558  5.3879558\n",
       "sample estimates:\n",
       " mean in group Factory mean in group Upstream \n",
       "              31.66667               29.16667 \n"
      ]
     },
     "metadata": {},
     "output_type": "display_data"
    }
   ],
   "source": [
    "t.test(bcount ~ location, data = bacteria, conf.level=0.9, var.equal=TRUE)"
   ]
  },
  {
   "cell_type": "code",
   "execution_count": null,
   "metadata": {},
   "outputs": [],
   "source": [
    "### Since our p-value is higher than 0.1, we fail to reject H0 at the alpha=0.1 (ie 90%) level"
   ]
  },
  {
   "cell_type": "code",
   "execution_count": null,
   "metadata": {},
   "outputs": [],
   "source": []
  },
  {
   "cell_type": "markdown",
   "metadata": {},
   "source": [
    "<font color='blue' size=5><b> Suggested solutions to Part 10 (datafile bulimia) </b></font>"
   ]
  },
  {
   "cell_type": "code",
   "execution_count": 35,
   "metadata": {},
   "outputs": [],
   "source": [
    "bulimia<-read.table(file=\"../Data/bulimia.txt\",sep=',',header = T)"
   ]
  },
  {
   "cell_type": "markdown",
   "metadata": {},
   "source": [
    "<font color='blue' size=3>  Two samples of students participated in a psychology experiment. One sample consisted of 11\n",
    "students known to suffer from the eating disorder bulimia, while the other sample consisted of\n",
    "14 students with healthy eating habits. Each student completed a questionnaire from which a\n",
    "fear of negative evaluation (FNE) score was produced: the higher the score, the greater the fear\n",
    "of negative evaluation. </font>"
   ]
  },
  {
   "cell_type": "markdown",
   "metadata": {},
   "source": [
    "<font color='blue' size=3>  Question 1: Test to determine whether the variance of the FNE scores for bulimic students is equal to\n",
    "the variance of the FNE scores for healthy students. </font>"
   ]
  },
  {
   "cell_type": "code",
   "execution_count": 32,
   "metadata": {},
   "outputs": [
    {
     "data": {
      "text/html": [
       "<ol class=list-inline>\n",
       "\t<li>21</li>\n",
       "\t<li>13</li>\n",
       "\t<li>10</li>\n",
       "\t<li>20</li>\n",
       "\t<li>25</li>\n",
       "\t<li>19</li>\n",
       "\t<li>16</li>\n",
       "\t<li>21</li>\n",
       "\t<li>24</li>\n",
       "\t<li>13</li>\n",
       "\t<li>14</li>\n",
       "</ol>\n"
      ],
      "text/latex": [
       "\\begin{enumerate*}\n",
       "\\item 21\n",
       "\\item 13\n",
       "\\item 10\n",
       "\\item 20\n",
       "\\item 25\n",
       "\\item 19\n",
       "\\item 16\n",
       "\\item 21\n",
       "\\item 24\n",
       "\\item 13\n",
       "\\item 14\n",
       "\\end{enumerate*}\n"
      ],
      "text/markdown": [
       "1. 21\n",
       "2. 13\n",
       "3. 10\n",
       "4. 20\n",
       "5. 25\n",
       "6. 19\n",
       "7. 16\n",
       "8. 21\n",
       "9. 24\n",
       "10. 13\n",
       "11. 14\n",
       "\n",
       "\n"
      ],
      "text/plain": [
       " [1] 21 13 10 20 25 19 16 21 24 13 14"
      ]
     },
     "metadata": {},
     "output_type": "display_data"
    },
    {
     "data": {
      "text/html": [
       "<ol class=list-inline>\n",
       "\t<li>13</li>\n",
       "\t<li>6</li>\n",
       "\t<li>16</li>\n",
       "\t<li>13</li>\n",
       "\t<li>8</li>\n",
       "\t<li>19</li>\n",
       "\t<li>23</li>\n",
       "\t<li>18</li>\n",
       "\t<li>11</li>\n",
       "\t<li>19</li>\n",
       "\t<li>7</li>\n",
       "\t<li>10</li>\n",
       "\t<li>15</li>\n",
       "\t<li>20</li>\n",
       "</ol>\n"
      ],
      "text/latex": [
       "\\begin{enumerate*}\n",
       "\\item 13\n",
       "\\item 6\n",
       "\\item 16\n",
       "\\item 13\n",
       "\\item 8\n",
       "\\item 19\n",
       "\\item 23\n",
       "\\item 18\n",
       "\\item 11\n",
       "\\item 19\n",
       "\\item 7\n",
       "\\item 10\n",
       "\\item 15\n",
       "\\item 20\n",
       "\\end{enumerate*}\n"
      ],
      "text/markdown": [
       "1. 13\n",
       "2. 6\n",
       "3. 16\n",
       "4. 13\n",
       "5. 8\n",
       "6. 19\n",
       "7. 23\n",
       "8. 18\n",
       "9. 11\n",
       "10. 19\n",
       "11. 7\n",
       "12. 10\n",
       "13. 15\n",
       "14. 20\n",
       "\n",
       "\n"
      ],
      "text/plain": [
       " [1] 13  6 16 13  8 19 23 18 11 19  7 10 15 20"
      ]
     },
     "metadata": {},
     "output_type": "display_data"
    }
   ],
   "source": [
    "bul <- bulimia[c(1:11),c(2)] ; bul\n",
    "health <- bulimia[c(12:25),c(2)] ; health"
   ]
  },
  {
   "cell_type": "code",
   "execution_count": 34,
   "metadata": {},
   "outputs": [
    {
     "data": {
      "image/png": "[encoded data removed]",
      "text/plain": [
       "plot without title"
      ]
     },
     "metadata": {},
     "output_type": "display_data"
    }
   ],
   "source": [
    "boxplot(FNEscore ~ Group, data = bulimia, col=c('cyan', 'deeppink2'))"
   ]
  },
  {
   "cell_type": "code",
   "execution_count": 122,
   "metadata": {},
   "outputs": [
    {
     "data": {
      "text/plain": [
       "\n",
       "\tWelch Two Sample t-test\n",
       "\n",
       "data:  bul and health\n",
       "t = 1.7944, df = 22.284, p-value = 0.08633\n",
       "alternative hypothesis: true difference in means is not equal to 0\n",
       "95 percent confidence interval:\n",
       " -0.5692442  7.9198935\n",
       "sample estimates:\n",
       "mean of x mean of y \n",
       " 17.81818  14.14286 \n"
      ]
     },
     "metadata": {},
     "output_type": "display_data"
    }
   ],
   "source": [
    "### Test \"H0 : mean of bulimia = healthy\" \n",
    "### against \"H1 : difference of means of bulimia and healthy > 0\"\n",
    "ttest<-t.test(bul,health,conf.level=0.95,alternative='two.sided', paired=FALSE);ttest"
   ]
  },
  {
   "cell_type": "code",
   "execution_count": 124,
   "metadata": {},
   "outputs": [
    {
     "data": {
      "text/html": [
       "<ol class=list-inline>\n",
       "\t<li>-0.569244172609647</li>\n",
       "\t<li>7.91989352325899</li>\n",
       "</ol>\n"
      ],
      "text/latex": [
       "\\begin{enumerate*}\n",
       "\\item -0.569244172609647\n",
       "\\item 7.91989352325899\n",
       "\\end{enumerate*}\n"
      ],
      "text/markdown": [
       "1. -0.569244172609647\n",
       "2. 7.91989352325899\n",
       "\n",
       "\n"
      ],
      "text/plain": [
       "[1] -0.5692442  7.9198935\n",
       "attr(,\"conf.level\")\n",
       "[1] 0.95"
      ]
     },
     "metadata": {},
     "output_type": "display_data"
    }
   ],
   "source": [
    "ttest$conf.int"
   ]
  },
  {
   "cell_type": "code",
   "execution_count": null,
   "metadata": {},
   "outputs": [],
   "source": [
    "### We cannot reject H0 since the interval spans 0"
   ]
  },
  {
   "cell_type": "code",
   "execution_count": null,
   "metadata": {},
   "outputs": [],
   "source": []
  },
  {
   "cell_type": "markdown",
   "metadata": {},
   "source": [
    "<font color='blue' size=3>  Question 2: Test to determine whether there is a significant difference between the mean FNE score\n",
    "for bulimic students and the mean FNE score for healthy students. </font>"
   ]
  },
  {
   "cell_type": "code",
   "execution_count": 39,
   "metadata": {},
   "outputs": [
    {
     "data": {
      "text/html": [
       "<dl class=dl-horizontal>\n",
       "\t<dt>mean bulimic</dt>\n",
       "\t\t<dd>17.8181818181818</dd>\n",
       "\t<dt>mean healthy</dt>\n",
       "\t\t<dd>14.1428571428571</dd>\n",
       "\t<dt>difference</dt>\n",
       "\t\t<dd>3.67532467532467</dd>\n",
       "</dl>\n"
      ],
      "text/latex": [
       "\\begin{description*}\n",
       "\\item[mean bulimic] 17.8181818181818\n",
       "\\item[mean healthy] 14.1428571428571\n",
       "\\item[difference] 3.67532467532467\n",
       "\\end{description*}\n"
      ],
      "text/markdown": [
       "mean bulimic\n",
       ":   17.8181818181818mean healthy\n",
       ":   14.1428571428571difference\n",
       ":   3.67532467532467\n",
       "\n"
      ],
      "text/plain": [
       "mean bulimic mean healthy   difference \n",
       "   17.818182    14.142857     3.675325 "
      ]
     },
     "metadata": {},
     "output_type": "display_data"
    }
   ],
   "source": [
    "meanbul<-mean(bul)\n",
    "meanhealth<-mean(health)\n",
    "\n",
    "res<-c(meanbul,meanhealth,meanbul-meanhealth) \n",
    "names(res)<-c('mean bulimic', 'mean healthy', 'difference')\n",
    "res"
   ]
  },
  {
   "cell_type": "code",
   "execution_count": 40,
   "metadata": {},
   "outputs": [
    {
     "data": {
      "text/plain": [
       "\n",
       "\tTwo Sample t-test\n",
       "\n",
       "data:  FNEscore by Group\n",
       "t = 1.7781, df = 23, p-value = 0.08862\n",
       "alternative hypothesis: true difference in means is not equal to 0\n",
       "90 percent confidence interval:\n",
       " 0.1326808 7.2179685\n",
       "sample estimates:\n",
       "mean in group Bulimic mean in group Healthy \n",
       "             17.81818              14.14286 \n"
      ]
     },
     "metadata": {},
     "output_type": "display_data"
    }
   ],
   "source": [
    "t.test(FNEscore ~ Group, data = bulimia, conf.level=0.9, var.equal=TRUE)"
   ]
  },
  {
   "cell_type": "code",
   "execution_count": null,
   "metadata": {},
   "outputs": [],
   "source": [
    "### reject the null hypothsis and accept the alternative hypothesis at 90% sig level"
   ]
  },
  {
   "cell_type": "code",
   "execution_count": null,
   "metadata": {},
   "outputs": [],
   "source": []
  },
  {
   "cell_type": "code",
   "execution_count": null,
   "metadata": {},
   "outputs": [],
   "source": []
  }
 ],
 "metadata": {
  "kernelspec": {
   "display_name": "R",
   "language": "R",
   "name": "ir"
  },
  "language_info": {
   "codemirror_mode": "r",
   "file_extension": ".r",
   "mimetype": "text/x-r-source",
   "name": "R",
   "pygments_lexer": "r",
   "version": "3.6.1"
  }
 },
 "nbformat": 4,
 "nbformat_minor": 2
}

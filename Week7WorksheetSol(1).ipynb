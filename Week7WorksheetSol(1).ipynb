{
 "cells": [
  {
   "cell_type": "markdown",
   "metadata": {},
   "source": [
    "<font color='blue' size=6><b>Demo - Week 7 Worksheet Suggested Solutions</b></font>"
   ]
  },
  {
   "cell_type": "code",
   "execution_count": 32,
   "metadata": {},
   "outputs": [],
   "source": [
    "###install.packages('dplyr',repos='https://cran.ma.imperial.ac.uk/')\n",
    "library(dplyr)"
   ]
  },
  {
   "cell_type": "code",
   "execution_count": 33,
   "metadata": {},
   "outputs": [],
   "source": [
    "###install.packages('ggpubr',repos='https://cran.ma.imperial.ac.uk/')\n",
    "library(ggpubr)"
   ]
  },
  {
   "cell_type": "markdown",
   "metadata": {},
   "source": [
    "<font color='blue' size=5><b> Suggested solutions to Part 1 (datafile hairpain) </b></font>"
   ]
  },
  {
   "cell_type": "code",
   "execution_count": 28,
   "metadata": {},
   "outputs": [
    {
     "data": {
      "text/html": [
       "'C:/Users/C1504359/Dropbox/MAT022-Foundations-of-Statistics-and-Data-Science/labsolutions'"
      ],
      "text/latex": [
       "'C:/Users/C1504359/Dropbox/MAT022-Foundations-of-Statistics-and-Data-Science/labsolutions'"
      ],
      "text/markdown": [
       "'C:/Users/C1504359/Dropbox/MAT022-Foundations-of-Statistics-and-Data-Science/labsolutions'"
      ],
      "text/plain": [
       "[1] \"C:/Users/C1504359/Dropbox/MAT022-Foundations-of-Statistics-and-Data-Science/labsolutions\""
      ]
     },
     "metadata": {},
     "output_type": "display_data"
    }
   ],
   "source": [
    "getwd()\n",
    "hairpain<-read.table(file=\"../Data/hairpain.txt\",sep=',',header = T)"
   ]
  },
  {
   "cell_type": "markdown",
   "metadata": {},
   "source": [
    "<font color='blue' size=3> A study has indicated that there may be a difference between the pain thresholds of blondes and\n",
    "brunettes. Men and women of various ages were divided into four categories according to hair\n",
    "colour: light blond, dark blond, light brown and dark brown. The purpose of the experiment\n",
    "was to determine whether hair colour is related to the amount of pain evoked by common types\n",
    "of mishaps and assorted types of trauma. Each person in the experiment was given a pain\n",
    "threshold score based on his or her performance in a pain sensitivity test (the higher the score,\n",
    "the higher the person’s pain tolerance). </font>"
   ]
  },
  {
   "cell_type": "code",
   "execution_count": 19,
   "metadata": {},
   "outputs": [
    {
     "data": {
      "text/plain": [
       "          haircolour   painthresh   \n",
       " Dark-Blond    :5    Min.   :30.00  \n",
       " Dark-Brunette :5    1st Qu.:40.00  \n",
       " Light-Blond   :5    Median :48.00  \n",
       " Light-Brunette:4    Mean   :47.84  \n",
       "                     3rd Qu.:56.00  \n",
       "                     Max.   :71.00  "
      ]
     },
     "metadata": {},
     "output_type": "display_data"
    }
   ],
   "source": [
    "summary(hairpain)"
   ]
  },
  {
   "cell_type": "markdown",
   "metadata": {},
   "source": [
    "<font color='blue' size=3>Question 1: Conduct a test to determine whether the mean pain thresholds differ among people having\n",
    "the four types of hair colour. </font>"
   ]
  },
  {
   "cell_type": "code",
   "execution_count": 41,
   "metadata": {},
   "outputs": [
    {
     "data": {
      "text/html": [
       "<table>\n",
       "<thead><tr><th scope=col>haircolour</th><th scope=col>count</th><th scope=col>mean</th><th scope=col>sd</th></tr></thead>\n",
       "<tbody>\n",
       "\t<tr><td>Dark-Blond    </td><td>5             </td><td>51.2          </td><td>9.284396      </td></tr>\n",
       "\t<tr><td>Dark-Brunette </td><td>5             </td><td>37.4          </td><td>8.324662      </td></tr>\n",
       "\t<tr><td>Light-Blond   </td><td>5             </td><td>59.2          </td><td>8.526429      </td></tr>\n",
       "\t<tr><td>Light-Brunette</td><td>4             </td><td>42.5          </td><td>5.446712      </td></tr>\n",
       "</tbody>\n",
       "</table>\n"
      ],
      "text/latex": [
       "\\begin{tabular}{r|llll}\n",
       " haircolour & count & mean & sd\\\\\n",
       "\\hline\n",
       "\t Dark-Blond     & 5              & 51.2           & 9.284396      \\\\\n",
       "\t Dark-Brunette  & 5              & 37.4           & 8.324662      \\\\\n",
       "\t Light-Blond    & 5              & 59.2           & 8.526429      \\\\\n",
       "\t Light-Brunette & 4              & 42.5           & 5.446712      \\\\\n",
       "\\end{tabular}\n"
      ],
      "text/markdown": [
       "\n",
       "| haircolour | count | mean | sd |\n",
       "|---|---|---|---|\n",
       "| Dark-Blond     | 5              | 51.2           | 9.284396       |\n",
       "| Dark-Brunette  | 5              | 37.4           | 8.324662       |\n",
       "| Light-Blond    | 5              | 59.2           | 8.526429       |\n",
       "| Light-Brunette | 4              | 42.5           | 5.446712       |\n",
       "\n"
      ],
      "text/plain": [
       "  haircolour     count mean sd      \n",
       "1 Dark-Blond     5     51.2 9.284396\n",
       "2 Dark-Brunette  5     37.4 8.324662\n",
       "3 Light-Blond    5     59.2 8.526429\n",
       "4 Light-Brunette 4     42.5 5.446712"
      ]
     },
     "metadata": {},
     "output_type": "display_data"
    }
   ],
   "source": [
    "group_by(hairpain, haircolour) %>%\n",
    "  summarise(\n",
    "    count = n(),\n",
    "    mean = mean(painthresh, na.rm = TRUE),\n",
    "    sd = sd(painthresh, na.rm = TRUE)\n",
    "  )"
   ]
  },
  {
   "cell_type": "code",
   "execution_count": 47,
   "metadata": {},
   "outputs": [
    {
     "data": {
      "text/plain": [
       "            Df Sum Sq Mean Sq F value  Pr(>F)   \n",
       "haircolour   3   1361   453.6   6.791 0.00411 **\n",
       "Residuals   15   1002    66.8                   \n",
       "---\n",
       "Signif. codes:  0 '***' 0.001 '**' 0.01 '*' 0.05 '.' 0.1 ' ' 1"
      ]
     },
     "metadata": {},
     "output_type": "display_data"
    }
   ],
   "source": [
    "# Compute the analysis of variance\n",
    "res.aov <- aov(painthresh ~ haircolour, data = hairpain)\n",
    "# Summary of the analysis\n",
    "summary(res.aov)"
   ]
  },
  {
   "cell_type": "markdown",
   "metadata": {},
   "source": [
    "<font color='green' size=3> For $\\alpha=0.01$ we reject $H_0$ for $H_1$, concluding that the data suggests that there exists a statisticaly significant diference between pain threshold of different hair types \n",
    "    "
   ]
  },
  {
   "cell_type": "markdown",
   "metadata": {},
   "source": [
    "<font color='blue' size=3>Question 2: Compute and interpret the observed significance level for this test. </font>"
   ]
  },
  {
   "cell_type": "markdown",
   "metadata": {},
   "source": [
    "<font color='green' size=3>99% significance level<font>"
   ]
  },
  {
   "cell_type": "markdown",
   "metadata": {},
   "source": [
    "<font color='blue' size=3> Question 3: What assumptions must be met to ensure the validity of the inferences? </font>"
   ]
  },
  {
   "cell_type": "markdown",
   "metadata": {},
   "source": [
    "<font color='green' size=3>Independence of cases – this is an assumption of the model that simplifies the statistical analysis. <br>\n",
    "Normality – the distributions of the residuals are normal. <br>\n",
    "Equality (or \"homogeneity\") of variances, called homoscedasticity </font>"
   ]
  },
  {
   "cell_type": "code",
   "execution_count": null,
   "metadata": {},
   "outputs": [],
   "source": []
  },
  {
   "cell_type": "markdown",
   "metadata": {},
   "source": [
    "<font color='blue' size=5><b> Suggested solutions to Part 2 (datafile inoculin) </b></font>"
   ]
  },
  {
   "cell_type": "code",
   "execution_count": 132,
   "metadata": {},
   "outputs": [],
   "source": [
    "data_inoculin<-read.table(file=\"../Data/inoculin.txt\",sep=',',header = T)"
   ]
  },
  {
   "cell_type": "markdown",
   "metadata": {},
   "source": [
    "<font color='blue' size=3> An experiment is conducted to determine whether there is a difference among mean increases\n",
    "in growth produced by five inoculins of growth hormones for plants. The experimental material\n",
    "consists of 20 cuttings of a shrub (all of equal weight), with four cuttings randomly assigned\n",
    "to each of the five different inoculins. The file contians the results of the experiment: all\n",
    "measurements represent an increase in weight (in grams) following treatment. </font>"
   ]
  },
  {
   "cell_type": "markdown",
   "metadata": {},
   "source": [
    "<font color='blue' size=3> Question 1: Construct an ANOVA table for this experiment. </font>"
   ]
  },
  {
   "cell_type": "code",
   "execution_count": 76,
   "metadata": {},
   "outputs": [
    {
     "data": {
      "text/html": [
       "<table>\n",
       "<thead><tr><th scope=col>inoculin</th><th scope=col>count</th><th scope=col>mean</th><th scope=col>sd</th></tr></thead>\n",
       "<tbody>\n",
       "\t<tr><td>1       </td><td>4       </td><td>14.50   </td><td>3.872983</td></tr>\n",
       "\t<tr><td>2       </td><td>4       </td><td>17.75   </td><td>3.593976</td></tr>\n",
       "\t<tr><td>3       </td><td>4       </td><td>21.50   </td><td>2.081666</td></tr>\n",
       "\t<tr><td>4       </td><td>4       </td><td>14.50   </td><td>4.654747</td></tr>\n",
       "\t<tr><td>5       </td><td>4       </td><td>10.00   </td><td>3.915780</td></tr>\n",
       "</tbody>\n",
       "</table>\n"
      ],
      "text/latex": [
       "\\begin{tabular}{r|llll}\n",
       " inoculin & count & mean & sd\\\\\n",
       "\\hline\n",
       "\t 1        & 4        & 14.50    & 3.872983\\\\\n",
       "\t 2        & 4        & 17.75    & 3.593976\\\\\n",
       "\t 3        & 4        & 21.50    & 2.081666\\\\\n",
       "\t 4        & 4        & 14.50    & 4.654747\\\\\n",
       "\t 5        & 4        & 10.00    & 3.915780\\\\\n",
       "\\end{tabular}\n"
      ],
      "text/markdown": [
       "\n",
       "| inoculin | count | mean | sd |\n",
       "|---|---|---|---|\n",
       "| 1        | 4        | 14.50    | 3.872983 |\n",
       "| 2        | 4        | 17.75    | 3.593976 |\n",
       "| 3        | 4        | 21.50    | 2.081666 |\n",
       "| 4        | 4        | 14.50    | 4.654747 |\n",
       "| 5        | 4        | 10.00    | 3.915780 |\n",
       "\n"
      ],
      "text/plain": [
       "  inoculin count mean  sd      \n",
       "1 1        4     14.50 3.872983\n",
       "2 2        4     17.75 3.593976\n",
       "3 3        4     21.50 2.081666\n",
       "4 4        4     14.50 4.654747\n",
       "5 5        4     10.00 3.915780"
      ]
     },
     "metadata": {},
     "output_type": "display_data"
    }
   ],
   "source": [
    "group_by(data_inoculin, inoculin) %>%\n",
    "  summarise(\n",
    "    count = n(),\n",
    "    mean = mean(weightinc, na.rm = TRUE),\n",
    "    sd = sd(weightinc, na.rm = TRUE)\n",
    "  )"
   ]
  },
  {
   "cell_type": "code",
   "execution_count": 77,
   "metadata": {},
   "outputs": [
    {
     "data": {
      "text/plain": [
       "            Df Sum Sq Mean Sq F value Pr(>F)\n",
       "inoculin     1   60.0   60.03   2.453  0.135\n",
       "Residuals   18  440.5   24.47               "
      ]
     },
     "metadata": {},
     "output_type": "display_data"
    }
   ],
   "source": [
    "# Compute the analysis of variance\n",
    "res.aov <- aov(weightinc ~ inoculin, data = data_inoculin)\n",
    "# Summary of the analysis\n",
    "summary(res.aov)"
   ]
  },
  {
   "cell_type": "markdown",
   "metadata": {},
   "source": [
    "<font color='blue' size=3> Question 2: Find the observed significance level for the test, and discuss its value. </font>"
   ]
  },
  {
   "cell_type": "markdown",
   "metadata": {},
   "source": [
    "<font color='green' size=3>80% significance level<font>"
   ]
  },
  {
   "cell_type": "markdown",
   "metadata": {},
   "source": [
    "<font color='blue' size=3> Question 3: Is there evidence of a difference among the mean increases in weight for the five inoculins of growth hormone? </font>"
   ]
  },
  {
   "cell_type": "markdown",
   "metadata": {},
   "source": [
    "<font size=3 color='green'>\n",
    "    \n",
    "1. At the significance level $\\alpha=0.2$, we reject $H_{0}$ for $H_{1}$, that is we conclude that there are significant differences between the group means (since the p-value is smaller than $\\alpha$). \n",
    "\n",
    "\n",
    "\n",
    "2. At the significance level $\\alpha=0.1$, we do not reject $H_{0}$ for $H_{1}$, that is we conclude that there are no significant differences between the group means (since the p-value is larger than $\\alpha$). \n",
    "</font>"
   ]
  },
  {
   "cell_type": "code",
   "execution_count": null,
   "metadata": {},
   "outputs": [],
   "source": []
  },
  {
   "cell_type": "markdown",
   "metadata": {},
   "source": [
    "<font color='blue' size=5><b> Suggested solutions to Part 3 (datafile sorprate) </b></font>"
   ]
  },
  {
   "cell_type": "code",
   "execution_count": 1,
   "metadata": {},
   "outputs": [],
   "source": [
    "data_sorprate<-read.table(file=\"../Data/sorprate.txt\",sep=',',header = T) "
   ]
  },
  {
   "cell_type": "markdown",
   "metadata": {},
   "source": [
    "<font color='blue' size=3> A study was conducted to examine the chemical properties of three different types of hazardous\n",
    "organic solvents: aromatics, chloroalkanes and esters. One variable studied was the sorption rate.\n",
    "Independent samples of solvents from each type were tested and their sorption rates recorded. </font>"
   ]
  },
  {
   "cell_type": "code",
   "execution_count": 4,
   "metadata": {},
   "outputs": [
    {
     "data": {
      "text/plain": [
       "         solvent      sorprate     \n",
       " Aromatic    : 9   Min.   :0.0600  \n",
       " Chloroalkane: 8   1st Qu.:0.4075  \n",
       " Ester       :15   Median :0.6050  \n",
       "                   Mean   :0.6713  \n",
       "                   3rd Qu.:0.9750  \n",
       "                   Max.   :1.5800  "
      ]
     },
     "metadata": {},
     "output_type": "display_data"
    }
   ],
   "source": [
    "summary(data_sorprate)"
   ]
  },
  {
   "cell_type": "markdown",
   "metadata": {},
   "source": [
    "<font color='blue' size=3> Question 1: Perform an ANOVA test on the data.</font>"
   ]
  },
  {
   "cell_type": "code",
   "execution_count": 5,
   "metadata": {},
   "outputs": [
    {
     "data": {
      "text/html": [
       "<ol class=list-inline>\n",
       "\t<li>'Aromatic'</li>\n",
       "\t<li>'Chloroalkane'</li>\n",
       "\t<li>'Ester'</li>\n",
       "</ol>\n"
      ],
      "text/latex": [
       "\\begin{enumerate*}\n",
       "\\item 'Aromatic'\n",
       "\\item 'Chloroalkane'\n",
       "\\item 'Ester'\n",
       "\\end{enumerate*}\n"
      ],
      "text/markdown": [
       "1. 'Aromatic'\n",
       "2. 'Chloroalkane'\n",
       "3. 'Ester'\n",
       "\n",
       "\n"
      ],
      "text/plain": [
       "[1] \"Aromatic\"     \"Chloroalkane\" \"Ester\"       "
      ]
     },
     "metadata": {},
     "output_type": "display_data"
    }
   ],
   "source": [
    "levels(data_sorprate$solvent)"
   ]
  },
  {
   "cell_type": "code",
   "execution_count": 6,
   "metadata": {},
   "outputs": [
    {
     "ename": "ERROR",
     "evalue": "Error in group_by(data_sorprate, solvent) %>% summarise(count = n(), mean = mean(sorprate, : could not find function \"%>%\"\n",
     "output_type": "error",
     "traceback": [
      "Error in group_by(data_sorprate, solvent) %>% summarise(count = n(), mean = mean(sorprate, : could not find function \"%>%\"\nTraceback:\n"
     ]
    }
   ],
   "source": [
    "group_by(data_sorprate, solvent) %>%\n",
    "  summarise(\n",
    "    count = n(),\n",
    "    mean = mean(sorprate, na.rm = TRUE),\n",
    "    sd = sd(sorprate, na.rm = TRUE)\n",
    "  )"
   ]
  },
  {
   "cell_type": "code",
   "execution_count": 7,
   "metadata": {},
   "outputs": [
    {
     "data": {
      "text/plain": [
       "            Df Sum Sq Mean Sq F value   Pr(>F)    \n",
       "solvent      2  3.305  1.6527   24.51 5.86e-07 ***\n",
       "Residuals   29  1.955  0.0674                     \n",
       "---\n",
       "Signif. codes:  0 '***' 0.001 '**' 0.01 '*' 0.05 '.' 0.1 ' ' 1"
      ]
     },
     "metadata": {},
     "output_type": "display_data"
    }
   ],
   "source": [
    "# Compute the analysis of variance\n",
    "res.aov <- aov(sorprate ~ solvent, data = data_sorprate)\n",
    "# Summary of the analysis\n",
    "summary(res.aov)"
   ]
  },
  {
   "cell_type": "markdown",
   "metadata": {},
   "source": [
    "<font color='blue' size=3> Question 2: Is there evidence of differences among the mean sorption rates of the three solvents?</font>"
   ]
  },
  {
   "cell_type": "markdown",
   "metadata": {},
   "source": [
    "<font size=3 color='green'>\n",
    "    \n",
    "At the significance level $\\alpha=0.01$, we reject $H_{0}$ for $H_{1}$, that is we conclude that there are significant differences between the group means (since the p-value is smaller than $\\alpha$). \n"
   ]
  },
  {
   "cell_type": "markdown",
   "metadata": {},
   "source": [
    "<font color='blue' size=3> Question 3: Compute the Bonferroni correction for all three pairs of means.</font>"
   ]
  },
  {
   "cell_type": "code",
   "execution_count": 2,
   "metadata": {},
   "outputs": [],
   "source": [
    "### rewording of question due to mistake in the worksheet"
   ]
  },
  {
   "cell_type": "code",
   "execution_count": 33,
   "metadata": {},
   "outputs": [
    {
     "data": {
      "text/plain": [
       "\n",
       "\tPairwise comparisons using t tests with non-pooled SD \n",
       "\n",
       "data:  data_sorprate$sorprate and data_sorprate$solvent \n",
       "\n",
       "             Aromatic Chloroalkane\n",
       "Chloroalkane 0.6842   -           \n",
       "Ester        1.5e-07  0.0016      \n",
       "\n",
       "P value adjustment method: none "
      ]
     },
     "metadata": {},
     "output_type": "display_data"
    }
   ],
   "source": [
    "pairwise.t.test(data_sorprate$sorprate, data_sorprate$solvent,\n",
    "                 p.adjust.method = \"none\",\n",
    "                 paired=FALSE, pool.sd=FALSE)"
   ]
  },
  {
   "cell_type": "markdown",
   "metadata": {},
   "source": [
    "<font color='blue' size=3> Question 4: Use the confidence intervals to determine which pairs of means are significantly different.</font>"
   ]
  },
  {
   "cell_type": "markdown",
   "metadata": {},
   "source": [
    "<font size=3 color='green'>\n",
    "    \n",
    "At the significance level $\\alpha=0.01$,\n",
    "\n",
    "we conclude that there are significant differences between Aromatic and Ester and between Chloroalkane and Ester.\n",
    "\n",
    "We also conclue that there is no significance difference between the means of Aromatic and Chloroalkane.\n"
   ]
  },
  {
   "cell_type": "code",
   "execution_count": null,
   "metadata": {},
   "outputs": [],
   "source": []
  },
  {
   "cell_type": "markdown",
   "metadata": {},
   "source": [
    "<font color='blue' size=5><b> Suggested solutions to Part 4 (datafile walkers) </b></font>"
   ]
  },
  {
   "cell_type": "code",
   "execution_count": 3,
   "metadata": {},
   "outputs": [
    {
     "data": {
      "text/html": [
       "<table>\n",
       "<caption>A data.frame: 6 × 6</caption>\n",
       "<thead>\n",
       "\t<tr><th scope=col>week</th><th scope=col>C</th><th scope=col>FL</th><th scope=col>FH</th><th scope=col>IL</th><th scope=col>IH</th></tr>\n",
       "\t<tr><th scope=col>&lt;int&gt;</th><th scope=col>&lt;int&gt;</th><th scope=col>&lt;int&gt;</th><th scope=col>&lt;int&gt;</th><th scope=col>&lt;int&gt;</th><th scope=col>&lt;int&gt;</th></tr>\n",
       "</thead>\n",
       "<tbody>\n",
       "\t<tr><td>1</td><td>7</td><td>23</td><td>25</td><td>21</td><td>19</td></tr>\n",
       "\t<tr><td>2</td><td>2</td><td>19</td><td>25</td><td>10</td><td>12</td></tr>\n",
       "\t<tr><td>3</td><td>2</td><td>18</td><td>19</td><td> 9</td><td> 9</td></tr>\n",
       "\t<tr><td>4</td><td>2</td><td> 7</td><td>20</td><td> 8</td><td> 2</td></tr>\n",
       "\t<tr><td>5</td><td>2</td><td>18</td><td>18</td><td> 8</td><td> 7</td></tr>\n",
       "\t<tr><td>6</td><td>1</td><td>17</td><td>17</td><td> 7</td><td> 6</td></tr>\n",
       "</tbody>\n",
       "</table>\n"
      ],
      "text/latex": [
       "A data.frame: 6 × 6\n",
       "\\begin{tabular}{r|llllll}\n",
       " week & C & FL & FH & IL & IH\\\\\n",
       " <int> & <int> & <int> & <int> & <int> & <int>\\\\\n",
       "\\hline\n",
       "\t 1 & 7 & 23 & 25 & 21 & 19\\\\\n",
       "\t 2 & 2 & 19 & 25 & 10 & 12\\\\\n",
       "\t 3 & 2 & 18 & 19 &  9 &  9\\\\\n",
       "\t 4 & 2 &  7 & 20 &  8 &  2\\\\\n",
       "\t 5 & 2 & 18 & 18 &  8 &  7\\\\\n",
       "\t 6 & 1 & 17 & 17 &  7 &  6\\\\\n",
       "\\end{tabular}\n"
      ],
      "text/markdown": [
       "\n",
       "A data.frame: 6 × 6\n",
       "\n",
       "| week &lt;int&gt; | C &lt;int&gt; | FL &lt;int&gt; | FH &lt;int&gt; | IL &lt;int&gt; | IH &lt;int&gt; |\n",
       "|---|---|---|---|---|---|\n",
       "| 1 | 7 | 23 | 25 | 21 | 19 |\n",
       "| 2 | 2 | 19 | 25 | 10 | 12 |\n",
       "| 3 | 2 | 18 | 19 |  9 |  9 |\n",
       "| 4 | 2 |  7 | 20 |  8 |  2 |\n",
       "| 5 | 2 | 18 | 18 |  8 |  7 |\n",
       "| 6 | 1 | 17 | 17 |  7 |  6 |\n",
       "\n"
      ],
      "text/plain": [
       "  week C FL FH IL IH\n",
       "1 1    7 23 25 21 19\n",
       "2 2    2 19 25 10 12\n",
       "3 3    2 18 19  9  9\n",
       "4 4    2  7 20  8  2\n",
       "5 5    2 18 18  8  7\n",
       "6 6    1 17 17  7  6"
      ]
     },
     "metadata": {},
     "output_type": "display_data"
    }
   ],
   "source": [
    "walkers<-read.table(file=\"../Data/walkers.txt\",sep=',',header = T) ; walkers"
   ]
  },
  {
   "cell_type": "markdown",
   "metadata": {},
   "source": [
    "<font color='blue' size=3> A study was conducted to investigate the effect of prompting in a walking programme. Five\n",
    "groups of 30 people agreed to participate by walking for 20 minutes at least one day per week\n",
    "over a 6-week period. People were prompted by telephone, with different prompting schemes\n",
    "used for each group of walkers. The file contains the number of participants in each group who\n",
    "walked the minimum requirement for each week. </font>"
   ]
  },
  {
   "cell_type": "markdown",
   "metadata": {},
   "source": [
    "<font color='blue' size=3> Question 1: Is there sufficient evidence of a difference in the mean number of walkers reaching the\n",
    "minimum requirement per week among the five groups? </font>"
   ]
  },
  {
   "cell_type": "code",
   "execution_count": 4,
   "metadata": {},
   "outputs": [],
   "source": [
    "C <- walkers[[2]] \n",
    "FL <- walkers[[3]]\n",
    "FH <- walkers[[4]]\n",
    "IL <- walkers[[5]]\n",
    "IH <- walkers[[6]]"
   ]
  },
  {
   "cell_type": "code",
   "execution_count": 5,
   "metadata": {},
   "outputs": [],
   "source": [
    "NumWalkers<-c(C,FL,FH,IL,IH)"
   ]
  },
  {
   "cell_type": "code",
   "execution_count": 6,
   "metadata": {},
   "outputs": [],
   "source": [
    "PromptType<-factor(c(rep(\"C\",6),rep(\"FL\",6),rep(\"FH\",6),rep(\"IL\",6),rep(\"IH\",6)))\n",
    "Week<-factor(rep(c(\"w1\",\"w2\",\"w3\",\"w4\",\"w5\",\"w6\"),5))"
   ]
  },
  {
   "cell_type": "code",
   "execution_count": 7,
   "metadata": {},
   "outputs": [],
   "source": [
    "my_data<-data.frame(PromptType, Week, c(C,FL,FH,IL,IH))\n",
    "colnames(my_data)<-c('Prompt Group', 'Week','number each week')\n",
    "###my_data"
   ]
  },
  {
   "cell_type": "code",
   "execution_count": 8,
   "metadata": {},
   "outputs": [
    {
     "data": {
      "image/png": "[encoded data removed]",
      "text/plain": [
       "plot without title"
      ]
     },
     "metadata": {},
     "output_type": "display_data"
    },
    {
     "data": {
      "image/png": "[encoded data removed]",
      "text/plain": [
       "plot without title"
      ]
     },
     "metadata": {},
     "output_type": "display_data"
    }
   ],
   "source": [
    "boxplot(NumWalkers~PromptType, data=my_data)\n",
    "boxplot(NumWalkers~Week, data=my_data)"
   ]
  },
  {
   "cell_type": "code",
   "execution_count": 9,
   "metadata": {},
   "outputs": [
    {
     "data": {
      "image/png": "[encoded data removed]",
      "text/plain": [
       "plot without title"
      ]
     },
     "metadata": {},
     "output_type": "display_data"
    }
   ],
   "source": [
    "plot(C, type='o', col='red', pch=19, \n",
    "     ylim=c(0,30), cex=2, lwd=3, xlab='week', ylab='number of walkers')\n",
    "lines(FH, type='o', col='chartreuse2', pch=19, \n",
    "      cex=2, lwd=3)\n",
    "lines(FL, type='o', col='orange', pch=19, \n",
    "      cex=2, lwd=3)\n",
    "lines(IH, type='o', col='blue', pch=19, \n",
    "      cex=2, lwd=3)\n",
    "lines(IL, type='o', col='purple', pch=19, \n",
    "      cex=2, lwd=3)"
   ]
  },
  {
   "cell_type": "code",
   "execution_count": 10,
   "metadata": {},
   "outputs": [
    {
     "data": {
      "text/plain": [
       "\n",
       "Error: Week\n",
       "          Df Sum Sq Mean Sq F value Pr(>F)\n",
       "Residuals  5  386.4   77.28               \n",
       "\n",
       "Error: Week:PromptType\n",
       "           Df Sum Sq Mean Sq F value   Pr(>F)    \n",
       "PromptType  4 1185.0  296.25   39.87 2.92e-09 ***\n",
       "Residuals  20  148.6    7.43                     \n",
       "---\n",
       "Signif. codes:  0 '***' 0.001 '**' 0.01 '*' 0.05 '.' 0.1 ' ' 1"
      ]
     },
     "metadata": {},
     "output_type": "display_data"
    }
   ],
   "source": [
    "aov.res2 <- aov(NumWalkers ~ PromptType + Error(Week/PromptType), data=my_data)\n",
    "summary(aov.res2)"
   ]
  },
  {
   "cell_type": "markdown",
   "metadata": {},
   "source": [
    "<font color='blue' size=3> Question 2: Compute the pairwise comparisons. What conclusions can you draw?</font>"
   ]
  },
  {
   "cell_type": "code",
   "execution_count": 13,
   "metadata": {},
   "outputs": [
    {
     "data": {
      "text/plain": [
       "\n",
       "\tPairwise comparisons using t tests with non-pooled SD \n",
       "\n",
       "data:  my_data$\"number each week\" and my_data$\"Prompt Group\" \n",
       "\n",
       "   C       FH      FL      IH     \n",
       "FH 3.7e-06 -       -       -      \n",
       "FL 0.00061 0.19396 -       -      \n",
       "IH 0.04116 0.00313 0.03590 -      \n",
       "IL 0.01265 0.00358 0.05908 0.68637\n",
       "\n",
       "P value adjustment method: none "
      ]
     },
     "metadata": {},
     "output_type": "display_data"
    }
   ],
   "source": [
    "pairwise.t.test(my_data$'number each week', my_data$'Prompt Group',\n",
    "                 p.adjust.method = \"none\",\n",
    "                 paired=FALSE, pool.sd=FALSE)"
   ]
  },
  {
   "cell_type": "code",
   "execution_count": 15,
   "metadata": {},
   "outputs": [
    {
     "data": {
      "text/plain": [
       "\n",
       "\tPairwise comparisons using t tests with non-pooled SD \n",
       "\n",
       "data:  my_data$\"number each week\" and my_data$\"Prompt Group\" \n",
       "\n",
       "   C       FH     FL     IH    \n",
       "FH 3.7e-05 -      -      -     \n",
       "FL 0.0061  1.0000 -      -     \n",
       "IH 0.4116  0.0313 0.3590 -     \n",
       "IL 0.1265  0.0358 0.5908 1.0000\n",
       "\n",
       "P value adjustment method: bonferroni "
      ]
     },
     "metadata": {},
     "output_type": "display_data"
    }
   ],
   "source": [
    "pairwise.t.test(my_data$'number each week', my_data$'Prompt Group',\n",
    "                 p.adjust.method = \"bonferroni\",\n",
    "                 paired=FALSE, pool.sd=FALSE)"
   ]
  },
  {
   "cell_type": "markdown",
   "metadata": {},
   "source": [
    "<font size=3 color='green'>\n",
    "Notice the difference of parwise comparisons when using bonferroni correction. Every value is multiplied by 10 which will lead to fewer pair means being concluded as significantly different."
   ]
  },
  {
   "cell_type": "code",
   "execution_count": null,
   "metadata": {},
   "outputs": [],
   "source": []
  },
  {
   "cell_type": "markdown",
   "metadata": {},
   "source": [
    "<font color='blue' size=5><b> Suggested solutions to Part 5 (datafile ocd) </b></font>"
   ]
  },
  {
   "cell_type": "code",
   "execution_count": 88,
   "metadata": {},
   "outputs": [],
   "source": [
    "ocd<-read.table(file=\"../Data/ocd.txt\",sep=',',header = T)"
   ]
  },
  {
   "cell_type": "markdown",
   "metadata": {},
   "source": [
    "<font color='blue' size=3> Question: Davey et al. (2003) looked at processes underlying obsessive compulsive disorder. They asked\n",
    "different participants in negative, positive or neutral moods to imagine that they were going\n",
    "on holiday. The participants were then asked to list everything that they should check before\n",
    "going away. Within each mood group, half of the participants were told to list as many things as\n",
    "possible within 2 minutes (the ‘time limited’ group), while the other half were told to continue for\n",
    "as long as they wished (the ‘time unlimited’ group). Test to see whether people in different moods\n",
    "and with different time constraints make lists of different lengths. Check that the conditions\n",
    "required for the test are satisfied before discussing the results. </font>"
   ]
  },
  {
   "cell_type": "code",
   "execution_count": 86,
   "metadata": {},
   "outputs": [
    {
     "data": {
      "image/png": "[encoded data removed]",
      "text/plain": [
       "plot without title"
      ]
     },
     "metadata": {},
     "output_type": "display_data"
    }
   ],
   "source": [
    "options(repr.plot.width=5, repr.plot.height=5)\n",
    "\n",
    "ggboxplot(ocd, x = \"Mood\", y = \"Number\", color = \"Items\",\n",
    "          palette = c(\"#00AFBB\", \"#E7B800\"))"
   ]
  },
  {
   "cell_type": "code",
   "execution_count": 118,
   "metadata": {},
   "outputs": [
    {
     "data": {
      "text/plain": [
       "            Df Sum Sq Mean Sq F value  Pr(>F)   \n",
       "Mood         2   34.1   17.07   0.683 0.50922   \n",
       "Items        1   52.3   52.27   2.093 0.15377   \n",
       "Mood:Items   2  316.9  158.47   6.345 0.00335 **\n",
       "Residuals   54 1348.6   24.97                   \n",
       "---\n",
       "Signif. codes:  0 '***' 0.001 '**' 0.01 '*' 0.05 '.' 0.1 ' ' 1"
      ]
     },
     "metadata": {},
     "output_type": "display_data"
    }
   ],
   "source": [
    "res.ocd <- aov(Number ~ Mood + Items + Mood:Items, data = ocd)\n",
    "summary(res.ocd)"
   ]
  },
  {
   "cell_type": "markdown",
   "metadata": {},
   "source": [
    "<font size=3 color='green'>For $\\alpha=0.01$ (conf. level $99\\%$), we reject $H_{0}$ for $H_{1}$. Hence, people in different moods and with different time constraints make lists of different lengths.</font> "
   ]
  },
  {
   "cell_type": "code",
   "execution_count": null,
   "metadata": {},
   "outputs": [],
   "source": []
  },
  {
   "cell_type": "markdown",
   "metadata": {},
   "source": [
    "<font color='blue' size=5><b> Suggested solutions to Part 6 (datafile langprof) </b></font>"
   ]
  },
  {
   "cell_type": "code",
   "execution_count": 107,
   "metadata": {},
   "outputs": [
    {
     "data": {
      "text/html": [
       "<table>\n",
       "<caption>A data.frame: 6 × 3</caption>\n",
       "<thead>\n",
       "\t<tr><th scope=col>Gender</th><th scope=col>Country</th><th scope=col>EnglishScore</th></tr>\n",
       "\t<tr><th scope=col>&lt;fct&gt;</th><th scope=col>&lt;fct&gt;</th><th scope=col>&lt;int&gt;</th></tr>\n",
       "</thead>\n",
       "<tbody>\n",
       "\t<tr><td>Male</td><td>Europe       </td><td>10</td></tr>\n",
       "\t<tr><td>Male</td><td>South-America</td><td>33</td></tr>\n",
       "\t<tr><td>Male</td><td>North-Africa </td><td>26</td></tr>\n",
       "\t<tr><td>Male</td><td>SE-Asia      </td><td>26</td></tr>\n",
       "\t<tr><td>Male</td><td>Europe       </td><td>19</td></tr>\n",
       "\t<tr><td>Male</td><td>South-America</td><td>21</td></tr>\n",
       "</tbody>\n",
       "</table>\n"
      ],
      "text/latex": [
       "A data.frame: 6 × 3\n",
       "\\begin{tabular}{r|lll}\n",
       " Gender & Country & EnglishScore\\\\\n",
       " <fct> & <fct> & <int>\\\\\n",
       "\\hline\n",
       "\t Male & Europe        & 10\\\\\n",
       "\t Male & South-America & 33\\\\\n",
       "\t Male & North-Africa  & 26\\\\\n",
       "\t Male & SE-Asia       & 26\\\\\n",
       "\t Male & Europe        & 19\\\\\n",
       "\t Male & South-America & 21\\\\\n",
       "\\end{tabular}\n"
      ],
      "text/markdown": [
       "\n",
       "A data.frame: 6 × 3\n",
       "\n",
       "| Gender &lt;fct&gt; | Country &lt;fct&gt; | EnglishScore &lt;int&gt; |\n",
       "|---|---|---|\n",
       "| Male | Europe        | 10 |\n",
       "| Male | South-America | 33 |\n",
       "| Male | North-Africa  | 26 |\n",
       "| Male | SE-Asia       | 26 |\n",
       "| Male | Europe        | 19 |\n",
       "| Male | South-America | 21 |\n",
       "\n"
      ],
      "text/plain": [
       "  Gender Country       EnglishScore\n",
       "1 Male   Europe        10          \n",
       "2 Male   South-America 33          \n",
       "3 Male   North-Africa  26          \n",
       "4 Male   SE-Asia       26          \n",
       "5 Male   Europe        19          \n",
       "6 Male   South-America 21          "
      ]
     },
     "metadata": {},
     "output_type": "display_data"
    }
   ],
   "source": [
    "langprof<-read.table(file=\"../Data/langprof.txt\",sep=',',header = T)\n",
    "head(langprof)"
   ]
  },
  {
   "cell_type": "markdown",
   "metadata": {},
   "source": [
    "<font color='blue' size=3> Question: The file contains marks achieved by students in a multiple choice test, classified by both gender\n",
    "and the country in which the test was administered. Use two-way ANOVA to test whether\n",
    "gender or geographical location has a significant influence on the marks achieved. </font>"
   ]
  },
  {
   "cell_type": "code",
   "execution_count": 108,
   "metadata": {},
   "outputs": [
    {
     "data": {
      "image/png": "[encoded data removed]",
      "text/plain": [
       "plot without title"
      ]
     },
     "metadata": {},
     "output_type": "display_data"
    }
   ],
   "source": [
    "options(repr.plot.width=5, repr.plot.height=5)\n",
    "\n",
    "ggboxplot(langprof, x = \"Country\", y = \"EnglishScore\", color = \"Gender\",\n",
    "          palette = c(\"hotpink\", \"blue\"))"
   ]
  },
  {
   "cell_type": "code",
   "execution_count": 119,
   "metadata": {},
   "outputs": [
    {
     "data": {
      "text/plain": [
       "            Df Sum Sq Mean Sq F value Pr(>F)\n",
       "Gender       1    9.0    9.02   0.183  0.671\n",
       "Country      3   79.9   26.63   0.541  0.657\n",
       "Residuals   35 1722.9   49.23               "
      ]
     },
     "metadata": {},
     "output_type": "display_data"
    }
   ],
   "source": [
    "res.langprof <- aov(EnglishScore ~ Gender + Country, data = langprof)\n",
    "summary(res.langprof)"
   ]
  },
  {
   "cell_type": "code",
   "execution_count": 47,
   "metadata": {},
   "outputs": [],
   "source": [
    "#no significant difference in means"
   ]
  },
  {
   "cell_type": "code",
   "execution_count": null,
   "metadata": {},
   "outputs": [],
   "source": []
  },
  {
   "cell_type": "markdown",
   "metadata": {},
   "source": [
    "<font color='blue' size=5><b> Suggested solutions to Part 7 (datafile schooling) </b></font>"
   ]
  },
  {
   "cell_type": "code",
   "execution_count": 1,
   "metadata": {},
   "outputs": [],
   "source": [
    "schooling<-read.table(file=\"../Data/schooling.txt\",sep=',',header = T)"
   ]
  },
  {
   "cell_type": "markdown",
   "metadata": {},
   "source": [
    "<font color='blue' size=3> Question: A researcher investigates the hypothesis that achievement at university is affected by (a) the type\n",
    "of schooling a student received (home schooling vs public schooling) and (b) whether they come\n",
    "from a two-parent family or single-parent family. Use two-way ANOVA to investigate whether\n",
    "either of these variables, or an interaction between them, affects the proportion of questions the\n",
    "pupils answer correctly in an exam.</font>"
   ]
  },
  {
   "cell_type": "code",
   "execution_count": 122,
   "metadata": {},
   "outputs": [
    {
     "data": {
      "image/png": "[encoded data removed]",
      "text/plain": [
       "plot without title"
      ]
     },
     "metadata": {},
     "output_type": "display_data"
    }
   ],
   "source": [
    "options(repr.plot.width=5, repr.plot.height=5)\n",
    "\n",
    "ggboxplot(schooling, x = \"Schooling\", y = \"Test\", color = \"FamilyType\",\n",
    "          palette = c(\"hotpink\", \"blue\"))"
   ]
  },
  {
   "cell_type": "code",
   "execution_count": 120,
   "metadata": {},
   "outputs": [
    {
     "data": {
      "text/plain": [
       "                     Df Sum Sq Mean Sq F value   Pr(>F)    \n",
       "FamilyType            1 0.0451  0.0451    5.54   0.0317 *  \n",
       "Schooling             1 0.4651  0.4651   57.11 1.15e-06 ***\n",
       "FamilyType:Schooling  1 0.5088  0.5088   62.47 6.49e-07 ***\n",
       "Residuals            16 0.1303  0.0081                     \n",
       "---\n",
       "Signif. codes:  0 '***' 0.001 '**' 0.01 '*' 0.05 '.' 0.1 ' ' 1"
      ]
     },
     "metadata": {},
     "output_type": "display_data"
    }
   ],
   "source": [
    "res.school <- aov(Test ~ FamilyType + Schooling + FamilyType:Schooling, data = schooling)\n",
    "summary(res.school)"
   ]
  },
  {
   "cell_type": "markdown",
   "metadata": {},
   "source": [
    "<font size=3 color='green'>\n",
    "    \n",
    "At the significance level $\\alpha=0.05$, \n",
    "\n",
    "we reject $H_{0}$ for $H_{1}$ for all three, that is we conclude that there are significant differences between both the variables and their interaction (since the p-values are smaller than $\\alpha$). \n",
    "\n",
    "\n",
    "\n",
    "At the significance level $\\alpha=0.01$, \n",
    "\n",
    "we do not reject $H_{0}$ for $H_{1}$ for the first variable, that is we conclude that family type does not affect exam results\n",
    "\n",
    "we do reject $H_{0}$ for $H_{1}$ for the second and their interaction, that is schooling does affect exam results. \n",
    "</font>"
   ]
  },
  {
   "cell_type": "code",
   "execution_count": null,
   "metadata": {},
   "outputs": [],
   "source": []
  },
  {
   "cell_type": "markdown",
   "metadata": {},
   "source": [
    "<font color='blue' size=5><b> Suggested solutions to Part 8 (datafile households) </b></font>"
   ]
  },
  {
   "cell_type": "code",
   "execution_count": 2,
   "metadata": {},
   "outputs": [],
   "source": [
    "households<-read.table(file=\"../Data/households.txt\",sep=',',header = T)"
   ]
  },
  {
   "cell_type": "markdown",
   "metadata": {},
   "source": [
    "<font color='blue' size=3> Question: The file lists the number of bedrooms people have in their homes and the number of cars they\n",
    "own, classified by whether or not they live in a rural area or an urban area. Investigate whether\n",
    "the type of area (rural vs urban) has a significant effect on the number of bedrooms people have\n",
    "in their homes, and the number of cars they own.</font>"
   ]
  },
  {
   "cell_type": "code",
   "execution_count": 36,
   "metadata": {},
   "outputs": [],
   "source": [
    "### This question actually wants you to do two one-way ANOVAs"
   ]
  },
  {
   "cell_type": "code",
   "execution_count": 44,
   "metadata": {},
   "outputs": [
    {
     "data": {
      "text/html": [
       "<table>\n",
       "<caption>A tibble: 2 × 4</caption>\n",
       "<thead>\n",
       "\t<tr><th scope=col>Group</th><th scope=col>count</th><th scope=col>mean</th><th scope=col>sd</th></tr>\n",
       "\t<tr><th scope=col>&lt;fct&gt;</th><th scope=col>&lt;int&gt;</th><th scope=col>&lt;dbl&gt;</th><th scope=col>&lt;dbl&gt;</th></tr>\n",
       "</thead>\n",
       "<tbody>\n",
       "\t<tr><td>Rural</td><td>5</td><td>3</td><td>1.000000</td></tr>\n",
       "\t<tr><td>Urban</td><td>5</td><td>2</td><td>1.224745</td></tr>\n",
       "</tbody>\n",
       "</table>\n"
      ],
      "text/latex": [
       "A tibble: 2 × 4\n",
       "\\begin{tabular}{r|llll}\n",
       " Group & count & mean & sd\\\\\n",
       " <fct> & <int> & <dbl> & <dbl>\\\\\n",
       "\\hline\n",
       "\t Rural & 5 & 3 & 1.000000\\\\\n",
       "\t Urban & 5 & 2 & 1.224745\\\\\n",
       "\\end{tabular}\n"
      ],
      "text/markdown": [
       "\n",
       "A tibble: 2 × 4\n",
       "\n",
       "| Group &lt;fct&gt; | count &lt;int&gt; | mean &lt;dbl&gt; | sd &lt;dbl&gt; |\n",
       "|---|---|---|---|\n",
       "| Rural | 5 | 3 | 1.000000 |\n",
       "| Urban | 5 | 2 | 1.224745 |\n",
       "\n"
      ],
      "text/plain": [
       "  Group count mean sd      \n",
       "1 Rural 5     3    1.000000\n",
       "2 Urban 5     2    1.224745"
      ]
     },
     "metadata": {},
     "output_type": "display_data"
    }
   ],
   "source": [
    "group_by(households, Group) %>%\n",
    "  summarise(\n",
    "    count = n(),\n",
    "    mean = mean(Bedrooms, na.rm = TRUE),\n",
    "    sd = sd(Bedrooms, na.rm = TRUE)\n",
    "  )"
   ]
  },
  {
   "cell_type": "code",
   "execution_count": 45,
   "metadata": {},
   "outputs": [
    {
     "data": {
      "text/plain": [
       "            Df Sum Sq Mean Sq F value Pr(>F)\n",
       "Group        1    2.5    2.50       2  0.195\n",
       "Residuals    8   10.0    1.25               "
      ]
     },
     "metadata": {},
     "output_type": "display_data"
    }
   ],
   "source": [
    "res.bed <- aov(Bedrooms ~ Group, data = households)\n",
    "summary(res.bed)"
   ]
  },
  {
   "cell_type": "code",
   "execution_count": null,
   "metadata": {},
   "outputs": [],
   "source": []
  },
  {
   "cell_type": "code",
   "execution_count": 43,
   "metadata": {},
   "outputs": [
    {
     "data": {
      "text/html": [
       "<table>\n",
       "<caption>A tibble: 2 × 4</caption>\n",
       "<thead>\n",
       "\t<tr><th scope=col>Group</th><th scope=col>count</th><th scope=col>mean</th><th scope=col>sd</th></tr>\n",
       "\t<tr><th scope=col>&lt;fct&gt;</th><th scope=col>&lt;int&gt;</th><th scope=col>&lt;dbl&gt;</th><th scope=col>&lt;dbl&gt;</th></tr>\n",
       "</thead>\n",
       "<tbody>\n",
       "\t<tr><td>Rural</td><td>5</td><td>1</td><td>1</td></tr>\n",
       "\t<tr><td>Urban</td><td>5</td><td>2</td><td>1</td></tr>\n",
       "</tbody>\n",
       "</table>\n"
      ],
      "text/latex": [
       "A tibble: 2 × 4\n",
       "\\begin{tabular}{r|llll}\n",
       " Group & count & mean & sd\\\\\n",
       " <fct> & <int> & <dbl> & <dbl>\\\\\n",
       "\\hline\n",
       "\t Rural & 5 & 1 & 1\\\\\n",
       "\t Urban & 5 & 2 & 1\\\\\n",
       "\\end{tabular}\n"
      ],
      "text/markdown": [
       "\n",
       "A tibble: 2 × 4\n",
       "\n",
       "| Group &lt;fct&gt; | count &lt;int&gt; | mean &lt;dbl&gt; | sd &lt;dbl&gt; |\n",
       "|---|---|---|---|\n",
       "| Rural | 5 | 1 | 1 |\n",
       "| Urban | 5 | 2 | 1 |\n",
       "\n"
      ],
      "text/plain": [
       "  Group count mean sd\n",
       "1 Rural 5     1    1 \n",
       "2 Urban 5     2    1 "
      ]
     },
     "metadata": {},
     "output_type": "display_data"
    }
   ],
   "source": [
    "group_by(households, Group) %>%\n",
    "  summarise(\n",
    "    count = n(),\n",
    "    mean = mean(Cars, na.rm = TRUE),\n",
    "    sd = sd(Cars, na.rm = TRUE)\n",
    "  )"
   ]
  },
  {
   "cell_type": "code",
   "execution_count": 46,
   "metadata": {},
   "outputs": [
    {
     "data": {
      "text/plain": [
       "            Df Sum Sq Mean Sq F value Pr(>F)\n",
       "Group        1    2.5     2.5     2.5  0.153\n",
       "Residuals    8    8.0     1.0               "
      ]
     },
     "metadata": {},
     "output_type": "display_data"
    }
   ],
   "source": [
    "res.car <- aov(Cars ~ Group, data = households)\n",
    "summary(res.car)"
   ]
  },
  {
   "cell_type": "markdown",
   "metadata": {},
   "source": [
    "<font size=3 color='green'>\n",
    "    \n",
    "At the significance level $\\alpha=0.1$, we cannot reject the null hypothesis. Therefore, the amount of bedrooms you have or cars you own does not depends on living in a rural or urban house.  \n",
    " \n",
    "</font>"
   ]
  },
  {
   "cell_type": "code",
   "execution_count": null,
   "metadata": {},
   "outputs": [],
   "source": []
  },
  {
   "cell_type": "code",
   "execution_count": null,
   "metadata": {},
   "outputs": [],
   "source": []
  }
 ],
 "metadata": {
  "kernelspec": {
   "display_name": "R",
   "language": "R",
   "name": "ir"
  },
  "language_info": {
   "codemirror_mode": "r",
   "file_extension": ".r",
   "mimetype": "text/x-r-source",
   "name": "R",
   "pygments_lexer": "r",
   "version": "3.6.1"
  }
 },
 "nbformat": 4,
 "nbformat_minor": 2
}

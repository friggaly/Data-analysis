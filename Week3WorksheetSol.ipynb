{
 "cells": [
  {
   "cell_type": "markdown",
   "metadata": {},
   "source": [
    "<font color='blue' size=6><b>Demo - Week 3 Worksheet Suggested Solutions</b></font> "
   ]
  },
  {
   "cell_type": "markdown",
   "metadata": {},
   "source": [
    "<font size=3 color='blue'>\n",
    "\n",
    "We must first read in the two data files hr130 and hrstudy \n",
    "</font>    "
   ]
  },
  {
   "cell_type": "code",
   "execution_count": 1,
   "metadata": {},
   "outputs": [
    {
     "name": "stderr",
     "output_type": "stream",
     "text": [
      "Warning message:\n",
      "\"package 'datasets' is not available (for R version 3.6.1)\"Warning message:\n",
      "\"package 'datasets' is a base package, and should not be updated\""
     ]
    }
   ],
   "source": [
    "install.packages('datasets',repos='https://cran.ma.imperial.ac.uk/')\n",
    "library(datasets)"
   ]
  },
  {
   "cell_type": "code",
   "execution_count": 2,
   "metadata": {},
   "outputs": [],
   "source": [
    "library(help = \"datasets\")"
   ]
  },
  {
   "cell_type": "code",
   "execution_count": 3,
   "metadata": {},
   "outputs": [
    {
     "data": {
      "text/html": [
       "'C:/Users/smaap2/Dropbox/MAT022-Foundations-of-Statistics-and-Data-Science/labsolutions'"
      ],
      "text/latex": [
       "'C:/Users/smaap2/Dropbox/MAT022-Foundations-of-Statistics-and-Data-Science/labsolutions'"
      ],
      "text/markdown": [
       "'C:/Users/smaap2/Dropbox/MAT022-Foundations-of-Statistics-and-Data-Science/labsolutions'"
      ],
      "text/plain": [
       "[1] \"C:/Users/smaap2/Dropbox/MAT022-Foundations-of-Statistics-and-Data-Science/labsolutions\""
      ]
     },
     "metadata": {},
     "output_type": "display_data"
    }
   ],
   "source": [
    "getwd()\n",
    "#### \"T\" is a shortcut for \"TRUE\", and \"F\" for \"FALSE\"\n",
    "\n",
    "hr130<-read.table(file=\"../Data/hr130.txt\",sep=',',header = T)\n",
    "\n",
    "hrstudy<-read.table(file=\"../Data/hrstudy.txt\",sep=',',header = T)"
   ]
  },
  {
   "cell_type": "markdown",
   "metadata": {},
   "source": [
    " <font size=5 color='blue'><b> Suggested solutions to Part 1 (data file hr130) </b></font>    "
   ]
  },
  {
   "cell_type": "markdown",
   "metadata": {},
   "source": [
    "<font size=3 color='blue'> Question 1: Plot a histogram of data hr130 </font>    "
   ]
  },
  {
   "cell_type": "code",
   "execution_count": 5,
   "metadata": {},
   "outputs": [
    {
     "data": {
      "text/html": [
       "<ol class=list-inline>\n",
       "\t<li>70</li>\n",
       "\t<li>69</li>\n",
       "\t<li>71</li>\n",
       "\t<li>62</li>\n",
       "\t<li>75</li>\n",
       "\t<li>74</li>\n",
       "\t<li>80</li>\n",
       "\t<li>73</li>\n",
       "\t<li>75</li>\n",
       "\t<li>82</li>\n",
       "\t<li>64</li>\n",
       "\t<li>66</li>\n",
       "\t<li>68</li>\n",
       "\t<li>69</li>\n",
       "\t<li>72</li>\n",
       "\t<li>78</li>\n",
       "\t<li>70</li>\n",
       "\t<li>68</li>\n",
       "\t<li>57</li>\n",
       "\t<li>70</li>\n",
       "\t<li>75</li>\n",
       "\t<li>74</li>\n",
       "\t<li>69</li>\n",
       "\t<li>73</li>\n",
       "\t<li>61</li>\n",
       "\t<li>77</li>\n",
       "\t<li>84</li>\n",
       "\t<li>61</li>\n",
       "\t<li>58</li>\n",
       "\t<li>73</li>\n",
       "\t<li>65</li>\n",
       "\t<li>74</li>\n",
       "\t<li>77</li>\n",
       "\t<li>62</li>\n",
       "\t<li>71</li>\n",
       "\t<li>76</li>\n",
       "\t<li>72</li>\n",
       "\t<li>68</li>\n",
       "\t<li>69</li>\n",
       "\t<li>79</li>\n",
       "\t<li>78</li>\n",
       "\t<li>71</li>\n",
       "\t<li>74</li>\n",
       "\t<li>67</li>\n",
       "\t<li>64</li>\n",
       "\t<li>78</li>\n",
       "\t<li>76</li>\n",
       "\t<li>87</li>\n",
       "\t<li>78</li>\n",
       "\t<li>73</li>\n",
       "\t<li>89</li>\n",
       "\t<li>73</li>\n",
       "\t<li>67</li>\n",
       "\t<li>81</li>\n",
       "\t<li>66</li>\n",
       "\t<li>64</li>\n",
       "\t<li>71</li>\n",
       "\t<li>72</li>\n",
       "\t<li>73</li>\n",
       "\t<li>64</li>\n",
       "\t<li>65</li>\n",
       "\t<li>73</li>\n",
       "\t<li>69</li>\n",
       "\t<li>57</li>\n",
       "\t<li>86</li>\n",
       "\t<li>72</li>\n",
       "\t<li>79</li>\n",
       "\t<li>78</li>\n",
       "\t<li>80</li>\n",
       "\t<li>68</li>\n",
       "\t<li>70</li>\n",
       "\t<li>82</li>\n",
       "\t<li>84</li>\n",
       "\t<li>79</li>\n",
       "\t<li>81</li>\n",
       "\t<li>73</li>\n",
       "\t<li>74</li>\n",
       "\t<li>84</li>\n",
       "\t<li>68</li>\n",
       "\t<li>71</li>\n",
       "\t<li>83</li>\n",
       "\t<li>77</li>\n",
       "\t<li>78</li>\n",
       "\t<li>83</li>\n",
       "\t<li>66</li>\n",
       "\t<li>70</li>\n",
       "\t<li>82</li>\n",
       "\t<li>82</li>\n",
       "\t<li>85</li>\n",
       "\t<li>86</li>\n",
       "\t<li>77</li>\n",
       "\t<li>73</li>\n",
       "\t<li>78</li>\n",
       "\t<li>72</li>\n",
       "\t<li>79</li>\n",
       "\t<li>59</li>\n",
       "\t<li>64</li>\n",
       "\t<li>65</li>\n",
       "\t<li>82</li>\n",
       "\t<li>78</li>\n",
       "\t<li>81</li>\n",
       "\t<li>78</li>\n",
       "\t<li>64</li>\n",
       "\t<li>70</li>\n",
       "\t<li>83</li>\n",
       "\t<li>89</li>\n",
       "\t<li>69</li>\n",
       "\t<li>73</li>\n",
       "\t<li>84</li>\n",
       "\t<li>80</li>\n",
       "\t<li>76</li>\n",
       "\t<li>75</li>\n",
       "\t<li>79</li>\n",
       "\t<li>81</li>\n",
       "\t<li>79</li>\n",
       "\t<li>81</li>\n",
       "\t<li>71</li>\n",
       "\t<li>80</li>\n",
       "\t<li>74</li>\n",
       "\t<li>83</li>\n",
       "\t<li>77</li>\n",
       "\t<li>66</li>\n",
       "\t<li>63</li>\n",
       "\t<li>68</li>\n",
       "\t<li>70</li>\n",
       "\t<li>77</li>\n",
       "\t<li>75</li>\n",
       "\t<li>79</li>\n",
       "\t<li>78</li>\n",
       "\t<li>77</li>\n",
       "</ol>\n"
      ],
      "text/latex": [
       "\\begin{enumerate*}\n",
       "\\item 70\n",
       "\\item 69\n",
       "\\item 71\n",
       "\\item 62\n",
       "\\item 75\n",
       "\\item 74\n",
       "\\item 80\n",
       "\\item 73\n",
       "\\item 75\n",
       "\\item 82\n",
       "\\item 64\n",
       "\\item 66\n",
       "\\item 68\n",
       "\\item 69\n",
       "\\item 72\n",
       "\\item 78\n",
       "\\item 70\n",
       "\\item 68\n",
       "\\item 57\n",
       "\\item 70\n",
       "\\item 75\n",
       "\\item 74\n",
       "\\item 69\n",
       "\\item 73\n",
       "\\item 61\n",
       "\\item 77\n",
       "\\item 84\n",
       "\\item 61\n",
       "\\item 58\n",
       "\\item 73\n",
       "\\item 65\n",
       "\\item 74\n",
       "\\item 77\n",
       "\\item 62\n",
       "\\item 71\n",
       "\\item 76\n",
       "\\item 72\n",
       "\\item 68\n",
       "\\item 69\n",
       "\\item 79\n",
       "\\item 78\n",
       "\\item 71\n",
       "\\item 74\n",
       "\\item 67\n",
       "\\item 64\n",
       "\\item 78\n",
       "\\item 76\n",
       "\\item 87\n",
       "\\item 78\n",
       "\\item 73\n",
       "\\item 89\n",
       "\\item 73\n",
       "\\item 67\n",
       "\\item 81\n",
       "\\item 66\n",
       "\\item 64\n",
       "\\item 71\n",
       "\\item 72\n",
       "\\item 73\n",
       "\\item 64\n",
       "\\item 65\n",
       "\\item 73\n",
       "\\item 69\n",
       "\\item 57\n",
       "\\item 86\n",
       "\\item 72\n",
       "\\item 79\n",
       "\\item 78\n",
       "\\item 80\n",
       "\\item 68\n",
       "\\item 70\n",
       "\\item 82\n",
       "\\item 84\n",
       "\\item 79\n",
       "\\item 81\n",
       "\\item 73\n",
       "\\item 74\n",
       "\\item 84\n",
       "\\item 68\n",
       "\\item 71\n",
       "\\item 83\n",
       "\\item 77\n",
       "\\item 78\n",
       "\\item 83\n",
       "\\item 66\n",
       "\\item 70\n",
       "\\item 82\n",
       "\\item 82\n",
       "\\item 85\n",
       "\\item 86\n",
       "\\item 77\n",
       "\\item 73\n",
       "\\item 78\n",
       "\\item 72\n",
       "\\item 79\n",
       "\\item 59\n",
       "\\item 64\n",
       "\\item 65\n",
       "\\item 82\n",
       "\\item 78\n",
       "\\item 81\n",
       "\\item 78\n",
       "\\item 64\n",
       "\\item 70\n",
       "\\item 83\n",
       "\\item 89\n",
       "\\item 69\n",
       "\\item 73\n",
       "\\item 84\n",
       "\\item 80\n",
       "\\item 76\n",
       "\\item 75\n",
       "\\item 79\n",
       "\\item 81\n",
       "\\item 79\n",
       "\\item 81\n",
       "\\item 71\n",
       "\\item 80\n",
       "\\item 74\n",
       "\\item 83\n",
       "\\item 77\n",
       "\\item 66\n",
       "\\item 63\n",
       "\\item 68\n",
       "\\item 70\n",
       "\\item 77\n",
       "\\item 75\n",
       "\\item 79\n",
       "\\item 78\n",
       "\\item 77\n",
       "\\end{enumerate*}\n"
      ],
      "text/markdown": [
       "1. 70\n",
       "2. 69\n",
       "3. 71\n",
       "4. 62\n",
       "5. 75\n",
       "6. 74\n",
       "7. 80\n",
       "8. 73\n",
       "9. 75\n",
       "10. 82\n",
       "11. 64\n",
       "12. 66\n",
       "13. 68\n",
       "14. 69\n",
       "15. 72\n",
       "16. 78\n",
       "17. 70\n",
       "18. 68\n",
       "19. 57\n",
       "20. 70\n",
       "21. 75\n",
       "22. 74\n",
       "23. 69\n",
       "24. 73\n",
       "25. 61\n",
       "26. 77\n",
       "27. 84\n",
       "28. 61\n",
       "29. 58\n",
       "30. 73\n",
       "31. 65\n",
       "32. 74\n",
       "33. 77\n",
       "34. 62\n",
       "35. 71\n",
       "36. 76\n",
       "37. 72\n",
       "38. 68\n",
       "39. 69\n",
       "40. 79\n",
       "41. 78\n",
       "42. 71\n",
       "43. 74\n",
       "44. 67\n",
       "45. 64\n",
       "46. 78\n",
       "47. 76\n",
       "48. 87\n",
       "49. 78\n",
       "50. 73\n",
       "51. 89\n",
       "52. 73\n",
       "53. 67\n",
       "54. 81\n",
       "55. 66\n",
       "56. 64\n",
       "57. 71\n",
       "58. 72\n",
       "59. 73\n",
       "60. 64\n",
       "61. 65\n",
       "62. 73\n",
       "63. 69\n",
       "64. 57\n",
       "65. 86\n",
       "66. 72\n",
       "67. 79\n",
       "68. 78\n",
       "69. 80\n",
       "70. 68\n",
       "71. 70\n",
       "72. 82\n",
       "73. 84\n",
       "74. 79\n",
       "75. 81\n",
       "76. 73\n",
       "77. 74\n",
       "78. 84\n",
       "79. 68\n",
       "80. 71\n",
       "81. 83\n",
       "82. 77\n",
       "83. 78\n",
       "84. 83\n",
       "85. 66\n",
       "86. 70\n",
       "87. 82\n",
       "88. 82\n",
       "89. 85\n",
       "90. 86\n",
       "91. 77\n",
       "92. 73\n",
       "93. 78\n",
       "94. 72\n",
       "95. 79\n",
       "96. 59\n",
       "97. 64\n",
       "98. 65\n",
       "99. 82\n",
       "100. 78\n",
       "101. 81\n",
       "102. 78\n",
       "103. 64\n",
       "104. 70\n",
       "105. 83\n",
       "106. 89\n",
       "107. 69\n",
       "108. 73\n",
       "109. 84\n",
       "110. 80\n",
       "111. 76\n",
       "112. 75\n",
       "113. 79\n",
       "114. 81\n",
       "115. 79\n",
       "116. 81\n",
       "117. 71\n",
       "118. 80\n",
       "119. 74\n",
       "120. 83\n",
       "121. 77\n",
       "122. 66\n",
       "123. 63\n",
       "124. 68\n",
       "125. 70\n",
       "126. 77\n",
       "127. 75\n",
       "128. 79\n",
       "129. 78\n",
       "130. 77\n",
       "\n",
       "\n"
      ],
      "text/plain": [
       "  [1] 70 69 71 62 75 74 80 73 75 82 64 66 68 69 72 78 70 68 57 70 75 74 69 73 61\n",
       " [26] 77 84 61 58 73 65 74 77 62 71 76 72 68 69 79 78 71 74 67 64 78 76 87 78 73\n",
       " [51] 89 73 67 81 66 64 71 72 73 64 65 73 69 57 86 72 79 78 80 68 70 82 84 79 81\n",
       " [76] 73 74 84 68 71 83 77 78 83 66 70 82 82 85 86 77 73 78 72 79 59 64 65 82 78\n",
       "[101] 81 78 64 70 83 89 69 73 84 80 76 75 79 81 79 81 71 80 74 83 77 66 63 68 70\n",
       "[126] 77 75 79 78 77"
      ]
     },
     "metadata": {},
     "output_type": "display_data"
    }
   ],
   "source": [
    "heartrate <- hr130$hr ### $hr removes the header so we can plot numeric values\n",
    "heartrate"
   ]
  },
  {
   "cell_type": "code",
   "execution_count": 6,
   "metadata": {},
   "outputs": [
    {
     "data": {
      "text/html": [
       "<table>\n",
       "<thead><tr><th scope=col>hr</th></tr></thead>\n",
       "<tbody>\n",
       "\t<tr><td>70</td></tr>\n",
       "\t<tr><td>69</td></tr>\n",
       "\t<tr><td>71</td></tr>\n",
       "\t<tr><td>62</td></tr>\n",
       "\t<tr><td>75</td></tr>\n",
       "\t<tr><td>74</td></tr>\n",
       "</tbody>\n",
       "</table>\n"
      ],
      "text/latex": [
       "\\begin{tabular}{r|l}\n",
       " hr\\\\\n",
       "\\hline\n",
       "\t 70\\\\\n",
       "\t 69\\\\\n",
       "\t 71\\\\\n",
       "\t 62\\\\\n",
       "\t 75\\\\\n",
       "\t 74\\\\\n",
       "\\end{tabular}\n"
      ],
      "text/markdown": [
       "\n",
       "| hr |\n",
       "|---|\n",
       "| 70 |\n",
       "| 69 |\n",
       "| 71 |\n",
       "| 62 |\n",
       "| 75 |\n",
       "| 74 |\n",
       "\n"
      ],
      "text/plain": [
       "  hr\n",
       "1 70\n",
       "2 69\n",
       "3 71\n",
       "4 62\n",
       "5 75\n",
       "6 74"
      ]
     },
     "metadata": {},
     "output_type": "display_data"
    },
    {
     "data": {
      "text/html": [
       "130"
      ],
      "text/latex": [
       "130"
      ],
      "text/markdown": [
       "130"
      ],
      "text/plain": [
       "[1] 130"
      ]
     },
     "metadata": {},
     "output_type": "display_data"
    },
    {
     "data": {
      "text/plain": [
       "   Min. 1st Qu.  Median    Mean 3rd Qu.    Max. \n",
       "  57.00   69.00   74.00   73.76   79.00   89.00 "
      ]
     },
     "metadata": {},
     "output_type": "display_data"
    }
   ],
   "source": [
    "head(hr130, n=6)       ### first 6 entries of the dataset, n=6 is the default value, can pick any value\n",
    "length(heartrate)  ### length of the column (amount of data that we have)\n",
    "summary(heartrate)    ### summary of all data"
   ]
  },
  {
   "cell_type": "code",
   "execution_count": 7,
   "metadata": {},
   "outputs": [
    {
     "data": {
      "image/png": "[encoded data removed]",
      "text/plain": [
       "Plot with title \"Histogram of heartrate\""
      ]
     },
     "metadata": {},
     "output_type": "display_data"
    }
   ],
   "source": [
    "hist(heartrate, freq=FALSE, col='cyan') ### plots histogram\n",
    "lines(density(heartrate),col='red',lwd=5) ### plots red line"
   ]
  },
  {
   "cell_type": "markdown",
   "metadata": {},
   "source": [
    "<font size=3 color='blue'>  Question 2: Compute the sample mean and sample variance of the heart rate  </font>  "
   ]
  },
  {
   "cell_type": "code",
   "execution_count": 8,
   "metadata": {},
   "outputs": [
    {
     "data": {
      "text/html": [
       "'sample mean: 73.761538'"
      ],
      "text/latex": [
       "'sample mean: 73.761538'"
      ],
      "text/markdown": [
       "'sample mean: 73.761538'"
      ],
      "text/plain": [
       "[1] \"sample mean: 73.761538\""
      ]
     },
     "metadata": {},
     "output_type": "display_data"
    },
    {
     "data": {
      "text/html": [
       "'sample variance: 49.872928'"
      ],
      "text/latex": [
       "'sample variance: 49.872928'"
      ],
      "text/markdown": [
       "'sample variance: 49.872928'"
      ],
      "text/plain": [
       "[1] \"sample variance: 49.872928\""
      ]
     },
     "metadata": {},
     "output_type": "display_data"
    }
   ],
   "source": [
    "xbar<-mean(heartrate) ; sprintf('sample mean: %f',xbar) ### print sample mean\n",
    "s2<-var(heartrate)  ; sprintf('sample variance: %f',s2) ### print sample variance"
   ]
  },
  {
   "cell_type": "markdown",
   "metadata": {},
   "source": [
    "<font size=5 color='blue'><b> Suggested Solutions to Part 2 (data file hrstudy) </b></font>"
   ]
  },
  {
   "cell_type": "code",
   "execution_count": 13,
   "metadata": {},
   "outputs": [
    {
     "data": {
      "text/html": [
       "<table>\n",
       "<thead><tr><th scope=col>GENDER</th><th scope=col>AGE</th><th scope=col>DIET</th><th scope=col>WEIGHT</th></tr></thead>\n",
       "<tbody>\n",
       "\t<tr><td>male    </td><td>22      </td><td>moderate</td><td>55      </td></tr>\n",
       "\t<tr><td>male    </td><td>20      </td><td>poor    </td><td>87      </td></tr>\n",
       "\t<tr><td>female  </td><td>22      </td><td>poor    </td><td>78      </td></tr>\n",
       "\t<tr><td>male    </td><td>21      </td><td>moderate</td><td>68      </td></tr>\n",
       "\t<tr><td>female  </td><td>20      </td><td>moderate</td><td>63      </td></tr>\n",
       "\t<tr><td>male    </td><td>18      </td><td>poor    </td><td>43      </td></tr>\n",
       "</tbody>\n",
       "</table>\n"
      ],
      "text/latex": [
       "\\begin{tabular}{r|llll}\n",
       " GENDER & AGE & DIET & WEIGHT\\\\\n",
       "\\hline\n",
       "\t male     & 22       & moderate & 55      \\\\\n",
       "\t male     & 20       & poor     & 87      \\\\\n",
       "\t female   & 22       & poor     & 78      \\\\\n",
       "\t male     & 21       & moderate & 68      \\\\\n",
       "\t female   & 20       & moderate & 63      \\\\\n",
       "\t male     & 18       & poor     & 43      \\\\\n",
       "\\end{tabular}\n"
      ],
      "text/markdown": [
       "\n",
       "| GENDER | AGE | DIET | WEIGHT |\n",
       "|---|---|---|---|\n",
       "| male     | 22       | moderate | 55       |\n",
       "| male     | 20       | poor     | 87       |\n",
       "| female   | 22       | poor     | 78       |\n",
       "| male     | 21       | moderate | 68       |\n",
       "| female   | 20       | moderate | 63       |\n",
       "| male     | 18       | poor     | 43       |\n",
       "\n"
      ],
      "text/plain": [
       "  GENDER AGE DIET     WEIGHT\n",
       "1 male   22  moderate 55    \n",
       "2 male   20  poor     87    \n",
       "3 female 22  poor     78    \n",
       "4 male   21  moderate 68    \n",
       "5 female 20  moderate 63    \n",
       "6 male   18  poor     43    "
      ]
     },
     "metadata": {},
     "output_type": "display_data"
    },
    {
     "data": {
      "text/html": [
       "100"
      ],
      "text/latex": [
       "100"
      ],
      "text/markdown": [
       "100"
      ],
      "text/plain": [
       "[1] 100"
      ]
     },
     "metadata": {},
     "output_type": "display_data"
    }
   ],
   "source": [
    "head(hrstudy)\n",
    "length(hrstudy[[1]])  ### length of first column of hrstudy, ie number of rows of data"
   ]
  },
  {
   "cell_type": "code",
   "execution_count": 14,
   "metadata": {},
   "outputs": [
    {
     "data": {
      "text/plain": [
       "    GENDER        AGE              DIET        WEIGHT     \n",
       " female:47   Min.   :18.00   good    :32   Min.   :33.00  \n",
       " male  :53   1st Qu.:19.00   moderate:32   1st Qu.:56.00  \n",
       "             Median :20.00   poor    :36   Median :66.50  \n",
       "             Mean   :20.18                 Mean   :65.26  \n",
       "             3rd Qu.:21.25                 3rd Qu.:74.00  \n",
       "             Max.   :27.00                 Max.   :91.00  "
      ]
     },
     "metadata": {},
     "output_type": "display_data"
    }
   ],
   "source": [
    "summary(hrstudy) ### of all the data (not just first 6 rows)"
   ]
  },
  {
   "cell_type": "markdown",
   "metadata": {},
   "source": [
    "<font size=3 color='blue'> Question 1: Assign appropriate levels of measurement to each variable. </font>"
   ]
  },
  {
   "cell_type": "code",
   "execution_count": 15,
   "metadata": {},
   "outputs": [],
   "source": [
    "gender <- hrstudy[[1]]"
   ]
  },
  {
   "cell_type": "code",
   "execution_count": 16,
   "metadata": {},
   "outputs": [],
   "source": [
    "age <- hrstudy[[2]]"
   ]
  },
  {
   "cell_type": "code",
   "execution_count": 32,
   "metadata": {},
   "outputs": [],
   "source": [
    "diet <- hrstudy[[3]]"
   ]
  },
  {
   "cell_type": "code",
   "execution_count": 33,
   "metadata": {},
   "outputs": [],
   "source": [
    "weight <- hrstudy[[4]]"
   ]
  },
  {
   "cell_type": "markdown",
   "metadata": {},
   "source": [
    "<font size=3 color='blue'> Question 2: Draw a pie chart to illustrate the proportion of participants in each diet category. </font>"
   ]
  },
  {
   "cell_type": "code",
   "execution_count": 37,
   "metadata": {},
   "outputs": [
    {
     "data": {
      "image/png": "[encoded data removed]",
      "text/plain": [
       "Plot with title \"Pie Chart of Diet\""
      ]
     },
     "metadata": {},
     "output_type": "display_data"
    }
   ],
   "source": [
    "# Pie Chart with Percentages\n",
    "slices <- c(sum(diet==\"excellent\"), sum(diet==\"good\"), sum(diet==\"moderate\"), sum(diet==\"poor\")) \n",
    "lbls <- c('excellent', 'good', 'moderate', 'poor')\n",
    "pct <- round(slices/sum(slices)*100)\n",
    "lbls <- paste(lbls, pct)       # add percents to labels \n",
    "lbls <- paste(lbls,\"%\",sep=\"\") # ad % to labels \n",
    "pie(slices,labels = lbls, col=rainbow(length(lbls)),\n",
    "   main=\"Pie Chart of Diet\")"
   ]
  },
  {
   "cell_type": "markdown",
   "metadata": {},
   "source": [
    "<font size=3 color='blue'> Question 3: Draw a histogram to illustrate the age distribution of the participants </font>"
   ]
  },
  {
   "cell_type": "code",
   "execution_count": 38,
   "metadata": {},
   "outputs": [
    {
     "data": {
      "image/png": "[encoded data removed]",
      "text/plain": [
       "Plot with title \"Histogram of age\""
      ]
     },
     "metadata": {},
     "output_type": "display_data"
    }
   ],
   "source": [
    "hist(age, freq=FALSE, col=\"cyan\")\n",
    "lines(density(age),col='red',lwd=5)"
   ]
  },
  {
   "cell_type": "markdown",
   "metadata": {},
   "source": [
    "<font size=3 color='blue'> Question 4: Draw a bar chart to illustrate the relative proportion of participants in each diet. </font>"
   ]
  },
  {
   "cell_type": "code",
   "execution_count": 49,
   "metadata": {},
   "outputs": [
    {
     "data": {
      "image/png": "[encoded data removed]",
      "text/plain": [
       "Plot with title \"Diet\""
      ]
     },
     "metadata": {},
     "output_type": "display_data"
    }
   ],
   "source": [
    "### barplot fror Diet\n",
    "counts<-c(sum(diet==\"excellent\"), sum(diet==\"good\"), sum(diet==\"moderate\"), sum(diet==\"poor\"))\n",
    "barplot(counts, main='Diet', horiz=F, names.arg=c('excellent', 'good', 'moderate', 'poor'),ylab='counts')"
   ]
  },
  {
   "cell_type": "markdown",
   "metadata": {},
   "source": [
    "<font size=3 color='blue'> Question 5: Draw a clustered bar chart to group the participants according to diet and gender. </font>"
   ]
  },
  {
   "cell_type": "code",
   "execution_count": 51,
   "metadata": {},
   "outputs": [
    {
     "data": {
      "text/html": [
       "<table>\n",
       "<tbody>\n",
       "\t<tr><th scope=row>countsfemale</th><td>0 </td><td>19</td><td>13</td><td>15</td></tr>\n",
       "\t<tr><th scope=row>countsmale</th><td>0 </td><td>13</td><td>19</td><td>21</td></tr>\n",
       "</tbody>\n",
       "</table>\n"
      ],
      "text/latex": [
       "\\begin{tabular}{r|llll}\n",
       "\tcountsfemale & 0  & 19 & 13 & 15\\\\\n",
       "\tcountsmale & 0  & 13 & 19 & 21\\\\\n",
       "\\end{tabular}\n"
      ],
      "text/markdown": [
       "\n",
       "| countsfemale | 0  | 19 | 13 | 15 |\n",
       "| countsmale | 0  | 13 | 19 | 21 |\n",
       "\n"
      ],
      "text/plain": [
       "             [,1] [,2] [,3] [,4]\n",
       "countsfemale 0    19   13   15  \n",
       "countsmale   0    13   19   21  "
      ]
     },
     "metadata": {},
     "output_type": "display_data"
    }
   ],
   "source": [
    "### Stacked barplot\n",
    "countsmale<-c(sum( (diet==\"excellent\") & (gender==\"male\") ), \n",
    "               sum( (diet==\"good\") & (gender==\"male\") ),\n",
    "               sum( (diet==\"moderate\") & (gender==\"male\") ),\n",
    "               sum( (diet==\"poor\") & (gender==\"male\") ))\n",
    "    \n",
    "countsfemale<-c(sum( (diet==\"excellent\") & (gender==\"female\") ), \n",
    "                 sum( (diet==\"good\") & (gender==\"female\") ),\n",
    "                 sum( (diet==\"moderate\") & (gender==\"female\") ),\n",
    "                 sum( (diet==\"poor\") & (gender==\"female\") ))\n",
    "\n",
    "StCounts<-rbind(countsfemale,countsmale)\n",
    "\n",
    "StCounts"
   ]
  },
  {
   "cell_type": "code",
   "execution_count": 60,
   "metadata": {},
   "outputs": [
    {
     "data": {
      "image/png": "[encoded data removed]",
      "text/plain": [
       "Plot with title \"Diet + Gender\""
      ]
     },
     "metadata": {},
     "output_type": "display_data"
    }
   ],
   "source": [
    "barplot(StCounts, horiz=F, names.arg=c('Excellent', 'Good', 'Moderate', 'Poor'), ylab='Counts',  \n",
    "        main='Diet + Gender', xlab='Diet', col=c('pink','lightblue'), \n",
    "        legend.text = c('Female','Male'),\n",
    "        args.legend = list(x = \"topleft\",col=c('pink','lightblue')))"
   ]
  },
  {
   "cell_type": "markdown",
   "metadata": {},
   "source": [
    "<font size=3 color='blue'> Question 6: Draw a box-plot of the age distribution in each diet category and make a note of any\n",
    "outliers. </font>"
   ]
  },
  {
   "cell_type": "code",
   "execution_count": 62,
   "metadata": {},
   "outputs": [
    {
     "data": {
      "image/png": "[encoded data removed]",
      "text/plain": [
       "Plot with title \"Age Distributions of Diet\""
      ]
     },
     "metadata": {},
     "output_type": "display_data"
    }
   ],
   "source": [
    "boxplot(age~diet,xlab='Diet',names.arg=c('Excellent', 'Good', 'Moderate', 'Poor'), ylab='Age',\n",
    "        col='lightgreen', main='Age Distributions of Diet')"
   ]
  }
 ],
 "metadata": {
  "kernelspec": {
   "display_name": "R",
   "language": "R",
   "name": "ir"
  },
  "language_info": {
   "codemirror_mode": "r",
   "file_extension": ".r",
   "mimetype": "text/x-r-source",
   "name": "R",
   "pygments_lexer": "r",
   "version": "3.6.1"
  }
 },
 "nbformat": 4,
 "nbformat_minor": 2
}
